{
  "nbformat": 4,
  "nbformat_minor": 0,
  "metadata": {
    "colab": {
      "name": "08_introduction_do_nlp_in_tensorflow.ipynb",
      "provenance": [],
      "collapsed_sections": [
        "891SvHGy991A",
        "fevPydbWA_rq",
        "SG_4pCDUK2FT",
        "zCdtFjQoOcTg",
        "bCpPhh8vTfu-",
        "Bpb-HqSiTs19",
        "-5rVKM5pdCth",
        "Eh0gYtiSixy-",
        "AKSOA9zKqSu5",
        "w2U6rw8zrit7",
        "qS4T1WqckMEH",
        "71jMIkW0zuet",
        "yHIBSBkybR1-",
        "isdGuC5odXme",
        "a9UGlkOim3Dm",
        "Skbjxtz3A3DF",
        "9jug2V0J7sqY",
        "8bCF3XTyAokj",
        "YtJvpvQPBvPu",
        "XfMazJDsJr2E",
        "tDVGZViGONMb",
        "1Vg8ornARO6y",
        "TcLcUtAspg4d"
      ],
      "include_colab_link": true
    },
    "kernelspec": {
      "name": "python3",
      "display_name": "Python 3"
    },
    "language_info": {
      "name": "python"
    },
    "accelerator": "GPU"
  },
  "cells": [
    {
      "cell_type": "markdown",
      "metadata": {
        "id": "view-in-github",
        "colab_type": "text"
      },
      "source": [
        "<a href=\"https://colab.research.google.com/github/cherylktt/tensorflow/blob/main/08_introduction_do_nlp_in_tensorflow.ipynb\" target=\"_parent\"><img src=\"https://colab.research.google.com/assets/colab-badge.svg\" alt=\"Open In Colab\"/></a>"
      ]
    },
    {
      "cell_type": "markdown",
      "source": [
        "# Introduction to NLP Fundamentals in TensorFlow\n",
        "\n",
        "NLP has the goal of deriving information out of natural language (could be sequences of text or speech). Another common term for NLP problems is sequence to sequence problems (seq2seq)."
      ],
      "metadata": {
        "id": "DEH1qHiTvYS1"
      }
    },
    {
      "cell_type": "markdown",
      "source": [
        "## Check for GPU"
      ],
      "metadata": {
        "id": "MrZxe-nv2lFg"
      }
    },
    {
      "cell_type": "code",
      "source": [
        "!nvidia-smi -L"
      ],
      "metadata": {
        "colab": {
          "base_uri": "https://localhost:8080/"
        },
        "id": "sKqkCqSW2sfD",
        "outputId": "322ad7be-4920-4410-f3d2-8f557e2205bc"
      },
      "execution_count": null,
      "outputs": [
        {
          "output_type": "stream",
          "name": "stdout",
          "text": [
            "GPU 0: Tesla K80 (UUID: GPU-2ab167f3-2b6d-3523-5f67-378f77c47bb5)\n"
          ]
        }
      ]
    },
    {
      "cell_type": "markdown",
      "source": [
        "## Get helper functions"
      ],
      "metadata": {
        "id": "9Q94T5XB2t4S"
      }
    },
    {
      "cell_type": "code",
      "source": [
        "!wget https://raw.githubusercontent.com/cherylktt/tensorflow/main/helper_functions.py"
      ],
      "metadata": {
        "colab": {
          "base_uri": "https://localhost:8080/"
        },
        "id": "9IewuHS525Uf",
        "outputId": "439e2ba8-e14c-44fb-d6c2-38031b427b3c"
      },
      "execution_count": null,
      "outputs": [
        {
          "output_type": "stream",
          "name": "stdout",
          "text": [
            "--2022-04-27 15:55:16--  https://raw.githubusercontent.com/cherylktt/tensorflow/main/helper_functions.py\n",
            "Resolving raw.githubusercontent.com (raw.githubusercontent.com)... 185.199.108.133, 185.199.109.133, 185.199.110.133, ...\n",
            "Connecting to raw.githubusercontent.com (raw.githubusercontent.com)|185.199.108.133|:443... connected.\n",
            "HTTP request sent, awaiting response... 200 OK\n",
            "Length: 14532 (14K) [text/plain]\n",
            "Saving to: ‘helper_functions.py’\n",
            "\n",
            "helper_functions.py 100%[===================>]  14.19K  --.-KB/s    in 0.001s  \n",
            "\n",
            "2022-04-27 15:55:17 (24.8 MB/s) - ‘helper_functions.py’ saved [14532/14532]\n",
            "\n"
          ]
        }
      ]
    },
    {
      "cell_type": "markdown",
      "source": [
        "## Get a text dataset\n",
        "\n",
        "The dataset we're going to be using is Kaggle's introduction to NLP dataset (text samples of Tweets labelled as disaster of not disaster).\n",
        "\n",
        "See the original source here: https://www.kaggle.com/competitions/nlp-getting-started"
      ],
      "metadata": {
        "id": "Bh_LcJ3v28Zp"
      }
    },
    {
      "cell_type": "code",
      "source": [
        "from helper_functions import unzip_data\n",
        "!wget https://storage.googleapis.com/ztm_tf_course/nlp_getting_started.zip\n",
        "\n",
        "# Unzip data\n",
        "unzip_data(\"nlp_getting_started.zip\")"
      ],
      "metadata": {
        "colab": {
          "base_uri": "https://localhost:8080/"
        },
        "id": "G4UsvOY73_Kk",
        "outputId": "a67f6c27-104c-4951-9bce-5f938c20ffc6"
      },
      "execution_count": null,
      "outputs": [
        {
          "output_type": "stream",
          "name": "stdout",
          "text": [
            "--2022-04-27 15:55:25--  https://storage.googleapis.com/ztm_tf_course/nlp_getting_started.zip\n",
            "Resolving storage.googleapis.com (storage.googleapis.com)... 108.177.97.128, 108.177.125.128, 142.250.157.128, ...\n",
            "Connecting to storage.googleapis.com (storage.googleapis.com)|108.177.97.128|:443... connected.\n",
            "HTTP request sent, awaiting response... 200 OK\n",
            "Length: 607343 (593K) [application/zip]\n",
            "Saving to: ‘nlp_getting_started.zip’\n",
            "\n",
            "\rnlp_getting_started   0%[                    ]       0  --.-KB/s               \rnlp_getting_started 100%[===================>] 593.11K  --.-KB/s    in 0.007s  \n",
            "\n",
            "2022-04-27 15:55:25 (89.0 MB/s) - ‘nlp_getting_started.zip’ saved [607343/607343]\n",
            "\n"
          ]
        }
      ]
    },
    {
      "cell_type": "markdown",
      "source": [
        "## Visualising a text dataset\n",
        "\n",
        "To visualise our text samples, we first have to read them in, one way to do so would be to use [Python](https://realpython.com/read-write-files-python/).\n",
        "\n",
        "Another way is to use `pandas` or [TensorFlow](https://www.tensorflow.org/tutorials/load_data/text)."
      ],
      "metadata": {
        "id": "xGWJG5mb4DQJ"
      }
    },
    {
      "cell_type": "code",
      "source": [
        "import pandas as pd\n",
        "train_df = pd.read_csv(\"train.csv\")\n",
        "test_df = pd.read_csv(\"test.csv\")\n",
        "\n",
        "train_df.head()"
      ],
      "metadata": {
        "colab": {
          "base_uri": "https://localhost:8080/",
          "height": 206
        },
        "id": "r9q9JH6o5Ci6",
        "outputId": "e6ce26d8-97eb-47c6-ff04-92b556955122"
      },
      "execution_count": null,
      "outputs": [
        {
          "output_type": "execute_result",
          "data": {
            "text/plain": [
              "   id keyword location                                               text  \\\n",
              "0   1     NaN      NaN  Our Deeds are the Reason of this #earthquake M...   \n",
              "1   4     NaN      NaN             Forest fire near La Ronge Sask. Canada   \n",
              "2   5     NaN      NaN  All residents asked to 'shelter in place' are ...   \n",
              "3   6     NaN      NaN  13,000 people receive #wildfires evacuation or...   \n",
              "4   7     NaN      NaN  Just got sent this photo from Ruby #Alaska as ...   \n",
              "\n",
              "   target  \n",
              "0       1  \n",
              "1       1  \n",
              "2       1  \n",
              "3       1  \n",
              "4       1  "
            ],
            "text/html": [
              "\n",
              "  <div id=\"df-0ddc3918-b17a-4d99-81b1-4168d7072786\">\n",
              "    <div class=\"colab-df-container\">\n",
              "      <div>\n",
              "<style scoped>\n",
              "    .dataframe tbody tr th:only-of-type {\n",
              "        vertical-align: middle;\n",
              "    }\n",
              "\n",
              "    .dataframe tbody tr th {\n",
              "        vertical-align: top;\n",
              "    }\n",
              "\n",
              "    .dataframe thead th {\n",
              "        text-align: right;\n",
              "    }\n",
              "</style>\n",
              "<table border=\"1\" class=\"dataframe\">\n",
              "  <thead>\n",
              "    <tr style=\"text-align: right;\">\n",
              "      <th></th>\n",
              "      <th>id</th>\n",
              "      <th>keyword</th>\n",
              "      <th>location</th>\n",
              "      <th>text</th>\n",
              "      <th>target</th>\n",
              "    </tr>\n",
              "  </thead>\n",
              "  <tbody>\n",
              "    <tr>\n",
              "      <th>0</th>\n",
              "      <td>1</td>\n",
              "      <td>NaN</td>\n",
              "      <td>NaN</td>\n",
              "      <td>Our Deeds are the Reason of this #earthquake M...</td>\n",
              "      <td>1</td>\n",
              "    </tr>\n",
              "    <tr>\n",
              "      <th>1</th>\n",
              "      <td>4</td>\n",
              "      <td>NaN</td>\n",
              "      <td>NaN</td>\n",
              "      <td>Forest fire near La Ronge Sask. Canada</td>\n",
              "      <td>1</td>\n",
              "    </tr>\n",
              "    <tr>\n",
              "      <th>2</th>\n",
              "      <td>5</td>\n",
              "      <td>NaN</td>\n",
              "      <td>NaN</td>\n",
              "      <td>All residents asked to 'shelter in place' are ...</td>\n",
              "      <td>1</td>\n",
              "    </tr>\n",
              "    <tr>\n",
              "      <th>3</th>\n",
              "      <td>6</td>\n",
              "      <td>NaN</td>\n",
              "      <td>NaN</td>\n",
              "      <td>13,000 people receive #wildfires evacuation or...</td>\n",
              "      <td>1</td>\n",
              "    </tr>\n",
              "    <tr>\n",
              "      <th>4</th>\n",
              "      <td>7</td>\n",
              "      <td>NaN</td>\n",
              "      <td>NaN</td>\n",
              "      <td>Just got sent this photo from Ruby #Alaska as ...</td>\n",
              "      <td>1</td>\n",
              "    </tr>\n",
              "  </tbody>\n",
              "</table>\n",
              "</div>\n",
              "      <button class=\"colab-df-convert\" onclick=\"convertToInteractive('df-0ddc3918-b17a-4d99-81b1-4168d7072786')\"\n",
              "              title=\"Convert this dataframe to an interactive table.\"\n",
              "              style=\"display:none;\">\n",
              "        \n",
              "  <svg xmlns=\"http://www.w3.org/2000/svg\" height=\"24px\"viewBox=\"0 0 24 24\"\n",
              "       width=\"24px\">\n",
              "    <path d=\"M0 0h24v24H0V0z\" fill=\"none\"/>\n",
              "    <path d=\"M18.56 5.44l.94 2.06.94-2.06 2.06-.94-2.06-.94-.94-2.06-.94 2.06-2.06.94zm-11 1L8.5 8.5l.94-2.06 2.06-.94-2.06-.94L8.5 2.5l-.94 2.06-2.06.94zm10 10l.94 2.06.94-2.06 2.06-.94-2.06-.94-.94-2.06-.94 2.06-2.06.94z\"/><path d=\"M17.41 7.96l-1.37-1.37c-.4-.4-.92-.59-1.43-.59-.52 0-1.04.2-1.43.59L10.3 9.45l-7.72 7.72c-.78.78-.78 2.05 0 2.83L4 21.41c.39.39.9.59 1.41.59.51 0 1.02-.2 1.41-.59l7.78-7.78 2.81-2.81c.8-.78.8-2.07 0-2.86zM5.41 20L4 18.59l7.72-7.72 1.47 1.35L5.41 20z\"/>\n",
              "  </svg>\n",
              "      </button>\n",
              "      \n",
              "  <style>\n",
              "    .colab-df-container {\n",
              "      display:flex;\n",
              "      flex-wrap:wrap;\n",
              "      gap: 12px;\n",
              "    }\n",
              "\n",
              "    .colab-df-convert {\n",
              "      background-color: #E8F0FE;\n",
              "      border: none;\n",
              "      border-radius: 50%;\n",
              "      cursor: pointer;\n",
              "      display: none;\n",
              "      fill: #1967D2;\n",
              "      height: 32px;\n",
              "      padding: 0 0 0 0;\n",
              "      width: 32px;\n",
              "    }\n",
              "\n",
              "    .colab-df-convert:hover {\n",
              "      background-color: #E2EBFA;\n",
              "      box-shadow: 0px 1px 2px rgba(60, 64, 67, 0.3), 0px 1px 3px 1px rgba(60, 64, 67, 0.15);\n",
              "      fill: #174EA6;\n",
              "    }\n",
              "\n",
              "    [theme=dark] .colab-df-convert {\n",
              "      background-color: #3B4455;\n",
              "      fill: #D2E3FC;\n",
              "    }\n",
              "\n",
              "    [theme=dark] .colab-df-convert:hover {\n",
              "      background-color: #434B5C;\n",
              "      box-shadow: 0px 1px 3px 1px rgba(0, 0, 0, 0.15);\n",
              "      filter: drop-shadow(0px 1px 2px rgba(0, 0, 0, 0.3));\n",
              "      fill: #FFFFFF;\n",
              "    }\n",
              "  </style>\n",
              "\n",
              "      <script>\n",
              "        const buttonEl =\n",
              "          document.querySelector('#df-0ddc3918-b17a-4d99-81b1-4168d7072786 button.colab-df-convert');\n",
              "        buttonEl.style.display =\n",
              "          google.colab.kernel.accessAllowed ? 'block' : 'none';\n",
              "\n",
              "        async function convertToInteractive(key) {\n",
              "          const element = document.querySelector('#df-0ddc3918-b17a-4d99-81b1-4168d7072786');\n",
              "          const dataTable =\n",
              "            await google.colab.kernel.invokeFunction('convertToInteractive',\n",
              "                                                     [key], {});\n",
              "          if (!dataTable) return;\n",
              "\n",
              "          const docLinkHtml = 'Like what you see? Visit the ' +\n",
              "            '<a target=\"_blank\" href=https://colab.research.google.com/notebooks/data_table.ipynb>data table notebook</a>'\n",
              "            + ' to learn more about interactive tables.';\n",
              "          element.innerHTML = '';\n",
              "          dataTable['output_type'] = 'display_data';\n",
              "          await google.colab.output.renderOutput(dataTable, element);\n",
              "          const docLink = document.createElement('div');\n",
              "          docLink.innerHTML = docLinkHtml;\n",
              "          element.appendChild(docLink);\n",
              "        }\n",
              "      </script>\n",
              "    </div>\n",
              "  </div>\n",
              "  "
            ]
          },
          "metadata": {},
          "execution_count": 3
        }
      ]
    },
    {
      "cell_type": "markdown",
      "source": [
        "> 1 is for disater, 0 is for not disaster."
      ],
      "metadata": {
        "id": "VACzV_B-6epJ"
      }
    },
    {
      "cell_type": "code",
      "source": [
        "# Shuffle training dataframe\n",
        "train_df_shuffled = train_df.sample(frac=1, random_state=42)\n",
        "train_df_shuffled.head()"
      ],
      "metadata": {
        "colab": {
          "base_uri": "https://localhost:8080/",
          "height": 206
        },
        "id": "YD2hW2T752GM",
        "outputId": "aaa10500-1514-4221-ced1-59af21633d5a"
      },
      "execution_count": null,
      "outputs": [
        {
          "output_type": "execute_result",
          "data": {
            "text/plain": [
              "        id      keyword               location  \\\n",
              "2644  3796  destruction                    NaN   \n",
              "2227  3185       deluge                    NaN   \n",
              "5448  7769       police                     UK   \n",
              "132    191   aftershock                    NaN   \n",
              "6845  9810       trauma  Montgomery County, MD   \n",
              "\n",
              "                                                   text  target  \n",
              "2644  So you have a new weapon that can cause un-ima...       1  \n",
              "2227  The f$&amp;@ing things I do for #GISHWHES Just...       0  \n",
              "5448  DT @georgegalloway: RT @Galloway4Mayor: ÛÏThe...       1  \n",
              "132   Aftershock back to school kick off was great. ...       0  \n",
              "6845  in response to trauma Children of Addicts deve...       0  "
            ],
            "text/html": [
              "\n",
              "  <div id=\"df-a16dc9aa-212e-4b0c-ae38-3e4e017dd2f2\">\n",
              "    <div class=\"colab-df-container\">\n",
              "      <div>\n",
              "<style scoped>\n",
              "    .dataframe tbody tr th:only-of-type {\n",
              "        vertical-align: middle;\n",
              "    }\n",
              "\n",
              "    .dataframe tbody tr th {\n",
              "        vertical-align: top;\n",
              "    }\n",
              "\n",
              "    .dataframe thead th {\n",
              "        text-align: right;\n",
              "    }\n",
              "</style>\n",
              "<table border=\"1\" class=\"dataframe\">\n",
              "  <thead>\n",
              "    <tr style=\"text-align: right;\">\n",
              "      <th></th>\n",
              "      <th>id</th>\n",
              "      <th>keyword</th>\n",
              "      <th>location</th>\n",
              "      <th>text</th>\n",
              "      <th>target</th>\n",
              "    </tr>\n",
              "  </thead>\n",
              "  <tbody>\n",
              "    <tr>\n",
              "      <th>2644</th>\n",
              "      <td>3796</td>\n",
              "      <td>destruction</td>\n",
              "      <td>NaN</td>\n",
              "      <td>So you have a new weapon that can cause un-ima...</td>\n",
              "      <td>1</td>\n",
              "    </tr>\n",
              "    <tr>\n",
              "      <th>2227</th>\n",
              "      <td>3185</td>\n",
              "      <td>deluge</td>\n",
              "      <td>NaN</td>\n",
              "      <td>The f$&amp;amp;@ing things I do for #GISHWHES Just...</td>\n",
              "      <td>0</td>\n",
              "    </tr>\n",
              "    <tr>\n",
              "      <th>5448</th>\n",
              "      <td>7769</td>\n",
              "      <td>police</td>\n",
              "      <td>UK</td>\n",
              "      <td>DT @georgegalloway: RT @Galloway4Mayor: ÛÏThe...</td>\n",
              "      <td>1</td>\n",
              "    </tr>\n",
              "    <tr>\n",
              "      <th>132</th>\n",
              "      <td>191</td>\n",
              "      <td>aftershock</td>\n",
              "      <td>NaN</td>\n",
              "      <td>Aftershock back to school kick off was great. ...</td>\n",
              "      <td>0</td>\n",
              "    </tr>\n",
              "    <tr>\n",
              "      <th>6845</th>\n",
              "      <td>9810</td>\n",
              "      <td>trauma</td>\n",
              "      <td>Montgomery County, MD</td>\n",
              "      <td>in response to trauma Children of Addicts deve...</td>\n",
              "      <td>0</td>\n",
              "    </tr>\n",
              "  </tbody>\n",
              "</table>\n",
              "</div>\n",
              "      <button class=\"colab-df-convert\" onclick=\"convertToInteractive('df-a16dc9aa-212e-4b0c-ae38-3e4e017dd2f2')\"\n",
              "              title=\"Convert this dataframe to an interactive table.\"\n",
              "              style=\"display:none;\">\n",
              "        \n",
              "  <svg xmlns=\"http://www.w3.org/2000/svg\" height=\"24px\"viewBox=\"0 0 24 24\"\n",
              "       width=\"24px\">\n",
              "    <path d=\"M0 0h24v24H0V0z\" fill=\"none\"/>\n",
              "    <path d=\"M18.56 5.44l.94 2.06.94-2.06 2.06-.94-2.06-.94-.94-2.06-.94 2.06-2.06.94zm-11 1L8.5 8.5l.94-2.06 2.06-.94-2.06-.94L8.5 2.5l-.94 2.06-2.06.94zm10 10l.94 2.06.94-2.06 2.06-.94-2.06-.94-.94-2.06-.94 2.06-2.06.94z\"/><path d=\"M17.41 7.96l-1.37-1.37c-.4-.4-.92-.59-1.43-.59-.52 0-1.04.2-1.43.59L10.3 9.45l-7.72 7.72c-.78.78-.78 2.05 0 2.83L4 21.41c.39.39.9.59 1.41.59.51 0 1.02-.2 1.41-.59l7.78-7.78 2.81-2.81c.8-.78.8-2.07 0-2.86zM5.41 20L4 18.59l7.72-7.72 1.47 1.35L5.41 20z\"/>\n",
              "  </svg>\n",
              "      </button>\n",
              "      \n",
              "  <style>\n",
              "    .colab-df-container {\n",
              "      display:flex;\n",
              "      flex-wrap:wrap;\n",
              "      gap: 12px;\n",
              "    }\n",
              "\n",
              "    .colab-df-convert {\n",
              "      background-color: #E8F0FE;\n",
              "      border: none;\n",
              "      border-radius: 50%;\n",
              "      cursor: pointer;\n",
              "      display: none;\n",
              "      fill: #1967D2;\n",
              "      height: 32px;\n",
              "      padding: 0 0 0 0;\n",
              "      width: 32px;\n",
              "    }\n",
              "\n",
              "    .colab-df-convert:hover {\n",
              "      background-color: #E2EBFA;\n",
              "      box-shadow: 0px 1px 2px rgba(60, 64, 67, 0.3), 0px 1px 3px 1px rgba(60, 64, 67, 0.15);\n",
              "      fill: #174EA6;\n",
              "    }\n",
              "\n",
              "    [theme=dark] .colab-df-convert {\n",
              "      background-color: #3B4455;\n",
              "      fill: #D2E3FC;\n",
              "    }\n",
              "\n",
              "    [theme=dark] .colab-df-convert:hover {\n",
              "      background-color: #434B5C;\n",
              "      box-shadow: 0px 1px 3px 1px rgba(0, 0, 0, 0.15);\n",
              "      filter: drop-shadow(0px 1px 2px rgba(0, 0, 0, 0.3));\n",
              "      fill: #FFFFFF;\n",
              "    }\n",
              "  </style>\n",
              "\n",
              "      <script>\n",
              "        const buttonEl =\n",
              "          document.querySelector('#df-a16dc9aa-212e-4b0c-ae38-3e4e017dd2f2 button.colab-df-convert');\n",
              "        buttonEl.style.display =\n",
              "          google.colab.kernel.accessAllowed ? 'block' : 'none';\n",
              "\n",
              "        async function convertToInteractive(key) {\n",
              "          const element = document.querySelector('#df-a16dc9aa-212e-4b0c-ae38-3e4e017dd2f2');\n",
              "          const dataTable =\n",
              "            await google.colab.kernel.invokeFunction('convertToInteractive',\n",
              "                                                     [key], {});\n",
              "          if (!dataTable) return;\n",
              "\n",
              "          const docLinkHtml = 'Like what you see? Visit the ' +\n",
              "            '<a target=\"_blank\" href=https://colab.research.google.com/notebooks/data_table.ipynb>data table notebook</a>'\n",
              "            + ' to learn more about interactive tables.';\n",
              "          element.innerHTML = '';\n",
              "          dataTable['output_type'] = 'display_data';\n",
              "          await google.colab.output.renderOutput(dataTable, element);\n",
              "          const docLink = document.createElement('div');\n",
              "          docLink.innerHTML = docLinkHtml;\n",
              "          element.appendChild(docLink);\n",
              "        }\n",
              "      </script>\n",
              "    </div>\n",
              "  </div>\n",
              "  "
            ]
          },
          "metadata": {},
          "execution_count": 4
        }
      ]
    },
    {
      "cell_type": "code",
      "source": [
        "# What does the test dataframe look like?\n",
        "test_df.head()"
      ],
      "metadata": {
        "colab": {
          "base_uri": "https://localhost:8080/",
          "height": 206
        },
        "id": "hN9NImR56I-s",
        "outputId": "ead84150-0815-444c-b5a2-a396973448ca"
      },
      "execution_count": null,
      "outputs": [
        {
          "output_type": "execute_result",
          "data": {
            "text/plain": [
              "   id keyword location                                               text\n",
              "0   0     NaN      NaN                 Just happened a terrible car crash\n",
              "1   2     NaN      NaN  Heard about #earthquake is different cities, s...\n",
              "2   3     NaN      NaN  there is a forest fire at spot pond, geese are...\n",
              "3   9     NaN      NaN           Apocalypse lighting. #Spokane #wildfires\n",
              "4  11     NaN      NaN      Typhoon Soudelor kills 28 in China and Taiwan"
            ],
            "text/html": [
              "\n",
              "  <div id=\"df-15234566-fa44-498a-8743-cc9d45e0a11a\">\n",
              "    <div class=\"colab-df-container\">\n",
              "      <div>\n",
              "<style scoped>\n",
              "    .dataframe tbody tr th:only-of-type {\n",
              "        vertical-align: middle;\n",
              "    }\n",
              "\n",
              "    .dataframe tbody tr th {\n",
              "        vertical-align: top;\n",
              "    }\n",
              "\n",
              "    .dataframe thead th {\n",
              "        text-align: right;\n",
              "    }\n",
              "</style>\n",
              "<table border=\"1\" class=\"dataframe\">\n",
              "  <thead>\n",
              "    <tr style=\"text-align: right;\">\n",
              "      <th></th>\n",
              "      <th>id</th>\n",
              "      <th>keyword</th>\n",
              "      <th>location</th>\n",
              "      <th>text</th>\n",
              "    </tr>\n",
              "  </thead>\n",
              "  <tbody>\n",
              "    <tr>\n",
              "      <th>0</th>\n",
              "      <td>0</td>\n",
              "      <td>NaN</td>\n",
              "      <td>NaN</td>\n",
              "      <td>Just happened a terrible car crash</td>\n",
              "    </tr>\n",
              "    <tr>\n",
              "      <th>1</th>\n",
              "      <td>2</td>\n",
              "      <td>NaN</td>\n",
              "      <td>NaN</td>\n",
              "      <td>Heard about #earthquake is different cities, s...</td>\n",
              "    </tr>\n",
              "    <tr>\n",
              "      <th>2</th>\n",
              "      <td>3</td>\n",
              "      <td>NaN</td>\n",
              "      <td>NaN</td>\n",
              "      <td>there is a forest fire at spot pond, geese are...</td>\n",
              "    </tr>\n",
              "    <tr>\n",
              "      <th>3</th>\n",
              "      <td>9</td>\n",
              "      <td>NaN</td>\n",
              "      <td>NaN</td>\n",
              "      <td>Apocalypse lighting. #Spokane #wildfires</td>\n",
              "    </tr>\n",
              "    <tr>\n",
              "      <th>4</th>\n",
              "      <td>11</td>\n",
              "      <td>NaN</td>\n",
              "      <td>NaN</td>\n",
              "      <td>Typhoon Soudelor kills 28 in China and Taiwan</td>\n",
              "    </tr>\n",
              "  </tbody>\n",
              "</table>\n",
              "</div>\n",
              "      <button class=\"colab-df-convert\" onclick=\"convertToInteractive('df-15234566-fa44-498a-8743-cc9d45e0a11a')\"\n",
              "              title=\"Convert this dataframe to an interactive table.\"\n",
              "              style=\"display:none;\">\n",
              "        \n",
              "  <svg xmlns=\"http://www.w3.org/2000/svg\" height=\"24px\"viewBox=\"0 0 24 24\"\n",
              "       width=\"24px\">\n",
              "    <path d=\"M0 0h24v24H0V0z\" fill=\"none\"/>\n",
              "    <path d=\"M18.56 5.44l.94 2.06.94-2.06 2.06-.94-2.06-.94-.94-2.06-.94 2.06-2.06.94zm-11 1L8.5 8.5l.94-2.06 2.06-.94-2.06-.94L8.5 2.5l-.94 2.06-2.06.94zm10 10l.94 2.06.94-2.06 2.06-.94-2.06-.94-.94-2.06-.94 2.06-2.06.94z\"/><path d=\"M17.41 7.96l-1.37-1.37c-.4-.4-.92-.59-1.43-.59-.52 0-1.04.2-1.43.59L10.3 9.45l-7.72 7.72c-.78.78-.78 2.05 0 2.83L4 21.41c.39.39.9.59 1.41.59.51 0 1.02-.2 1.41-.59l7.78-7.78 2.81-2.81c.8-.78.8-2.07 0-2.86zM5.41 20L4 18.59l7.72-7.72 1.47 1.35L5.41 20z\"/>\n",
              "  </svg>\n",
              "      </button>\n",
              "      \n",
              "  <style>\n",
              "    .colab-df-container {\n",
              "      display:flex;\n",
              "      flex-wrap:wrap;\n",
              "      gap: 12px;\n",
              "    }\n",
              "\n",
              "    .colab-df-convert {\n",
              "      background-color: #E8F0FE;\n",
              "      border: none;\n",
              "      border-radius: 50%;\n",
              "      cursor: pointer;\n",
              "      display: none;\n",
              "      fill: #1967D2;\n",
              "      height: 32px;\n",
              "      padding: 0 0 0 0;\n",
              "      width: 32px;\n",
              "    }\n",
              "\n",
              "    .colab-df-convert:hover {\n",
              "      background-color: #E2EBFA;\n",
              "      box-shadow: 0px 1px 2px rgba(60, 64, 67, 0.3), 0px 1px 3px 1px rgba(60, 64, 67, 0.15);\n",
              "      fill: #174EA6;\n",
              "    }\n",
              "\n",
              "    [theme=dark] .colab-df-convert {\n",
              "      background-color: #3B4455;\n",
              "      fill: #D2E3FC;\n",
              "    }\n",
              "\n",
              "    [theme=dark] .colab-df-convert:hover {\n",
              "      background-color: #434B5C;\n",
              "      box-shadow: 0px 1px 3px 1px rgba(0, 0, 0, 0.15);\n",
              "      filter: drop-shadow(0px 1px 2px rgba(0, 0, 0, 0.3));\n",
              "      fill: #FFFFFF;\n",
              "    }\n",
              "  </style>\n",
              "\n",
              "      <script>\n",
              "        const buttonEl =\n",
              "          document.querySelector('#df-15234566-fa44-498a-8743-cc9d45e0a11a button.colab-df-convert');\n",
              "        buttonEl.style.display =\n",
              "          google.colab.kernel.accessAllowed ? 'block' : 'none';\n",
              "\n",
              "        async function convertToInteractive(key) {\n",
              "          const element = document.querySelector('#df-15234566-fa44-498a-8743-cc9d45e0a11a');\n",
              "          const dataTable =\n",
              "            await google.colab.kernel.invokeFunction('convertToInteractive',\n",
              "                                                     [key], {});\n",
              "          if (!dataTable) return;\n",
              "\n",
              "          const docLinkHtml = 'Like what you see? Visit the ' +\n",
              "            '<a target=\"_blank\" href=https://colab.research.google.com/notebooks/data_table.ipynb>data table notebook</a>'\n",
              "            + ' to learn more about interactive tables.';\n",
              "          element.innerHTML = '';\n",
              "          dataTable['output_type'] = 'display_data';\n",
              "          await google.colab.output.renderOutput(dataTable, element);\n",
              "          const docLink = document.createElement('div');\n",
              "          docLink.innerHTML = docLinkHtml;\n",
              "          element.appendChild(docLink);\n",
              "        }\n",
              "      </script>\n",
              "    </div>\n",
              "  </div>\n",
              "  "
            ]
          },
          "metadata": {},
          "execution_count": 5
        }
      ]
    },
    {
      "cell_type": "code",
      "source": [
        "# How many examples of each class?\n",
        "train_df.target.value_counts()"
      ],
      "metadata": {
        "colab": {
          "base_uri": "https://localhost:8080/"
        },
        "id": "uhAi-qBm6jWF",
        "outputId": "83f73745-4b04-432d-9e12-c2c31ce4f18e"
      },
      "execution_count": null,
      "outputs": [
        {
          "output_type": "execute_result",
          "data": {
            "text/plain": [
              "0    4342\n",
              "1    3271\n",
              "Name: target, dtype: int64"
            ]
          },
          "metadata": {},
          "execution_count": 6
        }
      ]
    },
    {
      "cell_type": "markdown",
      "source": [
        "> If your data is not balanced, consider following this guide: https://www.tensorflow.org/tutorials/structured_data/imbalanced_data"
      ],
      "metadata": {
        "id": "f4Xz3QIc6sJl"
      }
    },
    {
      "cell_type": "code",
      "source": [
        "# How many total samples?\n",
        "len(train_df), len(test_df)"
      ],
      "metadata": {
        "colab": {
          "base_uri": "https://localhost:8080/"
        },
        "id": "tIpY-sUL7BTq",
        "outputId": "72b81146-bc8f-4d9b-bd11-4906da3c2036"
      },
      "execution_count": null,
      "outputs": [
        {
          "output_type": "execute_result",
          "data": {
            "text/plain": [
              "(7613, 3263)"
            ]
          },
          "metadata": {},
          "execution_count": 7
        }
      ]
    },
    {
      "cell_type": "code",
      "source": [
        "# Let's visualise some random training examples\n",
        "import random\n",
        "random_index = random.randint(0, len(train_df)-5) # create random indexes not higher than the total number of samples\n",
        "for row in train_df_shuffled[[\"text\", \"target\"]][random_index:random_index+5].itertuples():\n",
        "  _, text, target = row\n",
        "  print(f\"Target: {target}\", \"(real disaster)\" if target > 0 else \"(not real disaaster)\")\n",
        "  print(f\"Text: {text}\\n\")\n",
        "  print(\"---\\n\")"
      ],
      "metadata": {
        "colab": {
          "base_uri": "https://localhost:8080/"
        },
        "id": "wT-jbaD57Kev",
        "outputId": "d3c8ea26-d134-4ca9-e1e4-6439f85c59ae"
      },
      "execution_count": null,
      "outputs": [
        {
          "output_type": "stream",
          "name": "stdout",
          "text": [
            "Target: 0 (not real disaaster)\n",
            "Text: Fire Meet Gasoline always gotta get played twice lol\n",
            "\n",
            "---\n",
            "\n",
            "Target: 0 (not real disaaster)\n",
            "Text: We all carry these things inside that no one else can see. They hold us down like anchors they drown us out at sea.\n",
            "\n",
            "---\n",
            "\n",
            "Target: 0 (not real disaaster)\n",
            "Text: @BV Bloomberg will publish anything negative to try and derail public support in favor of the #IranDeal.\n",
            "\n",
            "---\n",
            "\n",
            "Target: 1 (real disaster)\n",
            "Text: #coppednews Haunting memories drawn by survivors http://t.co/Wx11d69gEZ\n",
            "\n",
            "---\n",
            "\n",
            "Target: 0 (not real disaaster)\n",
            "Text: How to Freeze Fruits and Veggies\n",
            "http://t.co/MET0mtpr3S\n",
            "\n",
            "---\n",
            "\n"
          ]
        }
      ]
    },
    {
      "cell_type": "markdown",
      "source": [
        "### Split data into training and validation sets"
      ],
      "metadata": {
        "id": "SApDj64S8K23"
      }
    },
    {
      "cell_type": "code",
      "source": [
        "from sklearn.model_selection import train_test_split\n",
        "\n",
        "# Use train_test_split to split training data into training and validation sets\n",
        "train_sentences, val_sentences, train_labels, val_labels = train_test_split(train_df_shuffled[\"text\"].to_numpy(),\n",
        "                                                                            train_df_shuffled[\"target\"].to_numpy(),\n",
        "                                                                            test_size=0.1,\n",
        "                                                                            random_state=42)"
      ],
      "metadata": {
        "id": "_9JarJYy9CqB"
      },
      "execution_count": null,
      "outputs": []
    },
    {
      "cell_type": "code",
      "source": [
        "# Check the lengths\n",
        "len(train_sentences), len(train_labels), len(val_sentences), len(val_labels)"
      ],
      "metadata": {
        "colab": {
          "base_uri": "https://localhost:8080/"
        },
        "id": "-Gib-DuU9vLK",
        "outputId": "5cfc9a9f-3407-4d2b-dc87-3dc6d95ef675"
      },
      "execution_count": null,
      "outputs": [
        {
          "output_type": "execute_result",
          "data": {
            "text/plain": [
              "(6851, 6851, 762, 762)"
            ]
          },
          "metadata": {},
          "execution_count": 10
        }
      ]
    },
    {
      "cell_type": "code",
      "source": [
        "# Check out the first 10 examples\n",
        "train_sentences[:10], train_labels[:10]"
      ],
      "metadata": {
        "colab": {
          "base_uri": "https://localhost:8080/"
        },
        "id": "C6tbVSoX92jI",
        "outputId": "7c0f1d00-cadc-4f8b-ba5c-e3c45d6c0d22"
      },
      "execution_count": null,
      "outputs": [
        {
          "output_type": "execute_result",
          "data": {
            "text/plain": [
              "(array(['@mogacola @zamtriossu i screamed after hitting tweet',\n",
              "        'Imagine getting flattened by Kurt Zouma',\n",
              "        '@Gurmeetramrahim #MSGDoing111WelfareWorks Green S welfare force ke appx 65000 members har time disaster victim ki help ke liye tyar hai....',\n",
              "        \"@shakjn @C7 @Magnums im shaking in fear he's gonna hack the planet\",\n",
              "        'Somehow find you and I collide http://t.co/Ee8RpOahPk',\n",
              "        '@EvaHanderek @MarleyKnysh great times until the bus driver held us hostage in the mall parking lot lmfao',\n",
              "        'destroy the free fandom honestly',\n",
              "        'Weapons stolen from National Guard Armory in New Albany still missing #Gunsense http://t.co/lKNU8902JE',\n",
              "        '@wfaaweather Pete when will the heat wave pass? Is it really going to be mid month? Frisco Boy Scouts have a canoe trip in Okla.',\n",
              "        'Patient-reported outcomes in long-term survivors of metastatic colorectal cancer - British Journal of Surgery http://t.co/5Yl4DC1Tqt'],\n",
              "       dtype=object), array([0, 0, 1, 0, 0, 1, 1, 0, 1, 1]))"
            ]
          },
          "metadata": {},
          "execution_count": 11
        }
      ]
    },
    {
      "cell_type": "markdown",
      "source": [
        "## Converting text into numbers\n",
        "\n",
        "When dealing with a text problem, one of the first things you'll have to do before you can build a model is to convert your text to numbers. There are a few ways to this, namely:\n",
        "\n",
        "* **Tokenization** - straight mapping from token to number (can be modelled but quickly gets too big)\n",
        "* **Embedding** - richer representation of relationships between tokens (can limit size + can be learned)\n",
        "\n",
        "Pre-trained word embeddings can be found here:\n",
        "* [Word2vec embeddings](http://jalammar.github.io/illustrated-word2vec/)\n",
        "* [GloVe embeddings](https://nlp.stanford.edu/projects/glove/)\n",
        "* [TensorFlow Hub](https://tfhub.dev/s?module-type=text-embedding)"
      ],
      "metadata": {
        "id": "891SvHGy991A"
      }
    },
    {
      "cell_type": "markdown",
      "source": [
        "### Text vectorization (tokenization)"
      ],
      "metadata": {
        "id": "fevPydbWA_rq"
      }
    },
    {
      "cell_type": "code",
      "source": [
        "train_sentences[:5]"
      ],
      "metadata": {
        "colab": {
          "base_uri": "https://localhost:8080/"
        },
        "id": "wLLvbakgDuI9",
        "outputId": "cf59cf65-8baf-416a-c304-17907268e94c"
      },
      "execution_count": null,
      "outputs": [
        {
          "output_type": "execute_result",
          "data": {
            "text/plain": [
              "array(['@mogacola @zamtriossu i screamed after hitting tweet',\n",
              "       'Imagine getting flattened by Kurt Zouma',\n",
              "       '@Gurmeetramrahim #MSGDoing111WelfareWorks Green S welfare force ke appx 65000 members har time disaster victim ki help ke liye tyar hai....',\n",
              "       \"@shakjn @C7 @Magnums im shaking in fear he's gonna hack the planet\",\n",
              "       'Somehow find you and I collide http://t.co/Ee8RpOahPk'],\n",
              "      dtype=object)"
            ]
          },
          "metadata": {},
          "execution_count": 12
        }
      ]
    },
    {
      "cell_type": "code",
      "source": [
        "import tensorflow as tf\n",
        "from tensorflow.keras.layers import TextVectorization\n",
        "\n",
        "# Use the default TextVectorization parameters\n",
        "text_vectorizer = TextVectorization(max_tokens=None, # how many words in the vocabulary (automatically add <OOV>)\n",
        "                                    standardize=\"lower_and_strip_punctuation\",\n",
        "                                    split=\"whitespace\",\n",
        "                                    ngrams=None, # create groups of n-words?\n",
        "                                    output_mode=\"int\", # how to map tokens to numbers\n",
        "                                    output_sequence_length=None, # how long do you want your sequences to be?\n",
        "                                    pad_to_max_tokens=False)"
      ],
      "metadata": {
        "id": "S6wco3xxDxCG"
      },
      "execution_count": null,
      "outputs": []
    },
    {
      "cell_type": "markdown",
      "source": [
        "The `TextVectorization` layer takes the following parameters:\n",
        "\n",
        "* `max_tokens` - The maximum number of words in your vocabulary (e.g. 20000 or the number of unique words in your text), includes a value for OOV (out of vocabulary) tokens.\n",
        "* `standardize` - Method for standardizing text. Default is `\"lower_and_strip_punctuation\"` which lowers text and removes all punctuation marks.\n",
        "* `split` - How to split text, default is `\"whitespace\"` which splits on spaces.\n",
        "* `ngrams` - How many words to contain per token split, for example, `ngrams=2` splits tokens into continuous sequences of 2.\n",
        "* `output_mode` - How to output tokens, can be `\"int\"` (integer mapping), `\"binary\"` (one-hot encoding), `\"count\"` or `\"tf-idf\"`. See documentation for more.\n",
        "* `output_sequence_length` - Length of tokenized sequence to output. For example, if `output_sequence_length=150`, all tokenized sequences will be 150 tokens long.\n",
        "* `pad_to_max_tokens` - Defaults to `False`, if `True`, the output feature axis will be padded to `max_tokens` even if the number of unique tokens in the vocabulary is less than `max_tokens`."
      ],
      "metadata": {
        "id": "Zgkgb6C8D2Es"
      }
    },
    {
      "cell_type": "code",
      "source": [
        "train_sentences[0].split(), len(train_sentences[0].split())"
      ],
      "metadata": {
        "colab": {
          "base_uri": "https://localhost:8080/"
        },
        "id": "rsWBa4JHHsdx",
        "outputId": "4b8d42dc-2f4b-46f0-db46-42d3190c6cd7"
      },
      "execution_count": null,
      "outputs": [
        {
          "output_type": "execute_result",
          "data": {
            "text/plain": [
              "(['@mogacola', '@zamtriossu', 'i', 'screamed', 'after', 'hitting', 'tweet'], 7)"
            ]
          },
          "metadata": {},
          "execution_count": 14
        }
      ]
    },
    {
      "cell_type": "code",
      "source": [
        "# Find the average number of tokens (words) in the training tweets\n",
        "round(sum([len(i.split()) for i in train_sentences]) / len(train_sentences))"
      ],
      "metadata": {
        "colab": {
          "base_uri": "https://localhost:8080/"
        },
        "id": "czrqDBtDHdN1",
        "outputId": "19d1c3ed-bcd5-4582-d955-268c70cec58b"
      },
      "execution_count": null,
      "outputs": [
        {
          "output_type": "execute_result",
          "data": {
            "text/plain": [
              "15"
            ]
          },
          "metadata": {},
          "execution_count": 15
        }
      ]
    },
    {
      "cell_type": "code",
      "source": [
        "# Set up text vectorization variables\n",
        "max_vocab_length = 10000 # max number of words to have in our vocabulary\n",
        "max_length = 15 # max length our sequences will be (e.g. how many words from a Tweet does a model see?)\n",
        "\n",
        "text_vectorizer = TextVectorization(max_tokens=max_vocab_length,\n",
        "                                    output_mode=\"int\",\n",
        "                                    output_sequence_length=max_length)"
      ],
      "metadata": {
        "id": "NF-5M_PBH3qx"
      },
      "execution_count": null,
      "outputs": []
    },
    {
      "cell_type": "code",
      "source": [
        "# Fit the text vectorizer to the training text\n",
        "text_vectorizer.adapt(train_sentences)"
      ],
      "metadata": {
        "id": "Af1aS93uIt4H"
      },
      "execution_count": null,
      "outputs": []
    },
    {
      "cell_type": "code",
      "source": [
        "# Create a sample sentence and tokenize it\n",
        "sample_sentence = \"There's a flood in my street!\"\n",
        "text_vectorizer([sample_sentence])"
      ],
      "metadata": {
        "colab": {
          "base_uri": "https://localhost:8080/"
        },
        "id": "LkQ9m4OUJct5",
        "outputId": "65f88fd1-637b-4aca-8e1e-945eb673e531"
      },
      "execution_count": null,
      "outputs": [
        {
          "output_type": "execute_result",
          "data": {
            "text/plain": [
              "<tf.Tensor: shape=(1, 15), dtype=int64, numpy=\n",
              "array([[264,   3, 232,   4,  13, 698,   0,   0,   0,   0,   0,   0,   0,\n",
              "          0,   0]])>"
            ]
          },
          "metadata": {},
          "execution_count": 18
        }
      ]
    },
    {
      "cell_type": "code",
      "source": [
        "# Choose a random sentence from the training dataset and tokenize it\n",
        "random_sentence = random.choice(train_sentences)\n",
        "print(f\"Original text: {random_sentence}\\n\")\n",
        "print(f\"Vectorized version: {text_vectorizer([random_sentence])}\")"
      ],
      "metadata": {
        "colab": {
          "base_uri": "https://localhost:8080/"
        },
        "id": "5xu9VoSTJi0W",
        "outputId": "a7d715d5-d961-47f2-9fb6-d2f46bb2f943"
      },
      "execution_count": null,
      "outputs": [
        {
          "output_type": "stream",
          "name": "stdout",
          "text": [
            "Original text: U.S.PACIFIC COMMAND.\n",
            "I can see it!\n",
            "They gave their all in the peace unity festival\n",
            "It disappears when freedom\n",
            "A Violent Storm hit Sea\n",
            "\n",
            "Vectorized version: [[7120 5953    8   71   99   15   64  949  131   44    4    2  675 4343\n",
            "  2459]]\n"
          ]
        }
      ]
    },
    {
      "cell_type": "code",
      "source": [
        "# Get the unique words in the vocabulary\n",
        "words_in_vocab = text_vectorizer.get_vocabulary() # get all of the unique words in our training data\n",
        "top_5_words = words_in_vocab[:5] # get the most common words\n",
        "bottom_5_words = words_in_vocab[-5:] # get the least common words\n",
        "\n",
        "print(f\"Number of words in vocab: {len(words_in_vocab)}\")\n",
        "print(f\"5 most common words: {top_5_words}\")\n",
        "print(f\"5 least common words: {bottom_5_words}\")"
      ],
      "metadata": {
        "colab": {
          "base_uri": "https://localhost:8080/"
        },
        "id": "5-3War9xKL4K",
        "outputId": "af59d4ba-20c9-4db5-deb1-c4b68b231e94"
      },
      "execution_count": null,
      "outputs": [
        {
          "output_type": "stream",
          "name": "stdout",
          "text": [
            "Number of words in vocab: 10000\n",
            "5 most common words: ['', '[UNK]', 'the', 'a', 'in']\n",
            "5 least common words: ['pages', 'paeds', 'pads', 'padres', 'paddytomlinson1']\n"
          ]
        }
      ]
    },
    {
      "cell_type": "markdown",
      "source": [
        "### Creating an Embedding using an Embedding Layer\n",
        "\n",
        "To make our embedding, we're going to use TensorFlow's [embedding layer](https://www.tensorflow.org/api_docs/python/tf/keras/layers/Embedding).\n",
        "\n",
        "The parameters we care most about for our embedding layer:\n",
        "* `input_dim` - the size of our vocabulary\n",
        "* `output_dim` - the size of the output embedding vector (e.g. a value of 100 would mean each token gets represented by a vector 100 long)\n",
        "* `input_length` - length of the sequences being passed to the embedding layer"
      ],
      "metadata": {
        "id": "SG_4pCDUK2FT"
      }
    },
    {
      "cell_type": "code",
      "source": [
        "from tensorflow.keras import layers\n",
        "\n",
        "embedding = layers.Embedding(input_dim=max_vocab_length, # input shape\n",
        "                             output_dim=128, # output shape\n",
        "                             embeddings_initializer=\"uniform\",\n",
        "                             input_length=max_length # how long is each input\n",
        "                             )\n",
        "embedding"
      ],
      "metadata": {
        "colab": {
          "base_uri": "https://localhost:8080/"
        },
        "id": "aQzK_6gIL4lk",
        "outputId": "2274927b-3304-4805-bc8f-8201e06c9f52"
      },
      "execution_count": null,
      "outputs": [
        {
          "output_type": "execute_result",
          "data": {
            "text/plain": [
              "<keras.layers.embeddings.Embedding at 0x7f38f0289cd0>"
            ]
          },
          "metadata": {},
          "execution_count": 21
        }
      ]
    },
    {
      "cell_type": "code",
      "source": [
        "# Get a random sentence from the training set\n",
        "random_sentence = random.choice(train_sentences)\n",
        "print(f\"Original text: {random_sentence}\")\n",
        "print(f\"Embedded version: \")\n",
        "\n",
        "# Embed the random sentence (turn positive integers into dense vectors of fixed size)\n",
        "sample_embed = embedding(text_vectorizer([random_sentence]))\n",
        "sample_embed"
      ],
      "metadata": {
        "colab": {
          "base_uri": "https://localhost:8080/"
        },
        "id": "esM7-ALANisl",
        "outputId": "1571ec7a-df50-41af-af66-6e2aeb361a41"
      },
      "execution_count": null,
      "outputs": [
        {
          "output_type": "stream",
          "name": "stdout",
          "text": [
            "Original text: http://t.co/kG5pLkeDhr WRAPUP 2-U.S. cable TV companies' shares crushed after Disney disappoints http://t.co/QeIhvn3DNQ\n",
            "Embedded version: \n"
          ]
        },
        {
          "output_type": "execute_result",
          "data": {
            "text/plain": [
              "<tf.Tensor: shape=(1, 15, 128), dtype=float32, numpy=\n",
              "array([[[ 0.04230822, -0.0450935 , -0.02981206, ...,  0.023426  ,\n",
              "          0.0274842 , -0.04010003],\n",
              "        [-0.02445437,  0.01328648,  0.00681914, ..., -0.03546847,\n",
              "         -0.01359737,  0.02663015],\n",
              "        [-0.0473414 , -0.00272267,  0.02374319, ..., -0.02527031,\n",
              "         -0.02917   ,  0.01515373],\n",
              "        ...,\n",
              "        [-0.03670188, -0.00918275, -0.00819641, ...,  0.02483923,\n",
              "         -0.0233631 ,  0.03163451],\n",
              "        [-0.03670188, -0.00918275, -0.00819641, ...,  0.02483923,\n",
              "         -0.0233631 ,  0.03163451],\n",
              "        [-0.03670188, -0.00918275, -0.00819641, ...,  0.02483923,\n",
              "         -0.0233631 ,  0.03163451]]], dtype=float32)>"
            ]
          },
          "metadata": {},
          "execution_count": 22
        }
      ]
    },
    {
      "cell_type": "code",
      "source": [
        "# Check out a single token's embedding\n",
        "sample_embed[0][0], sample_embed[0][0].shape, random_sentence"
      ],
      "metadata": {
        "colab": {
          "base_uri": "https://localhost:8080/"
        },
        "id": "KLcrUMgDOEgJ",
        "outputId": "63692f85-dbd4-4cd8-e572-9174c869b224"
      },
      "execution_count": null,
      "outputs": [
        {
          "output_type": "execute_result",
          "data": {
            "text/plain": [
              "(<tf.Tensor: shape=(128,), dtype=float32, numpy=\n",
              " array([ 0.04230822, -0.0450935 , -0.02981206, -0.03045708, -0.00662007,\n",
              "         0.03240019,  0.03749087,  0.04358138, -0.00071908,  0.02672647,\n",
              "         0.03798341, -0.02632812,  0.01698733, -0.04833702, -0.00193607,\n",
              "         0.04162024,  0.01828239, -0.03445927, -0.01912199,  0.03571204,\n",
              "        -0.02880859,  0.04653515, -0.00132449,  0.04785773,  0.00580963,\n",
              "        -0.0005294 ,  0.04604502, -0.03026013,  0.00423077,  0.02281907,\n",
              "         0.03253833,  0.02371725,  0.00589844,  0.00589439, -0.02740568,\n",
              "        -0.02481283,  0.00169326,  0.0111218 ,  0.02670814, -0.02246195,\n",
              "         0.02316317,  0.0457282 ,  0.03819885, -0.01906105,  0.01653633,\n",
              "         0.0182314 , -0.01022931, -0.04965733, -0.03723959, -0.02515097,\n",
              "        -0.01053071, -0.02818724,  0.0148036 ,  0.04741443,  0.02735785,\n",
              "        -0.0345692 , -0.01525587,  0.00387101,  0.02428268,  0.00997975,\n",
              "         0.03362663, -0.04641443,  0.03158811,  0.02430281, -0.02532505,\n",
              "         0.01929683,  0.02557785,  0.00574879, -0.04622873,  0.04385557,\n",
              "        -0.04349634, -0.04183043,  0.0348813 , -0.03844638, -0.00414059,\n",
              "         0.03558873, -0.01891495, -0.03994743,  0.00818499,  0.01830931,\n",
              "        -0.04193686, -0.01375877,  0.02934504,  0.04074497, -0.00769059,\n",
              "        -0.01612328, -0.04013369, -0.01577636, -0.00634552,  0.02413208,\n",
              "        -0.03756364, -0.04024724, -0.03424115, -0.02569121,  0.02927062,\n",
              "         0.02056489,  0.01140947, -0.04601321, -0.03427379,  0.01285056,\n",
              "         0.04581751, -0.02934424,  0.01727367,  0.02695497,  0.03501432,\n",
              "        -0.01552224,  0.01180663,  0.02859739, -0.03688816, -0.01410449,\n",
              "         0.03638105,  0.01910449, -0.03717587,  0.0476209 ,  0.0221815 ,\n",
              "        -0.01714151,  0.02065471,  0.04829017,  0.03536217,  0.0333011 ,\n",
              "        -0.04952884, -0.01393574,  0.03965776,  0.03494528, -0.02006725,\n",
              "         0.023426  ,  0.0274842 , -0.04010003], dtype=float32)>,\n",
              " TensorShape([128]),\n",
              " \"http://t.co/kG5pLkeDhr WRAPUP 2-U.S. cable TV companies' shares crushed after Disney disappoints http://t.co/QeIhvn3DNQ\")"
            ]
          },
          "metadata": {},
          "execution_count": 23
        }
      ]
    },
    {
      "cell_type": "markdown",
      "source": [
        "## Modelling a text dataset (running a series of experiments)\n",
        "\n",
        "We will be doing a series of modelling experiments:\n",
        "* `model_0` - Naive Bayes with TF-IDF encoder (baseline)\n",
        "* `model_1` - Feed-forward neural network (dense model)\n",
        "* `model_2` - LSTM Recurrent Neural Netwrok (RNN)\n",
        "* `model_3` - GRU Recurrent Neural Netwrok (RNN)\n",
        "* `model_4` - Bidirectional-LSTM Recurrent Neural Netwrok (RNN)\n",
        "* `model_5` - 1D Convolutional Neural Network (CNN)\n",
        "* `model_6` - TensorFlow Hub Pretrained Feature Extractor\n",
        "* `model_7` - TensorFlow Hub Pretrained Feature Extractor (10% of data)\n",
        "\n",
        "Use the [scikit-learn machine learning map](https://scikit-learn.org/stable/tutorial/machine_learning_map/index.html) to decide which model to use to build a baseline.\n",
        "\n",
        "How are we going to approach all of these? We will use the standard steps in modelling with TensorFlow:\n",
        "1. Create a model\n",
        "2. Build a model\n",
        "3. Fit a model\n",
        "4. Evaluate out model"
      ],
      "metadata": {
        "id": "YTW5HsfuOh0r"
      }
    },
    {
      "cell_type": "markdown",
      "source": [
        "### Model 0: Getting a baseline\n",
        "\n",
        "As with all machine learning modelling experiments, it's important to create a baselin model so you've got a benchmark for future experiments to build upon. To create our baseline, we'll use Sklearn's Mutlnomial Naive Bayes using the TF-IDF formula to convert words to numbers.\n",
        "\n",
        "**Note:** It's common practice to use non-DL algorithms as a baseline because of their speed and then later using DL to see if you can improve upon them."
      ],
      "metadata": {
        "id": "6O1mkkfZPX2N"
      }
    },
    {
      "cell_type": "code",
      "source": [
        "from sklearn.feature_extraction.text import TfidfVectorizer\n",
        "from sklearn.naive_bayes import MultinomialNB\n",
        "from sklearn.pipeline import Pipeline\n",
        "\n",
        "# Create tokenization and modelling pipeline\n",
        "model_0 = Pipeline([\n",
        "                    (\"tfidf\", TfidfVectorizer()), # convert words to numbers using tfidf\n",
        "                    (\"clf\", MultinomialNB()) # model the text\n",
        "])\n",
        "\n",
        "# Fit the pipeline to the training data\n",
        "model_0.fit(train_sentences, train_labels)"
      ],
      "metadata": {
        "colab": {
          "base_uri": "https://localhost:8080/"
        },
        "id": "4O10_jp47tHh",
        "outputId": "e2612dad-fb07-4059-f06e-cff82953f769"
      },
      "execution_count": null,
      "outputs": [
        {
          "output_type": "execute_result",
          "data": {
            "text/plain": [
              "Pipeline(steps=[('tfidf', TfidfVectorizer()), ('clf', MultinomialNB())])"
            ]
          },
          "metadata": {},
          "execution_count": 35
        }
      ]
    },
    {
      "cell_type": "code",
      "source": [
        "# Evaluate our baseline model\n",
        "baseline_score = model_0.score(val_sentences, val_labels)\n",
        "print(f\"Our baseline model achieves an accuracy of: {baseline_score*100:.2f}%\")"
      ],
      "metadata": {
        "colab": {
          "base_uri": "https://localhost:8080/"
        },
        "id": "tn8_yTF78x8v",
        "outputId": "d01eaf6c-4af0-4e77-953d-7bec7b84a498"
      },
      "execution_count": null,
      "outputs": [
        {
          "output_type": "stream",
          "name": "stdout",
          "text": [
            "Our baseline model achieves an accuracy of: 79.27%\n"
          ]
        }
      ]
    },
    {
      "cell_type": "code",
      "source": [
        "# Make predictions\n",
        "baseline_preds = model_0.predict(val_sentences)\n",
        "baseline_preds[:20]"
      ],
      "metadata": {
        "colab": {
          "base_uri": "https://localhost:8080/"
        },
        "id": "gSFYwrij9LBN",
        "outputId": "c310b31b-22a6-476f-8ee4-afa8f654802c"
      },
      "execution_count": null,
      "outputs": [
        {
          "output_type": "execute_result",
          "data": {
            "text/plain": [
              "array([1, 1, 1, 0, 0, 1, 1, 1, 1, 0, 0, 1, 0, 0, 0, 0, 0, 0, 0, 1])"
            ]
          },
          "metadata": {},
          "execution_count": 37
        }
      ]
    },
    {
      "cell_type": "code",
      "source": [
        "val_labels[:20]"
      ],
      "metadata": {
        "colab": {
          "base_uri": "https://localhost:8080/"
        },
        "id": "Z9VjmWHd9hcW",
        "outputId": "6a13a52b-cfef-4bf0-f3de-14bd9d267e80"
      },
      "execution_count": null,
      "outputs": [
        {
          "output_type": "execute_result",
          "data": {
            "text/plain": [
              "array([0, 0, 1, 1, 1, 1, 1, 1, 1, 0, 0, 0, 0, 0, 0, 0, 0, 0, 1, 0])"
            ]
          },
          "metadata": {},
          "execution_count": 38
        }
      ]
    },
    {
      "cell_type": "code",
      "source": [
        "# Find the baseline accuracy score using sklearn\n",
        "from sklearn.metrics import accuracy_score\n",
        "baseline_score = accuracy_score(val_labels, baseline_preds)\n",
        "print(f\"Our baseline model has an accuracy score of: {baseline_score*100:.2f}%\")"
      ],
      "metadata": {
        "colab": {
          "base_uri": "https://localhost:8080/"
        },
        "id": "lO_-sl-6CJ72",
        "outputId": "451d4218-3c6e-4f7c-cd1b-b18fabb35b20"
      },
      "execution_count": null,
      "outputs": [
        {
          "output_type": "stream",
          "name": "stdout",
          "text": [
            "Our baseline model has an accuracy score of: 79.27%\n"
          ]
        }
      ]
    },
    {
      "cell_type": "markdown",
      "source": [
        "### Creating an evaluation function for our model experiments\n",
        "\n",
        "We could evaluate all of our model's predictions with different metrics every time, however, this will be cumbersome and could easily be fixed with a function. Let's create one to compare our model's predictions with the truth labels using the following metrics:\n",
        "* Accuracy\n",
        "* Precision\n",
        "* Recall\n",
        "* F1-score\n",
        "\n",
        "For a deep overview of many different evaluation metrics, see the [Sklearn documentation](https://scikit-learn.org/stable/modules/model_evaluation.html)"
      ],
      "metadata": {
        "id": "WHDRhEy4CiVq"
      }
    },
    {
      "cell_type": "code",
      "source": [
        "# Function to evalute model's predictions using accuracy, precision, recall, f1_score\n",
        "from sklearn.metrics import accuracy_score, precision_recall_fscore_support\n",
        "def calculate_results(y_true, y_pred):\n",
        "  \"\"\"\n",
        "  Calculates model accuracy, precision, recall and f1 score of a binary classification model.\n",
        "\n",
        "  Args:\n",
        "      y_true: true labels in the form of a 1D array\n",
        "      y_pred: predicted labels in the form of a 1D array\n",
        "  \n",
        "  Returns a dictionary of accuracy, precision, recall, f1-score.\n",
        "  \"\"\"\n",
        "  \n",
        "  # Calculate model accuracy\n",
        "  model_accuracy = accuracy_score(y_true, y_pred) * 100\n",
        "\n",
        "  # Calcaulte model precision, precision and f1-score using \"weighted\" average\n",
        "  model_precision, model_recall, model_f1, _ = precision_recall_fscore_support(y_true, y_pred, average=\"weighted\")\n",
        "  model_results = {\"accuracy\": model_accuracy,\n",
        "                   \"f1\": model_f1,\n",
        "                   \"precision\": model_precision,\n",
        "                   \"recall\": model_recall}\n",
        "  return model_results"
      ],
      "metadata": {
        "id": "-Xfh8wIA9knm"
      },
      "execution_count": null,
      "outputs": []
    },
    {
      "cell_type": "code",
      "source": [
        "# Get baseline results\n",
        "baseline_results = calculate_results(val_labels, baseline_preds)\n",
        "baseline_results"
      ],
      "metadata": {
        "colab": {
          "base_uri": "https://localhost:8080/"
        },
        "id": "ACCA99kU-dqL",
        "outputId": "34128ef7-83b3-412d-eace-286974cfc875"
      },
      "execution_count": null,
      "outputs": [
        {
          "output_type": "execute_result",
          "data": {
            "text/plain": [
              "{'accuracy': 79.26509186351706,\n",
              " 'f1': 0.7862189758049549,\n",
              " 'precision': 0.8111390004213173,\n",
              " 'recall': 0.7926509186351706}"
            ]
          },
          "metadata": {},
          "execution_count": 40
        }
      ]
    },
    {
      "cell_type": "markdown",
      "source": [
        "### Model 1: A simple dense model"
      ],
      "metadata": {
        "id": "HLY0Zic0BJdT"
      }
    },
    {
      "cell_type": "code",
      "source": [
        "# Create a tensorboard callback (need to create a new one for each model)\n",
        "from helper_functions import create_tensorboard_callback\n",
        "\n",
        "# Create a directory to save tensorboard logs\n",
        "SAVE_DIR = \"model_logs\""
      ],
      "metadata": {
        "id": "dHPt55q_JAUm"
      },
      "execution_count": null,
      "outputs": []
    },
    {
      "cell_type": "code",
      "source": [
        "# Build model with the Functional API\n",
        "from tensorflow import keras\n",
        "from tensorflow.keras import layers\n",
        "\n",
        "inputs = layers.Input(shape=(1,), dtype=tf.string) # inputs are 1-dimensional strings\n",
        "x = text_vectorizer(inputs) # turn the input text into numbers\n",
        "x = embedding(x) # create an embedding of the numberized inputs\n",
        "x = layers.GlobalAveragePooling1D()(x)\n",
        "outputs = layers.Dense(1, activation=\"sigmoid\")(x) # create the output layer, want binary output so use sigmoid activation\n",
        "model_1 = tf.keras.Model(inputs, outputs, name=\"model_1_dense\")"
      ],
      "metadata": {
        "id": "ajql7H4lJShy"
      },
      "execution_count": null,
      "outputs": []
    },
    {
      "cell_type": "code",
      "source": [
        "model_1.summary()"
      ],
      "metadata": {
        "colab": {
          "base_uri": "https://localhost:8080/"
        },
        "id": "1VpKRsCQIOtX",
        "outputId": "dd2129c2-c668-44b5-b165-6fe5c42158ca"
      },
      "execution_count": null,
      "outputs": [
        {
          "output_type": "stream",
          "name": "stdout",
          "text": [
            "Model: \"model_1_dense\"\n",
            "_________________________________________________________________\n",
            " Layer (type)                Output Shape              Param #   \n",
            "=================================================================\n",
            " input_1 (InputLayer)        [(None, 1)]               0         \n",
            "                                                                 \n",
            " text_vectorization_1 (TextV  (None, 15)               0         \n",
            " ectorization)                                                   \n",
            "                                                                 \n",
            " embedding (Embedding)       (None, 15, 128)           1280000   \n",
            "                                                                 \n",
            " global_average_pooling1d (G  (None, 128)              0         \n",
            " lobalAveragePooling1D)                                          \n",
            "                                                                 \n",
            " dense (Dense)               (None, 1)                 129       \n",
            "                                                                 \n",
            "=================================================================\n",
            "Total params: 1,280,129\n",
            "Trainable params: 1,280,129\n",
            "Non-trainable params: 0\n",
            "_________________________________________________________________\n"
          ]
        }
      ]
    },
    {
      "cell_type": "code",
      "source": [
        "# Compile model\n",
        "model_1.compile(loss=\"binary_crossentropy\",\n",
        "                optimizer=tf.keras.optimizers.Adam(),\n",
        "                metrics=[\"accuracy\"])"
      ],
      "metadata": {
        "id": "XjTrfKCXKEPu"
      },
      "execution_count": null,
      "outputs": []
    },
    {
      "cell_type": "code",
      "source": [
        "# Fit the model\n",
        "model_1_history = model_1.fit(x=train_sentences,\n",
        "                              y=train_labels,\n",
        "                              epochs=5,\n",
        "                              validation_data=(val_sentences, val_labels),\n",
        "                              callbacks=[create_tensorboard_callback(dir_name=SAVE_DIR,\n",
        "                                                                     experiment_name=\"model_1_dense\")])"
      ],
      "metadata": {
        "colab": {
          "base_uri": "https://localhost:8080/"
        },
        "id": "BNPF2FlDKbsx",
        "outputId": "6fdacdb7-ec65-4264-bcbd-06161e6fbafe"
      },
      "execution_count": null,
      "outputs": [
        {
          "output_type": "stream",
          "name": "stdout",
          "text": [
            "Saving TensorBoard log files to model_logs/model_1_dense/20220427-155609\n",
            "Epoch 1/5\n",
            "215/215 [==============================] - 5s 21ms/step - loss: 0.6112 - accuracy: 0.6881 - val_loss: 0.5333 - val_accuracy: 0.7625\n",
            "Epoch 2/5\n",
            "215/215 [==============================] - 6s 26ms/step - loss: 0.4400 - accuracy: 0.8210 - val_loss: 0.4663 - val_accuracy: 0.7822\n",
            "Epoch 3/5\n",
            "215/215 [==============================] - 5s 25ms/step - loss: 0.3459 - accuracy: 0.8615 - val_loss: 0.4575 - val_accuracy: 0.7913\n",
            "Epoch 4/5\n",
            "215/215 [==============================] - 6s 27ms/step - loss: 0.2834 - accuracy: 0.8892 - val_loss: 0.4596 - val_accuracy: 0.7795\n",
            "Epoch 5/5\n",
            "215/215 [==============================] - 6s 27ms/step - loss: 0.2369 - accuracy: 0.9111 - val_loss: 0.4861 - val_accuracy: 0.7940\n"
          ]
        }
      ]
    },
    {
      "cell_type": "code",
      "source": [
        "# Check the results\n",
        "model_1.evaluate(val_sentences, val_labels)"
      ],
      "metadata": {
        "colab": {
          "base_uri": "https://localhost:8080/"
        },
        "id": "A1j7zMFCKuzN",
        "outputId": "a3ef5a19-c56b-4da4-e87c-fe428755fa5b"
      },
      "execution_count": null,
      "outputs": [
        {
          "output_type": "stream",
          "name": "stdout",
          "text": [
            "24/24 [==============================] - 0s 2ms/step - loss: 0.4861 - accuracy: 0.7940\n"
          ]
        },
        {
          "output_type": "execute_result",
          "data": {
            "text/plain": [
              "[0.4860610365867615, 0.7939632534980774]"
            ]
          },
          "metadata": {},
          "execution_count": 30
        }
      ]
    },
    {
      "cell_type": "code",
      "source": [
        "# Look at the first 10 predictions\n",
        "model_1_pred_probs = model_1.predict(val_sentences)\n",
        "model_1_pred_probs[:10]"
      ],
      "metadata": {
        "colab": {
          "base_uri": "https://localhost:8080/"
        },
        "id": "OABCTO3wNRZb",
        "outputId": "37cbb3d6-ce27-4677-a800-35d51a48c658"
      },
      "execution_count": null,
      "outputs": [
        {
          "output_type": "execute_result",
          "data": {
            "text/plain": [
              "array([[0.29611415],\n",
              "       [0.7862656 ],\n",
              "       [0.99751806],\n",
              "       [0.07935214],\n",
              "       [0.07474983],\n",
              "       [0.93195415],\n",
              "       [0.90415937],\n",
              "       [0.99344134],\n",
              "       [0.9532739 ],\n",
              "       [0.19955146]], dtype=float32)"
            ]
          },
          "metadata": {},
          "execution_count": 31
        }
      ]
    },
    {
      "cell_type": "code",
      "source": [
        "# Evaluate the predictions\n",
        "model_1_preds = tf.squeeze(tf.round(model_1_pred_probs)) # convert probabilities to label format\n",
        "\n",
        "model_1_results = calculate_results(val_labels, model_1_preds)\n",
        "model_1_results"
      ],
      "metadata": {
        "colab": {
          "base_uri": "https://localhost:8080/"
        },
        "id": "-7p7fza7Lr80",
        "outputId": "97e02a0f-6a5f-4d63-9e7d-26f32b77e8b4"
      },
      "execution_count": null,
      "outputs": [
        {
          "output_type": "execute_result",
          "data": {
            "text/plain": [
              "{'accuracy': 79.39632545931758,\n",
              " 'f1': 0.7899134672804106,\n",
              " 'precision': 0.8031272377768599,\n",
              " 'recall': 0.7939632545931758}"
            ]
          },
          "metadata": {},
          "execution_count": 32
        }
      ]
    },
    {
      "cell_type": "code",
      "source": [
        "# Functionize the above steps\n",
        "def evaluate_predictions(model, test_data, y_true):\n",
        "  model_pred_probs = model.predict(test_data)\n",
        "  model_preds = tf.squeeze(tf.round(model_pred_probs))\n",
        "  return calculate_results(y_true, model_preds)"
      ],
      "metadata": {
        "id": "m2SNK02yUDMV"
      },
      "execution_count": null,
      "outputs": []
    },
    {
      "cell_type": "code",
      "source": [
        "evaluate_predictions(model_1, val_sentences, val_labels)"
      ],
      "metadata": {
        "colab": {
          "base_uri": "https://localhost:8080/"
        },
        "id": "DMrYdFh6UhoK",
        "outputId": "ebfe1dc5-9daa-4233-aa51-0f719a6be8a2"
      },
      "execution_count": null,
      "outputs": [
        {
          "output_type": "execute_result",
          "data": {
            "text/plain": [
              "{'accuracy': 79.39632545931758,\n",
              " 'f1': 0.7899134672804106,\n",
              " 'precision': 0.8031272377768599,\n",
              " 'recall': 0.7939632545931758}"
            ]
          },
          "metadata": {},
          "execution_count": 34
        }
      ]
    },
    {
      "cell_type": "code",
      "source": [
        "import numpy as np\n",
        "np.array(list(model_1_results.values())) > np.array(list(baseline_results.values()))"
      ],
      "metadata": {
        "colab": {
          "base_uri": "https://localhost:8080/"
        },
        "id": "rY2JcfT3Mtmb",
        "outputId": "fcd6ec1f-a22a-4696-8652-82bb12e68385"
      },
      "execution_count": null,
      "outputs": [
        {
          "output_type": "execute_result",
          "data": {
            "text/plain": [
              "array([ True,  True, False,  True])"
            ]
          },
          "metadata": {},
          "execution_count": 41
        }
      ]
    },
    {
      "cell_type": "markdown",
      "source": [
        "## Visualizing learned embeddings"
      ],
      "metadata": {
        "id": "zCdtFjQoOcTg"
      }
    },
    {
      "cell_type": "code",
      "source": [
        "# Get the vocabulary from the text vectorization layer\n",
        "words_in_vocab = text_vectorizer.get_vocabulary()\n",
        "len(words_in_vocab), words_in_vocab[:10]"
      ],
      "metadata": {
        "colab": {
          "base_uri": "https://localhost:8080/"
        },
        "id": "p67Et3jMO0jq",
        "outputId": "51b3bf08-e7f4-4204-f5be-9ae6b1283bac"
      },
      "execution_count": null,
      "outputs": [
        {
          "output_type": "execute_result",
          "data": {
            "text/plain": [
              "(10000, ['', '[UNK]', 'the', 'a', 'in', 'to', 'of', 'and', 'i', 'is'])"
            ]
          },
          "metadata": {},
          "execution_count": 42
        }
      ]
    },
    {
      "cell_type": "code",
      "source": [
        "# Model 1 summary\n",
        "model_1.summary()"
      ],
      "metadata": {
        "colab": {
          "base_uri": "https://localhost:8080/"
        },
        "id": "qjianK9yO_9d",
        "outputId": "917455de-1739-4e4e-a4ef-0f779faf89a2"
      },
      "execution_count": null,
      "outputs": [
        {
          "output_type": "stream",
          "name": "stdout",
          "text": [
            "Model: \"model_1_dense\"\n",
            "_________________________________________________________________\n",
            " Layer (type)                Output Shape              Param #   \n",
            "=================================================================\n",
            " input_1 (InputLayer)        [(None, 1)]               0         \n",
            "                                                                 \n",
            " text_vectorization_1 (TextV  (None, 15)               0         \n",
            " ectorization)                                                   \n",
            "                                                                 \n",
            " embedding (Embedding)       (None, 15, 128)           1280000   \n",
            "                                                                 \n",
            " global_average_pooling1d (G  (None, 128)              0         \n",
            " lobalAveragePooling1D)                                          \n",
            "                                                                 \n",
            " dense (Dense)               (None, 1)                 129       \n",
            "                                                                 \n",
            "=================================================================\n",
            "Total params: 1,280,129\n",
            "Trainable params: 1,280,129\n",
            "Non-trainable params: 0\n",
            "_________________________________________________________________\n"
          ]
        }
      ]
    },
    {
      "cell_type": "code",
      "source": [
        "# Get the weight matrix of embedding layer (learned patterns)\n",
        "# These are the numerical representations of each token in our training data, which have been learned for ~5 epochs\n",
        "embed_weights = model_1.get_layer(\"embedding\").get_weights()[0]\n",
        "print(embed_weights.shape) # should be same size as vocab size and embedding_dim (output_dim of embedding layer)"
      ],
      "metadata": {
        "colab": {
          "base_uri": "https://localhost:8080/"
        },
        "id": "FwMgpqAFPH91",
        "outputId": "ba0da1f9-1fd8-4547-db74-95ca35511511"
      },
      "execution_count": null,
      "outputs": [
        {
          "output_type": "stream",
          "name": "stdout",
          "text": [
            "(10000, 128)\n"
          ]
        }
      ]
    },
    {
      "cell_type": "markdown",
      "source": [
        "Now we've got the embedding matrix our model has learned to represent our tokens, let's see how we can visualise it.\n",
        "\n",
        "To do so, TensorFlow has a handy tool called [Projector](https://projector.tensorflow.org). TensorFlow also has a handy guide on [word embeddings](https://www.tensorflow.org/text/guide/word_embeddings)."
      ],
      "metadata": {
        "id": "B0Ck448xQDqi"
      }
    },
    {
      "cell_type": "code",
      "source": [
        "# Create embedding files (we got this from TensorFlow's word embeddings documentation)\n",
        "import io\n",
        "out_v = io.open(\"vectors.tsv\", \"w\", encoding=\"utf-8\")\n",
        "out_m = io.open(\"metadata.tsv\", \"w\", encoding=\"utf-8\")\n",
        "\n",
        "for index, word in enumerate(words_in_vocab):\n",
        "  if index == 0:\n",
        "    continue  # skip 0, it's padding.\n",
        "  vec = embed_weights[index]\n",
        "  out_v.write(\"\\t\".join([str(x) for x in vec]) + \"\\n\")\n",
        "  out_m.write(word + \"\\n\")\n",
        "out_v.close()\n",
        "out_m.close()"
      ],
      "metadata": {
        "id": "VI7wRw4wPbX6"
      },
      "execution_count": null,
      "outputs": []
    },
    {
      "cell_type": "code",
      "source": [
        "# Download files from Colab to Projector\n",
        "try:\n",
        "  from google.colab import files\n",
        "  files.download(\"vectors.tsv\")\n",
        "  files.download(\"metadata.tsv\")\n",
        "except Exception:\n",
        "  pass"
      ],
      "metadata": {
        "colab": {
          "base_uri": "https://localhost:8080/",
          "height": 17
        },
        "id": "CxI595hbQ0uY",
        "outputId": "17d86c94-3eb4-456e-f86c-60f0225bb180"
      },
      "execution_count": null,
      "outputs": [
        {
          "output_type": "display_data",
          "data": {
            "text/plain": [
              "<IPython.core.display.Javascript object>"
            ],
            "application/javascript": [
              "\n",
              "    async function download(id, filename, size) {\n",
              "      if (!google.colab.kernel.accessAllowed) {\n",
              "        return;\n",
              "      }\n",
              "      const div = document.createElement('div');\n",
              "      const label = document.createElement('label');\n",
              "      label.textContent = `Downloading \"${filename}\": `;\n",
              "      div.appendChild(label);\n",
              "      const progress = document.createElement('progress');\n",
              "      progress.max = size;\n",
              "      div.appendChild(progress);\n",
              "      document.body.appendChild(div);\n",
              "\n",
              "      const buffers = [];\n",
              "      let downloaded = 0;\n",
              "\n",
              "      const channel = await google.colab.kernel.comms.open(id);\n",
              "      // Send a message to notify the kernel that we're ready.\n",
              "      channel.send({})\n",
              "\n",
              "      for await (const message of channel.messages) {\n",
              "        // Send a message to notify the kernel that we're ready.\n",
              "        channel.send({})\n",
              "        if (message.buffers) {\n",
              "          for (const buffer of message.buffers) {\n",
              "            buffers.push(buffer);\n",
              "            downloaded += buffer.byteLength;\n",
              "            progress.value = downloaded;\n",
              "          }\n",
              "        }\n",
              "      }\n",
              "      const blob = new Blob(buffers, {type: 'application/binary'});\n",
              "      const a = document.createElement('a');\n",
              "      a.href = window.URL.createObjectURL(blob);\n",
              "      a.download = filename;\n",
              "      div.appendChild(a);\n",
              "      a.click();\n",
              "      div.remove();\n",
              "    }\n",
              "  "
            ]
          },
          "metadata": {}
        },
        {
          "output_type": "display_data",
          "data": {
            "text/plain": [
              "<IPython.core.display.Javascript object>"
            ],
            "application/javascript": [
              "download(\"download_0c3f9ddb-f077-4759-af1a-49867114cb39\", \"vectors.tsv\", 15374285)"
            ]
          },
          "metadata": {}
        },
        {
          "output_type": "display_data",
          "data": {
            "text/plain": [
              "<IPython.core.display.Javascript object>"
            ],
            "application/javascript": [
              "\n",
              "    async function download(id, filename, size) {\n",
              "      if (!google.colab.kernel.accessAllowed) {\n",
              "        return;\n",
              "      }\n",
              "      const div = document.createElement('div');\n",
              "      const label = document.createElement('label');\n",
              "      label.textContent = `Downloading \"${filename}\": `;\n",
              "      div.appendChild(label);\n",
              "      const progress = document.createElement('progress');\n",
              "      progress.max = size;\n",
              "      div.appendChild(progress);\n",
              "      document.body.appendChild(div);\n",
              "\n",
              "      const buffers = [];\n",
              "      let downloaded = 0;\n",
              "\n",
              "      const channel = await google.colab.kernel.comms.open(id);\n",
              "      // Send a message to notify the kernel that we're ready.\n",
              "      channel.send({})\n",
              "\n",
              "      for await (const message of channel.messages) {\n",
              "        // Send a message to notify the kernel that we're ready.\n",
              "        channel.send({})\n",
              "        if (message.buffers) {\n",
              "          for (const buffer of message.buffers) {\n",
              "            buffers.push(buffer);\n",
              "            downloaded += buffer.byteLength;\n",
              "            progress.value = downloaded;\n",
              "          }\n",
              "        }\n",
              "      }\n",
              "      const blob = new Blob(buffers, {type: 'application/binary'});\n",
              "      const a = document.createElement('a');\n",
              "      a.href = window.URL.createObjectURL(blob);\n",
              "      a.download = filename;\n",
              "      div.appendChild(a);\n",
              "      a.click();\n",
              "      div.remove();\n",
              "    }\n",
              "  "
            ]
          },
          "metadata": {}
        },
        {
          "output_type": "display_data",
          "data": {
            "text/plain": [
              "<IPython.core.display.Javascript object>"
            ],
            "application/javascript": [
              "download(\"download_87b2481a-517b-47b6-a01f-74f10799e225\", \"metadata.tsv\", 80388)"
            ]
          },
          "metadata": {}
        }
      ]
    },
    {
      "cell_type": "markdown",
      "source": [
        "Good read to learn more about embeddings: http://jalammar.github.io/illustrated-word2vec/"
      ],
      "metadata": {
        "id": "UJ13cnG4SFHL"
      }
    },
    {
      "cell_type": "markdown",
      "source": [
        "## Recurrent Neural Networks (RNN's)\n",
        "\n",
        "RNN's are useful for sequence data.\n",
        "\n",
        "The premise of a recurrent neural network is to use the representation of a previous input to aid the representation of a later input.\n",
        "\n",
        "> For an overview of the internals of a recurrent nerual network, see the following resources:\n",
        "- [MIT's sequence modelling lecture](https://youtu.be/QvkQ1B3FBqA?list=PLtBw6njQRU-rwp5__7C0oIVt26ZgjG9NI)\n",
        "- [Chris Olah's intro to LSTMS](https://colah.github.io/posts/2015-08-Understanding-LSTMs/)\n",
        "- [Andrej Karpathy's The Unreasonable Effectiveness of RNN](http://karpathy.github.io/2015/05/21/rnn-effectiveness/)\n",
        "\n",
        "Type of RNN's:\n",
        "* **LSTM (long short-term memory)** - default RNN layer for sequence problems\n",
        "* **GRU (gated recurrent unit)** - performs very similar to LSTM\n",
        "* **Bidirectional LSTM (goes forward and backwards on sequence)** - good for sequences which may benefit from passing forward and backwards (e.g. translation or longer passages of text)"
      ],
      "metadata": {
        "id": "bCpPhh8vTfu-"
      }
    },
    {
      "cell_type": "markdown",
      "source": [
        "### Model 2: LSTM\n",
        "\n",
        "LSTM is short for long short term memory (one of the most popular LSTM cells).\n",
        "\n",
        "Our structure of an RNN typically looks like this:\n",
        "```\n",
        "Input (text) -> Tokenize -> Embedding -> Layers (RNNs/dense) -> Output (label probability)\n",
        "```"
      ],
      "metadata": {
        "id": "Bpb-HqSiTs19"
      }
    },
    {
      "cell_type": "code",
      "source": [
        "# Create an LSTM model\n",
        "from tensorflow.keras import layers\n",
        "model_2_embedding = layers.Embedding(input_dim=max_vocab_length,\n",
        "                                     output_dim=128,\n",
        "                                     embeddings_initializer=\"uniform\",\n",
        "                                     input_length=max_length,\n",
        "                                     name=\"embedding_2\")\n",
        "\n",
        "inputs = layers.Input(shape=(1,), dtype=tf.string)\n",
        "x = text_vectorizer(inputs)\n",
        "x = model_2_embedding(x)\n",
        "# print(x.shape)\n",
        "# x = layers.LSTM(units=64, return_sequences=True)(x) # when you're stacking RNN cells together, you need to set return_sequences=True to return vector for each word\n",
        "# print(x.shape)\n",
        "x = layers.LSTM(units=64)(x) # return vector for each sequence\n",
        "# print(x.shape)\n",
        "# x = layers.Dense(64, activation=\"relu\")(x)\n",
        "outputs = layers.Dense(1, activation=\"sigmoid\")(x)\n",
        "model_2 = tf.keras.Model(inputs, outputs, name=\"model_2_LSTM\")"
      ],
      "metadata": {
        "id": "_tXtWPk-ZOlm"
      },
      "execution_count": null,
      "outputs": []
    },
    {
      "cell_type": "markdown",
      "source": [
        "LSTM input requires a 3-dimensional vector with shape [batch, timesteps, feature]."
      ],
      "metadata": {
        "id": "YYRMJDvLadd9"
      }
    },
    {
      "cell_type": "code",
      "source": [
        "# Get a summary\n",
        "model_2.summary()"
      ],
      "metadata": {
        "colab": {
          "base_uri": "https://localhost:8080/"
        },
        "id": "k9Q-D_Pdaih8",
        "outputId": "fcd90bae-1d89-47de-bd95-c954b3bd421f"
      },
      "execution_count": null,
      "outputs": [
        {
          "output_type": "stream",
          "name": "stdout",
          "text": [
            "Model: \"model_2_LSTM\"\n",
            "_________________________________________________________________\n",
            " Layer (type)                Output Shape              Param #   \n",
            "=================================================================\n",
            " input_2 (InputLayer)        [(None, 1)]               0         \n",
            "                                                                 \n",
            " text_vectorization_1 (TextV  (None, 15)               0         \n",
            " ectorization)                                                   \n",
            "                                                                 \n",
            " embedding_2 (Embedding)     (None, 15, 128)           1280000   \n",
            "                                                                 \n",
            " lstm (LSTM)                 (None, 64)                49408     \n",
            "                                                                 \n",
            " dense_1 (Dense)             (None, 1)                 65        \n",
            "                                                                 \n",
            "=================================================================\n",
            "Total params: 1,329,473\n",
            "Trainable params: 1,329,473\n",
            "Non-trainable params: 0\n",
            "_________________________________________________________________\n"
          ]
        }
      ]
    },
    {
      "cell_type": "code",
      "source": [
        "# Compile the model\n",
        "model_2.compile(loss=\"binary_crossentropy\",\n",
        "                optimizer=tf.keras.optimizers.Adam(),\n",
        "                metrics=[\"accuracy\"])"
      ],
      "metadata": {
        "id": "x8nwMQNzcANT"
      },
      "execution_count": null,
      "outputs": []
    },
    {
      "cell_type": "code",
      "source": [
        "# Fit the model\n",
        "model_2_history = model_2.fit(train_sentences,\n",
        "                              train_labels,\n",
        "                              epochs=5,\n",
        "                              validation_data=(val_sentences, val_labels),\n",
        "                              callbacks=[create_tensorboard_callback(SAVE_DIR, \"model_2_LSTM\")])"
      ],
      "metadata": {
        "colab": {
          "base_uri": "https://localhost:8080/"
        },
        "id": "aB8VMvV5cSGw",
        "outputId": "ad92fee2-a11d-44a9-ccd5-c049d0ad2848"
      },
      "execution_count": null,
      "outputs": [
        {
          "output_type": "stream",
          "name": "stdout",
          "text": [
            "Saving TensorBoard log files to model_logs/model_2_LSTM/20220427-155657\n",
            "Epoch 1/5\n",
            "215/215 [==============================] - 9s 29ms/step - loss: 0.5126 - accuracy: 0.7473 - val_loss: 0.4571 - val_accuracy: 0.7769\n",
            "Epoch 2/5\n",
            "215/215 [==============================] - 6s 27ms/step - loss: 0.3196 - accuracy: 0.8720 - val_loss: 0.4761 - val_accuracy: 0.7900\n",
            "Epoch 3/5\n",
            "215/215 [==============================] - 6s 27ms/step - loss: 0.2230 - accuracy: 0.9180 - val_loss: 0.5167 - val_accuracy: 0.7677\n",
            "Epoch 4/5\n",
            "215/215 [==============================] - 6s 27ms/step - loss: 0.1592 - accuracy: 0.9412 - val_loss: 0.6867 - val_accuracy: 0.7559\n",
            "Epoch 5/5\n",
            "215/215 [==============================] - 7s 31ms/step - loss: 0.1160 - accuracy: 0.9561 - val_loss: 0.8855 - val_accuracy: 0.7572\n"
          ]
        }
      ]
    },
    {
      "cell_type": "code",
      "source": [
        "# Calculate model 2 results\n",
        "model_2_results = evaluate_predictions(model_2, val_sentences, val_labels)\n",
        "model_2_results"
      ],
      "metadata": {
        "colab": {
          "base_uri": "https://localhost:8080/"
        },
        "id": "QyPzTJxHczYh",
        "outputId": "b13384f3-41fa-430e-d2a6-fbc0ad67171d"
      },
      "execution_count": null,
      "outputs": [
        {
          "output_type": "execute_result",
          "data": {
            "text/plain": [
              "{'accuracy': 75.7217847769029,\n",
              " 'f1': 0.7548067945124027,\n",
              " 'precision': 0.7588431452858484,\n",
              " 'recall': 0.7572178477690289}"
            ]
          },
          "metadata": {},
          "execution_count": 49
        }
      ]
    },
    {
      "cell_type": "code",
      "source": [
        "baseline_results"
      ],
      "metadata": {
        "colab": {
          "base_uri": "https://localhost:8080/"
        },
        "id": "T5ioEl0oc-p1",
        "outputId": "6475c502-d49d-4e77-d6bf-352a053fb078"
      },
      "execution_count": null,
      "outputs": [
        {
          "output_type": "execute_result",
          "data": {
            "text/plain": [
              "{'accuracy': 79.26509186351706,\n",
              " 'f1': 0.7862189758049549,\n",
              " 'precision': 0.8111390004213173,\n",
              " 'recall': 0.7926509186351706}"
            ]
          },
          "metadata": {},
          "execution_count": 54
        }
      ]
    },
    {
      "cell_type": "markdown",
      "source": [
        "### Model 3: GRU\n",
        "\n",
        "Another popular and effective RNN component is the GRU or gated recurrent unit. The GRU cell has similar features to an LSTM cell but has less parameters.\n",
        "\n",
        "Good guide on GRU's: https://towardsdatascience.com/illustrated-guide-to-lstms-and-gru-s-a-step-by-step-explanation-44e9eb85bf21"
      ],
      "metadata": {
        "id": "-5rVKM5pdCth"
      }
    },
    {
      "cell_type": "code",
      "source": [
        "# Build an RNN using the GRU cell\n",
        "from tensorflow.keras import layers\n",
        "model_3_embedding = layers.Embedding(input_dim=max_vocab_length,\n",
        "                                     output_dim=128,\n",
        "                                     embeddings_initializer=\"uniform\",\n",
        "                                     input_length=max_length,\n",
        "                                     name=\"embedding_3\")\n",
        "\n",
        "inputs = layers.Input(shape=(1,), dtype=tf.string)\n",
        "x = text_vectorizer(inputs)\n",
        "x = model_3_embedding(x)\n",
        "# x = layers.GRU(units=64, return_sequences=True)(x) # if you want to stack recurrent layers on top of each other, you need return_sequences=True\n",
        "# x = layers.LSTM(64, return_sequences=True)(x)\n",
        "x = layers.GRU(64)(x)\n",
        "# x = layers.GlobalAveragePooling1D()(x)\n",
        "# x = layers.Dense(64, activation=\"relu\")(x)\n",
        "outputs = layers.Dense(1, activation=\"sigmoid\")(x)\n",
        "model_3 = tf.keras.Model(inputs, outputs, name=\"model_3_GRU\")"
      ],
      "metadata": {
        "id": "VbGuPVugfK01"
      },
      "execution_count": null,
      "outputs": []
    },
    {
      "cell_type": "code",
      "source": [
        "model_3.summary()"
      ],
      "metadata": {
        "colab": {
          "base_uri": "https://localhost:8080/"
        },
        "id": "ez5UYCSVgOXq",
        "outputId": "8871cf38-9ca0-4d5d-faf9-59298435c99c"
      },
      "execution_count": null,
      "outputs": [
        {
          "output_type": "stream",
          "name": "stdout",
          "text": [
            "Model: \"model_3_GRU\"\n",
            "_________________________________________________________________\n",
            " Layer (type)                Output Shape              Param #   \n",
            "=================================================================\n",
            " input_3 (InputLayer)        [(None, 1)]               0         \n",
            "                                                                 \n",
            " text_vectorization_1 (TextV  (None, 15)               0         \n",
            " ectorization)                                                   \n",
            "                                                                 \n",
            " embedding_3 (Embedding)     (None, 15, 128)           1280000   \n",
            "                                                                 \n",
            " gru (GRU)                   (None, 64)                37248     \n",
            "                                                                 \n",
            " dense_2 (Dense)             (None, 1)                 65        \n",
            "                                                                 \n",
            "=================================================================\n",
            "Total params: 1,317,313\n",
            "Trainable params: 1,317,313\n",
            "Non-trainable params: 0\n",
            "_________________________________________________________________\n"
          ]
        }
      ]
    },
    {
      "cell_type": "code",
      "source": [
        "# Compile the model\n",
        "model_3.compile(loss=\"binary_crossentropy\",\n",
        "                optimizer=tf.keras.optimizers.Adam(),\n",
        "                metrics=[\"accuracy\"])"
      ],
      "metadata": {
        "id": "5EfB-VAIgdl3"
      },
      "execution_count": null,
      "outputs": []
    },
    {
      "cell_type": "code",
      "source": [
        "# Fit the model\n",
        "model_3_history = model_3.fit(train_sentences,\n",
        "                              train_labels,\n",
        "                              epochs=5,\n",
        "                              validation_data=(val_sentences, val_labels),\n",
        "                              callbacks=[create_tensorboard_callback(SAVE_DIR, \"model_3_GRU\")])"
      ],
      "metadata": {
        "colab": {
          "base_uri": "https://localhost:8080/"
        },
        "id": "mjWzoDzIiThq",
        "outputId": "bd7f855a-ff3d-463f-cd22-0a4c3e6fcb8e"
      },
      "execution_count": null,
      "outputs": [
        {
          "output_type": "stream",
          "name": "stdout",
          "text": [
            "Saving TensorBoard log files to model_logs/model_3_GRU/20220427-144557\n",
            "Epoch 1/5\n",
            "215/215 [==============================] - 5s 12ms/step - loss: 0.5291 - accuracy: 0.7319 - val_loss: 0.4764 - val_accuracy: 0.7822\n",
            "Epoch 2/5\n",
            "215/215 [==============================] - 2s 10ms/step - loss: 0.3146 - accuracy: 0.8683 - val_loss: 0.4727 - val_accuracy: 0.7874\n",
            "Epoch 3/5\n",
            "215/215 [==============================] - 2s 10ms/step - loss: 0.2158 - accuracy: 0.9221 - val_loss: 0.5694 - val_accuracy: 0.7756\n",
            "Epoch 4/5\n",
            "215/215 [==============================] - 2s 10ms/step - loss: 0.1539 - accuracy: 0.9472 - val_loss: 0.7085 - val_accuracy: 0.7690\n",
            "Epoch 5/5\n",
            "215/215 [==============================] - 2s 10ms/step - loss: 0.1171 - accuracy: 0.9607 - val_loss: 0.7305 - val_accuracy: 0.7651\n"
          ]
        }
      ]
    },
    {
      "cell_type": "code",
      "source": [
        "# Calculate results\n",
        "model_3_results = evaluate_predictions(model_3, val_sentences, val_labels)\n",
        "model_3_results"
      ],
      "metadata": {
        "colab": {
          "base_uri": "https://localhost:8080/"
        },
        "id": "BxsM3Xgvitb3",
        "outputId": "26206f8b-353f-4728-e641-d1963bc972ff"
      },
      "execution_count": null,
      "outputs": [
        {
          "output_type": "execute_result",
          "data": {
            "text/plain": [
              "{'accuracy': 76.50918635170603,\n",
              " 'f1': 0.7621795783524195,\n",
              " 'precision': 0.7681519700378248,\n",
              " 'recall': 0.7650918635170604}"
            ]
          },
          "metadata": {},
          "execution_count": 59
        }
      ]
    },
    {
      "cell_type": "markdown",
      "source": [
        "### Model 4: Bidirectional RNN\n",
        "\n",
        "Normal RNN's go from left to right (just like you'd read an English sentence). However, a bidirectional RNN goes from right to left as well as left to right.\n",
        "\n"
      ],
      "metadata": {
        "id": "Eh0gYtiSixy-"
      }
    },
    {
      "cell_type": "code",
      "source": [
        "# Build a bidirectional RNN in TensorFlow\n",
        "from tensorflow.keras import layers\n",
        "model_4_embedding = layers.Embedding(input_dim=max_vocab_length,\n",
        "                                     output_dim=128,\n",
        "                                     embeddings_initializer=\"uniform\",\n",
        "                                     input_length=max_length,\n",
        "                                     name=\"embedding_4\")\n",
        "\n",
        "inputs = layers.Input(shape=(1,), dtype=tf.string)\n",
        "x = text_vectorizer(inputs)\n",
        "x = model_4_embedding(x)\n",
        "# x = layers.Bidirectional(layers.LSTM(64, return_sequences=True))(x) # bidirectional wrapper doubles the representation from 64 to 128\n",
        "x = layers.Bidirectional(layers.LSTM(64))(x)\n",
        "outputs = layers.Dense(1, activation=\"sigmoid\")(x)\n",
        "model_4 = tf.keras.Model(inputs, outputs, name=\"model_4_bidirectional\")"
      ],
      "metadata": {
        "id": "DBlp_twVjacT"
      },
      "execution_count": null,
      "outputs": []
    },
    {
      "cell_type": "code",
      "source": [
        "# Get a summary\n",
        "model_4.summary()"
      ],
      "metadata": {
        "colab": {
          "base_uri": "https://localhost:8080/"
        },
        "id": "hTo3SCkgkEHl",
        "outputId": "7d280ccb-5626-401f-9803-28bda2ae2d81"
      },
      "execution_count": null,
      "outputs": [
        {
          "output_type": "stream",
          "name": "stdout",
          "text": [
            "Model: \"model_4_bidirectional\"\n",
            "_________________________________________________________________\n",
            " Layer (type)                Output Shape              Param #   \n",
            "=================================================================\n",
            " input_4 (InputLayer)        [(None, 1)]               0         \n",
            "                                                                 \n",
            " text_vectorization_1 (TextV  (None, 15)               0         \n",
            " ectorization)                                                   \n",
            "                                                                 \n",
            " embedding_4 (Embedding)     (None, 15, 128)           1280000   \n",
            "                                                                 \n",
            " bidirectional (Bidirectiona  (None, 128)              98816     \n",
            " l)                                                              \n",
            "                                                                 \n",
            " dense_3 (Dense)             (None, 1)                 129       \n",
            "                                                                 \n",
            "=================================================================\n",
            "Total params: 1,378,945\n",
            "Trainable params: 1,378,945\n",
            "Non-trainable params: 0\n",
            "_________________________________________________________________\n"
          ]
        }
      ]
    },
    {
      "cell_type": "code",
      "source": [
        "# Compile the model\n",
        "model_4.compile(loss=\"binary_crossentropy\",\n",
        "                optimizer=tf.keras.optimizers.Adam(),\n",
        "                metrics=[\"accuracy\"])"
      ],
      "metadata": {
        "id": "H3Hna2K8oIBr"
      },
      "execution_count": null,
      "outputs": []
    },
    {
      "cell_type": "code",
      "source": [
        "# Fit the model\n",
        "model_4_history = model_4.fit(train_sentences,\n",
        "                             train_labels,\n",
        "                             epochs=5,\n",
        "                             validation_data=(val_sentences, val_labels),\n",
        "                             callbacks=[create_tensorboard_callback(SAVE_DIR, \"model_4_bidirectional\")])"
      ],
      "metadata": {
        "colab": {
          "base_uri": "https://localhost:8080/"
        },
        "id": "Y4xm_pgEpRip",
        "outputId": "01bc881e-828a-4bde-92b4-355d6a090174"
      },
      "execution_count": null,
      "outputs": [
        {
          "output_type": "stream",
          "name": "stdout",
          "text": [
            "Saving TensorBoard log files to model_logs/model_4_bidirectional/20220427-144621\n",
            "Epoch 1/5\n",
            "215/215 [==============================] - 8s 20ms/step - loss: 0.5039 - accuracy: 0.7463 - val_loss: 0.4521 - val_accuracy: 0.7848\n",
            "Epoch 2/5\n",
            "215/215 [==============================] - 3s 14ms/step - loss: 0.3132 - accuracy: 0.8711 - val_loss: 0.4625 - val_accuracy: 0.7861\n",
            "Epoch 3/5\n",
            "215/215 [==============================] - 3s 14ms/step - loss: 0.2103 - accuracy: 0.9206 - val_loss: 0.5130 - val_accuracy: 0.7861\n",
            "Epoch 4/5\n",
            "215/215 [==============================] - 3s 14ms/step - loss: 0.1446 - accuracy: 0.9510 - val_loss: 0.6860 - val_accuracy: 0.7769\n",
            "Epoch 5/5\n",
            "215/215 [==============================] - 3s 14ms/step - loss: 0.0964 - accuracy: 0.9661 - val_loss: 0.9678 - val_accuracy: 0.7428\n"
          ]
        }
      ]
    },
    {
      "cell_type": "markdown",
      "source": [
        "**Note:** Adding bidirectionality to a model usually increases training time."
      ],
      "metadata": {
        "id": "dVrTs0wrpxmw"
      }
    },
    {
      "cell_type": "code",
      "source": [
        "# Make predictions and calculate results\n",
        "model_4_results = evaluate_predictions(model_4, val_sentences, val_labels)\n",
        "model_4_results"
      ],
      "metadata": {
        "colab": {
          "base_uri": "https://localhost:8080/"
        },
        "id": "-Sv_66EqpkiP",
        "outputId": "59fd10bc-bad3-4cd3-adf8-712538220ef9"
      },
      "execution_count": null,
      "outputs": [
        {
          "output_type": "execute_result",
          "data": {
            "text/plain": [
              "{'accuracy': 74.2782152230971,\n",
              " 'f1': 0.7418117629662488,\n",
              " 'precision': 0.7423320562859628,\n",
              " 'recall': 0.7427821522309711}"
            ]
          },
          "metadata": {},
          "execution_count": 64
        }
      ]
    },
    {
      "cell_type": "code",
      "source": [
        "model_3_results"
      ],
      "metadata": {
        "colab": {
          "base_uri": "https://localhost:8080/"
        },
        "id": "tKnhOdlXp8s-",
        "outputId": "98bbe608-5a03-4624-9cd1-180b9fd9ab1c"
      },
      "execution_count": null,
      "outputs": [
        {
          "output_type": "execute_result",
          "data": {
            "text/plain": [
              "{'accuracy': 76.50918635170603,\n",
              " 'f1': 0.7621795783524195,\n",
              " 'precision': 0.7681519700378248,\n",
              " 'recall': 0.7650918635170604}"
            ]
          },
          "metadata": {},
          "execution_count": 65
        }
      ]
    },
    {
      "cell_type": "markdown",
      "source": [
        "Adding bidirectionality did not improve the model for this dataset.\n",
        "\n",
        "We can try adding more layers to the 3 different RNN models to try and beat the baseline."
      ],
      "metadata": {
        "id": "m3m8HEsLqHRe"
      }
    },
    {
      "cell_type": "markdown",
      "source": [
        "## Convolutional Neural Networks for Text (and other types of sequences)\n",
        "\n",
        "We've used CNNs for images but images are typically 2D (height x width). However, our text data is 1D. Previously, we've used Conv2D for our image data, but now we're going to use Conv1D.\n",
        "\n",
        "The typical structure of a Conv1D model for sequences (in our case, text):\n",
        "```\n",
        "Inputs (text) -> Tokenization -> Embedding -> Layers (typically Conv1D + pooling) -> Outputs (class probabilites)\n",
        "```"
      ],
      "metadata": {
        "id": "AKSOA9zKqSu5"
      }
    },
    {
      "cell_type": "markdown",
      "source": [
        "### Model 5: Conv1D\n",
        "\n",
        "For different explanation of parameters, see:\n",
        "* [CNN explainer](https://poloclub.github.io/cnn-explainer/) (this is for 2D but can also relate to 1D data)\n",
        "* [Difference between \"same\" and \"valid\" padding](https://stackoverflow.com/questions/37674306/what-is-the-difference-between-same-and-valid-padding-in-tf-nn-max-pool-of-t)"
      ],
      "metadata": {
        "id": "w2U6rw8zrit7"
      }
    },
    {
      "cell_type": "code",
      "source": [
        "# Test out our embedding layer, Conv1D layer and max pooling\n",
        "from tensorflow.keras import layers\n",
        "\n",
        "embedding_test = embedding(text_vectorizer([\"this is a test sentence\"])) # turn target sequence into embedding\n",
        "conv_1d = layers.Conv1D(filters=64,\n",
        "                        kernel_size=5, # this is also referred to as an ngram of 5 (meaning it looks at 5 words at a time)\n",
        "                        activation=\"relu\",\n",
        "                        padding=\"valid\") # default = \"valid\", the output is smaller than the input shape, \"same\" means output is the same shape as input\n",
        "conv_1d_output = conv_1d(embedding_test) # pass test embedding through conv1d layer\n",
        "max_pool = layers.GlobalMaxPool1D()\n",
        "max_pool_output = max_pool(conv_1d_output) # equivalent to \"get the most important feature\" or \"get the feature with the highest value\"\n",
        "\n",
        "embedding_test.shape, conv_1d_output.shape, max_pool_output.shape"
      ],
      "metadata": {
        "colab": {
          "base_uri": "https://localhost:8080/"
        },
        "id": "C0hdqsJBsT21",
        "outputId": "3b4c1487-bac0-4e89-a147-5cec98bf0c1d"
      },
      "execution_count": null,
      "outputs": [
        {
          "output_type": "execute_result",
          "data": {
            "text/plain": [
              "(TensorShape([1, 15, 128]), TensorShape([1, 11, 64]), TensorShape([1, 64]))"
            ]
          },
          "metadata": {},
          "execution_count": 50
        }
      ]
    },
    {
      "cell_type": "code",
      "source": [
        "# embedding_test, conv_1d_output, max_pool_output"
      ],
      "metadata": {
        "id": "TuV5D2r2uRRb"
      },
      "execution_count": null,
      "outputs": []
    },
    {
      "cell_type": "code",
      "source": [
        "# Build a Conv1D model for sequence data\n",
        "from tensorflow.keras import layers\n",
        "model_5_embedding = layers.Embedding(input_dim=max_vocab_length,\n",
        "                                     output_dim=128,\n",
        "                                     embeddings_initializer=\"uniform\",\n",
        "                                     input_length=max_length,\n",
        "                                     name=\"embedding_5\")\n",
        "\n",
        "inputs = layers.Input(shape=(1,), dtype=tf.string)\n",
        "x = text_vectorizer(inputs)\n",
        "x = model_5_embedding(x)\n",
        "x = layers.Conv1D(filters=64,\n",
        "                  kernel_size=5,\n",
        "                  strides=1,\n",
        "                  activation=\"relu\",\n",
        "                  padding=\"valid\")(x)\n",
        "x = layers.GlobalMaxPool1D()(x)\n",
        "# x = layers.Dense(64, activation=\"relu\")(x)\n",
        "outputs = layers.Dense(1, activation=\"sigmoid\")(x)\n",
        "model_5 = tf.keras.Model(inputs, outputs, name=\"model_5_Conv1D\")\n",
        "\n",
        "# Compile the model\n",
        "model_5.compile(loss=\"binary_crossentropy\",\n",
        "                optimizer=tf.keras.optimizers.Adam(),\n",
        "                metrics=[\"accuracy\"])"
      ],
      "metadata": {
        "id": "R9D8XnHewSRO"
      },
      "execution_count": null,
      "outputs": []
    },
    {
      "cell_type": "code",
      "source": [
        "# Get a summary of our Conv1D model\n",
        "model_5.summary()"
      ],
      "metadata": {
        "colab": {
          "base_uri": "https://localhost:8080/"
        },
        "id": "7NmGp4PLwW2C",
        "outputId": "3c49560c-2b62-41a7-9a27-0f0c53419a45"
      },
      "execution_count": null,
      "outputs": [
        {
          "output_type": "stream",
          "name": "stdout",
          "text": [
            "Model: \"model_5_Conv1D\"\n",
            "_________________________________________________________________\n",
            " Layer (type)                Output Shape              Param #   \n",
            "=================================================================\n",
            " input_3 (InputLayer)        [(None, 1)]               0         \n",
            "                                                                 \n",
            " text_vectorization_1 (TextV  (None, 15)               0         \n",
            " ectorization)                                                   \n",
            "                                                                 \n",
            " embedding_5 (Embedding)     (None, 15, 128)           1280000   \n",
            "                                                                 \n",
            " conv1d_1 (Conv1D)           (None, 11, 64)            41024     \n",
            "                                                                 \n",
            " global_max_pooling1d_1 (Glo  (None, 64)               0         \n",
            " balMaxPooling1D)                                                \n",
            "                                                                 \n",
            " dense_2 (Dense)             (None, 1)                 65        \n",
            "                                                                 \n",
            "=================================================================\n",
            "Total params: 1,321,089\n",
            "Trainable params: 1,321,089\n",
            "Non-trainable params: 0\n",
            "_________________________________________________________________\n"
          ]
        }
      ]
    },
    {
      "cell_type": "code",
      "source": [
        "# Fit the model\n",
        "model_5_history = model_5.fit(train_sentences,\n",
        "                              train_labels,\n",
        "                              epochs=5,\n",
        "                              validation_data=(val_sentences, val_labels),\n",
        "                              callbacks=[create_tensorboard_callback(SAVE_DIR, \"model_5_Conv1D\")])"
      ],
      "metadata": {
        "colab": {
          "base_uri": "https://localhost:8080/"
        },
        "id": "gasE28GFxkuJ",
        "outputId": "2377f457-82df-41e4-a423-509792a8657d"
      },
      "execution_count": null,
      "outputs": [
        {
          "output_type": "stream",
          "name": "stdout",
          "text": [
            "Saving TensorBoard log files to model_logs/model_5_Conv1D/20220427-155731\n",
            "Epoch 1/5\n",
            "215/215 [==============================] - 5s 21ms/step - loss: 0.5507 - accuracy: 0.7221 - val_loss: 0.4628 - val_accuracy: 0.7822\n",
            "Epoch 2/5\n",
            "215/215 [==============================] - 4s 19ms/step - loss: 0.3299 - accuracy: 0.8644 - val_loss: 0.4795 - val_accuracy: 0.7874\n",
            "Epoch 3/5\n",
            "215/215 [==============================] - 4s 20ms/step - loss: 0.2050 - accuracy: 0.9248 - val_loss: 0.5406 - val_accuracy: 0.7743\n",
            "Epoch 4/5\n",
            "215/215 [==============================] - 4s 20ms/step - loss: 0.1288 - accuracy: 0.9559 - val_loss: 0.6282 - val_accuracy: 0.7677\n",
            "Epoch 5/5\n",
            "215/215 [==============================] - 4s 20ms/step - loss: 0.0902 - accuracy: 0.9731 - val_loss: 0.6907 - val_accuracy: 0.7664\n"
          ]
        }
      ]
    },
    {
      "cell_type": "code",
      "source": [
        "# Make predictions on the Conv1D model and evaluate them\n",
        "model_5_results = evaluate_predictions(model_5, val_sentences, val_labels)\n",
        "model_5_results"
      ],
      "metadata": {
        "colab": {
          "base_uri": "https://localhost:8080/"
        },
        "id": "ZFoZewgBxz2c",
        "outputId": "de09321c-975a-4bc9-9ec6-1f1c1ee3f0b2"
      },
      "execution_count": null,
      "outputs": [
        {
          "output_type": "execute_result",
          "data": {
            "text/plain": [
              "{'accuracy': 76.64041994750657,\n",
              " 'f1': 0.7635833452096769,\n",
              " 'precision': 0.769346188182321,\n",
              " 'recall': 0.7664041994750657}"
            ]
          },
          "metadata": {},
          "execution_count": 54
        }
      ]
    },
    {
      "cell_type": "markdown",
      "source": [
        "## Using Pretrained Embeddings (transfer learning for NLP)"
      ],
      "metadata": {
        "id": "qS4T1WqckMEH"
      }
    },
    {
      "cell_type": "markdown",
      "source": [
        "### Model 6: TensorFlow Hub Pretrained Sentence Encoder\n",
        "\n",
        "We've built a few of our own models, now let's use transfer learning for NLP, specifically using TensorFlow Hub's [Universal Sentence Encoder](https://tfhub.dev/google/universal-sentence-encoder/4).\n",
        "\n",
        "See how the USC was created here: https://arxiv.org/abs/1803.11175"
      ],
      "metadata": {
        "id": "71jMIkW0zuet"
      }
    },
    {
      "cell_type": "code",
      "source": [
        "# Get the pretrained sentence encoder from TensorFlow Hub\n",
        "import tensorflow_hub as hub\n",
        "embed = hub.load(\"https://tfhub.dev/google/universal-sentence-encoder/4\")\n",
        "embed_samples = embed([sample_sentence,\n",
        "                       \"When you call the universal sentence encoder on a sentence, it turns it into numbers.\"])\n",
        "print(embed_samples[0][:50])"
      ],
      "metadata": {
        "colab": {
          "base_uri": "https://localhost:8080/"
        },
        "id": "Ia1sc_KtUUEM",
        "outputId": "94a294a2-a784-4066-f3ea-192733c7a983"
      },
      "execution_count": null,
      "outputs": [
        {
          "output_type": "stream",
          "name": "stdout",
          "text": [
            "tf.Tensor(\n",
            "[-0.01157025  0.02485911  0.02878051 -0.012715    0.03971541  0.08827761\n",
            "  0.02680988  0.05589838 -0.01068731 -0.00597293  0.00639321 -0.01819516\n",
            "  0.00030816  0.09105889  0.05874645 -0.03180629  0.01512474 -0.05162925\n",
            "  0.00991366 -0.06865345 -0.04209306  0.0267898   0.03011009  0.00321065\n",
            " -0.00337968 -0.04787356  0.0226672  -0.00985927 -0.04063615 -0.01292093\n",
            " -0.04666382  0.05630299 -0.03949255  0.00517682  0.02495827 -0.07014439\n",
            "  0.0287151   0.0494768  -0.00633978 -0.08960193  0.02807119 -0.00808364\n",
            " -0.01360601  0.05998649 -0.10361788 -0.05195372  0.00232958 -0.02332531\n",
            " -0.03758106  0.03327729], shape=(50,), dtype=float32)\n"
          ]
        }
      ]
    },
    {
      "cell_type": "code",
      "source": [
        "embed_samples[0].shape"
      ],
      "metadata": {
        "colab": {
          "base_uri": "https://localhost:8080/"
        },
        "id": "vja1yQ83WllJ",
        "outputId": "e5865206-350b-4406-8dc1-04b329c95673"
      },
      "execution_count": null,
      "outputs": [
        {
          "output_type": "execute_result",
          "data": {
            "text/plain": [
              "TensorShape([512])"
            ]
          },
          "metadata": {},
          "execution_count": 56
        }
      ]
    },
    {
      "cell_type": "code",
      "source": [
        "# Create a Keras Layer using the USE pretrained layer from tensorflow hub\n",
        "sentence_encoder_layer = hub.KerasLayer(\"https://tfhub.dev/google/universal-sentence-encoder/4\",\n",
        "                                        input_shape=[],\n",
        "                                        dtype=tf.string,\n",
        "                                        trainable=False,\n",
        "                                        name=\"USE\")"
      ],
      "metadata": {
        "id": "ejpBy9WWXwH2"
      },
      "execution_count": null,
      "outputs": []
    },
    {
      "cell_type": "code",
      "source": [
        "# Create model using the Sequential API\n",
        "model_6 = tf.keras.Sequential([\n",
        "  sentence_encoder_layer,\n",
        "  layers.Dense(64, activation=\"relu\"),\n",
        "  layers.Dense(1, activation=\"sigmoid\")\n",
        "], name=\"model_6_USE\")\n",
        "\n",
        "# Compile the model\n",
        "model_6.compile(loss=\"binary_crossentropy\",\n",
        "                optimizer=tf.keras.optimizers.Adam(),\n",
        "                metrics=[\"accuracy\"])\n",
        "\n",
        "# Get a summary of our model\n",
        "model_6.summary()"
      ],
      "metadata": {
        "colab": {
          "base_uri": "https://localhost:8080/"
        },
        "id": "AaE-zQ1rW9oX",
        "outputId": "84e01ed9-c510-43f7-af59-bd4bc6a65184"
      },
      "execution_count": null,
      "outputs": [
        {
          "output_type": "stream",
          "name": "stdout",
          "text": [
            "Model: \"model_6_USE\"\n",
            "_________________________________________________________________\n",
            " Layer (type)                Output Shape              Param #   \n",
            "=================================================================\n",
            " USE (KerasLayer)            (None, 512)               256797824 \n",
            "                                                                 \n",
            " dense_3 (Dense)             (None, 64)                32832     \n",
            "                                                                 \n",
            " dense_4 (Dense)             (None, 1)                 65        \n",
            "                                                                 \n",
            "=================================================================\n",
            "Total params: 256,830,721\n",
            "Trainable params: 32,897\n",
            "Non-trainable params: 256,797,824\n",
            "_________________________________________________________________\n"
          ]
        }
      ]
    },
    {
      "cell_type": "code",
      "source": [
        "# Train a classifier on top of USE pretrained embeddings\n",
        "model_6_history = model_6.fit(train_sentences,\n",
        "                              train_labels,\n",
        "                              epochs=5,\n",
        "                              validation_data=(val_sentences, val_labels),\n",
        "                              callbacks=[create_tensorboard_callback(SAVE_DIR, \"model_6_tf_hub_USE\")])"
      ],
      "metadata": {
        "colab": {
          "base_uri": "https://localhost:8080/"
        },
        "id": "dO-y1lHFXS35",
        "outputId": "98956c46-3041-4f2d-ecef-e3657189793f"
      },
      "execution_count": null,
      "outputs": [
        {
          "output_type": "stream",
          "name": "stdout",
          "text": [
            "Saving TensorBoard log files to model_logs/model_6_tf_hub_USE/20220427-155835\n",
            "Epoch 1/5\n",
            "215/215 [==============================] - 7s 22ms/step - loss: 0.5059 - accuracy: 0.7848 - val_loss: 0.4491 - val_accuracy: 0.7953\n",
            "Epoch 2/5\n",
            "215/215 [==============================] - 2s 11ms/step - loss: 0.4136 - accuracy: 0.8158 - val_loss: 0.4447 - val_accuracy: 0.8058\n",
            "Epoch 3/5\n",
            "215/215 [==============================] - 2s 11ms/step - loss: 0.4002 - accuracy: 0.8221 - val_loss: 0.4325 - val_accuracy: 0.8110\n",
            "Epoch 4/5\n",
            "215/215 [==============================] - 2s 12ms/step - loss: 0.3927 - accuracy: 0.8264 - val_loss: 0.4314 - val_accuracy: 0.8097\n",
            "Epoch 5/5\n",
            "215/215 [==============================] - 2s 11ms/step - loss: 0.3847 - accuracy: 0.8307 - val_loss: 0.4259 - val_accuracy: 0.8136\n"
          ]
        }
      ]
    },
    {
      "cell_type": "code",
      "source": [
        "# Make predictions and calculate results\n",
        "model_6_results = evaluate_predictions(model_6, val_sentences, val_labels)\n",
        "model_6_results"
      ],
      "metadata": {
        "colab": {
          "base_uri": "https://localhost:8080/"
        },
        "id": "7c6K4UpCZcWV",
        "outputId": "1e5dbce8-cf01-4101-c7d9-d9d84c7f448f"
      },
      "execution_count": null,
      "outputs": [
        {
          "output_type": "execute_result",
          "data": {
            "text/plain": [
              "{'accuracy': 81.36482939632546,\n",
              " 'f1': 0.8123558654721007,\n",
              " 'precision': 0.8152128321955759,\n",
              " 'recall': 0.8136482939632546}"
            ]
          },
          "metadata": {},
          "execution_count": 60
        }
      ]
    },
    {
      "cell_type": "code",
      "source": [
        "baseline_results"
      ],
      "metadata": {
        "colab": {
          "base_uri": "https://localhost:8080/"
        },
        "id": "qw_nP2JUZqUm",
        "outputId": "47c89dad-1b15-4095-92e8-924a361a2b32"
      },
      "execution_count": null,
      "outputs": [
        {
          "output_type": "execute_result",
          "data": {
            "text/plain": [
              "{'accuracy': 79.26509186351706,\n",
              " 'f1': 0.7862189758049549,\n",
              " 'precision': 0.8111390004213173,\n",
              " 'recall': 0.7926509186351706}"
            ]
          },
          "metadata": {},
          "execution_count": 61
        }
      ]
    },
    {
      "cell_type": "markdown",
      "source": [
        "Adding an extra dense layer between `sentence_encoder_layer` and output dense layer improved the model and it beat the baseline."
      ],
      "metadata": {
        "id": "-MgYEcAWZq_7"
      }
    },
    {
      "cell_type": "markdown",
      "source": [
        "### Model 7: TF Hub Pretrained USE but with 10% of training data\n",
        "\n",
        "Transfer learning really helps when you don't have a large dataset. To see how our model performs on a smaller dataset, let's replicate `model_6` except we'll train it on 10% of the data."
      ],
      "metadata": {
        "id": "yHIBSBkybR1-"
      }
    },
    {
      "cell_type": "code",
      "source": [
        "## NOTE: Making data splits like below leads to data leakage (model_7 trained on 10% of data, outperforms model_6 trained on 100% of the data)\n",
        "## Do not make data splits which leak data from validation/test sets into training set\n",
        "\n",
        "# # Create subsets of 10% of the training data\n",
        "# train_10_percent = train_df_shuffled[[\"text\", \"target\"]].sample(frac=0.1, random_state=42)\n",
        "# train_sentences_10_percent = train_10_percent[\"text\"].to_list()\n",
        "# train_labels_10_percent = train_10_percent[\"target\"].to_list()\n",
        "# train_sentences_10_percent[:10], train_labels_10_percent[:10]"
      ],
      "metadata": {
        "id": "3QFueBvObUWm"
      },
      "execution_count": null,
      "outputs": []
    },
    {
      "cell_type": "code",
      "source": [
        "# Making a better dataset split (no data leakage)\n",
        "train_10_percent_split = int(0.1 * len(train_sentences))\n",
        "train_sentences_10_percent = train_sentences[:train_10_percent_split]\n",
        "train_labels_10_percent = train_labels[:train_10_percent_split]"
      ],
      "metadata": {
        "id": "_95z3bC0iK-B"
      },
      "execution_count": null,
      "outputs": []
    },
    {
      "cell_type": "code",
      "source": [
        "# Check the number of each label in the updated training subset\n",
        "pd.Series(np.array(train_labels_10_percent)).value_counts()"
      ],
      "metadata": {
        "colab": {
          "base_uri": "https://localhost:8080/"
        },
        "id": "wQYt8TeJbnFA",
        "outputId": "e1be22c0-02b6-487b-dd02-39c56f7c8563"
      },
      "execution_count": null,
      "outputs": [
        {
          "output_type": "execute_result",
          "data": {
            "text/plain": [
              "0    406\n",
              "1    279\n",
              "dtype: int64"
            ]
          },
          "metadata": {},
          "execution_count": 81
        }
      ]
    },
    {
      "cell_type": "code",
      "source": [
        "# Check the number of targets in our subset of data\n",
        "train_df_shuffled[\"target\"].value_counts()"
      ],
      "metadata": {
        "colab": {
          "base_uri": "https://localhost:8080/"
        },
        "id": "wBhLohGEcPPm",
        "outputId": "c0ab85f7-ab38-422d-93e8-5c7dad73f283"
      },
      "execution_count": null,
      "outputs": [
        {
          "output_type": "execute_result",
          "data": {
            "text/plain": [
              "0    4342\n",
              "1    3271\n",
              "Name: target, dtype: int64"
            ]
          },
          "metadata": {},
          "execution_count": 82
        }
      ]
    },
    {
      "cell_type": "markdown",
      "source": [
        "To recreate a model the same as a previous model you've created, you can use the `tf.keras.models.clone_model()` method.\n",
        "\n",
        "See more here: https://www.tensorflow.org/api_docs/python/tf/keras/models/clone_model"
      ],
      "metadata": {
        "id": "8BZFvySrdonG"
      }
    },
    {
      "cell_type": "code",
      "source": [
        "# Let's build a model the same as model_6\n",
        "# model_7 = tf.keras.models.clone_model(model_6)\n",
        "model_7 = tf.keras.Sequential([\n",
        "  sentence_encoder_layer,\n",
        "  layers.Dense(64, activation=\"relu\"),\n",
        "  layers.Dense(1, activation=\"sigmoid\")\n",
        "], name=\"model_7_USE_10_percent\")\n",
        "\n",
        "# Compile the model\n",
        "model_7.compile(loss=\"binary_crossentropy\",\n",
        "                optimizer=tf.keras.optimizers.Adam(),\n",
        "                metrics=[\"accuracy\"])"
      ],
      "metadata": {
        "id": "EP7wDioScUEc"
      },
      "execution_count": null,
      "outputs": []
    },
    {
      "cell_type": "code",
      "source": [
        "# Fit the model\n",
        "model_7_history = model_7.fit(train_sentences_10_percent,\n",
        "                              train_labels_10_percent,\n",
        "                              epochs=5,\n",
        "                              validation_data=(val_sentences, val_labels),\n",
        "                              callbacks=[create_tensorboard_callback(SAVE_DIR, \"model_7_tf_hub_USE_10_percent\")])"
      ],
      "metadata": {
        "colab": {
          "base_uri": "https://localhost:8080/"
        },
        "id": "C0NoLJAxcXNT",
        "outputId": "3dbad584-1576-49a8-fabb-dba20d84b806"
      },
      "execution_count": null,
      "outputs": [
        {
          "output_type": "stream",
          "name": "stdout",
          "text": [
            "Saving TensorBoard log files to model_logs/model_7_tf_hub_USE_10_percent/20220427-144759\n",
            "Epoch 1/5\n",
            "22/22 [==============================] - 3s 71ms/step - loss: 0.6667 - accuracy: 0.7153 - val_loss: 0.6432 - val_accuracy: 0.7415\n",
            "Epoch 2/5\n",
            "22/22 [==============================] - 1s 48ms/step - loss: 0.5911 - accuracy: 0.8058 - val_loss: 0.5868 - val_accuracy: 0.7690\n",
            "Epoch 3/5\n",
            "22/22 [==============================] - 1s 33ms/step - loss: 0.5184 - accuracy: 0.8190 - val_loss: 0.5317 - val_accuracy: 0.7651\n",
            "Epoch 4/5\n",
            "22/22 [==============================] - 1s 48ms/step - loss: 0.4579 - accuracy: 0.8219 - val_loss: 0.5023 - val_accuracy: 0.7677\n",
            "Epoch 5/5\n",
            "22/22 [==============================] - 1s 33ms/step - loss: 0.4180 - accuracy: 0.8350 - val_loss: 0.4904 - val_accuracy: 0.7743\n"
          ]
        }
      ]
    },
    {
      "cell_type": "code",
      "source": [
        "# Make predictions and calculate results\n",
        "model_7_results = evaluate_predictions(model_7, val_sentences, val_labels)\n",
        "model_7_results"
      ],
      "metadata": {
        "colab": {
          "base_uri": "https://localhost:8080/"
        },
        "id": "Kjtujphjc-t_",
        "outputId": "4c2a0520-a776-458c-8243-d91a023cf5a9"
      },
      "execution_count": null,
      "outputs": [
        {
          "output_type": "execute_result",
          "data": {
            "text/plain": [
              "{'accuracy': 77.42782152230971,\n",
              " 'f1': 0.7724787248794153,\n",
              " 'precision': 0.7755035361291913,\n",
              " 'recall': 0.7742782152230971}"
            ]
          },
          "metadata": {},
          "execution_count": 85
        }
      ]
    },
    {
      "cell_type": "markdown",
      "source": [
        "Initially, `model_7` trained on 10% of training data performed better than `baseline_model` and `model_6`. \n",
        "\n",
        "This is due to data leakage across the training and validation datasets.\n",
        "\n",
        "After fixing the issue, `model_7` performed slightly worse than `model_6`.\n",
        "\n",
        ">**Note:** If something looks too good to be true (a model trained on 10% of the data outperforming the same model trained on 100% of data), trust your gut and go back through to find where the error may lie."
      ],
      "metadata": {
        "id": "NbKOj8cfdWy9"
      }
    },
    {
      "cell_type": "markdown",
      "source": [
        "## Comparing the performance of each of our models"
      ],
      "metadata": {
        "id": "isdGuC5odXme"
      }
    },
    {
      "cell_type": "code",
      "source": [
        "# Combine model results into a DataFrame\n",
        "all_model_results = pd.DataFrame({\"0_baseline\": baseline_results,\n",
        "                                  \"1_simple_dense\": model_1_results,\n",
        "                                  \"2_LSTM\": model_2_results,\n",
        "                                  \"3_GRU\": model_3_results,\n",
        "                                  \"4_bidirectional\": model_4_results,\n",
        "                                  \"5_Conv1D\": model_5_results,\n",
        "                                  \"6_tf_hub_USE\": model_6_results,\n",
        "                                  \"7_tf_hub_USE_10_percent\": model_7_results})\n",
        "all_model_results = all_model_results.transpose()\n",
        "all_model_results"
      ],
      "metadata": {
        "colab": {
          "base_uri": "https://localhost:8080/",
          "height": 300
        },
        "id": "NMuX_UJJki03",
        "outputId": "ee87e1ab-0682-437e-c83a-458e76eb274b"
      },
      "execution_count": null,
      "outputs": [
        {
          "output_type": "execute_result",
          "data": {
            "text/plain": [
              "                          accuracy        f1  precision    recall\n",
              "0_baseline               79.265092  0.786219   0.811139  0.792651\n",
              "1_simple_dense           78.215223  0.779381   0.786040  0.782152\n",
              "2_LSTM                   76.246719  0.759522   0.765429  0.762467\n",
              "3_GRU                    76.509186  0.762180   0.768152  0.765092\n",
              "4_bidirectional          74.278215  0.741812   0.742332  0.742782\n",
              "5_Conv1D                 77.821522  0.775608   0.781410  0.778215\n",
              "6_tf_hub_USE             81.364829  0.811631   0.817479  0.813648\n",
              "7_tf_hub_USE_10_percent  77.427822  0.772479   0.775504  0.774278"
            ],
            "text/html": [
              "\n",
              "  <div id=\"df-fe7545bc-9a7e-4612-a6c9-8be79fbecc40\">\n",
              "    <div class=\"colab-df-container\">\n",
              "      <div>\n",
              "<style scoped>\n",
              "    .dataframe tbody tr th:only-of-type {\n",
              "        vertical-align: middle;\n",
              "    }\n",
              "\n",
              "    .dataframe tbody tr th {\n",
              "        vertical-align: top;\n",
              "    }\n",
              "\n",
              "    .dataframe thead th {\n",
              "        text-align: right;\n",
              "    }\n",
              "</style>\n",
              "<table border=\"1\" class=\"dataframe\">\n",
              "  <thead>\n",
              "    <tr style=\"text-align: right;\">\n",
              "      <th></th>\n",
              "      <th>accuracy</th>\n",
              "      <th>f1</th>\n",
              "      <th>precision</th>\n",
              "      <th>recall</th>\n",
              "    </tr>\n",
              "  </thead>\n",
              "  <tbody>\n",
              "    <tr>\n",
              "      <th>0_baseline</th>\n",
              "      <td>79.265092</td>\n",
              "      <td>0.786219</td>\n",
              "      <td>0.811139</td>\n",
              "      <td>0.792651</td>\n",
              "    </tr>\n",
              "    <tr>\n",
              "      <th>1_simple_dense</th>\n",
              "      <td>78.215223</td>\n",
              "      <td>0.779381</td>\n",
              "      <td>0.786040</td>\n",
              "      <td>0.782152</td>\n",
              "    </tr>\n",
              "    <tr>\n",
              "      <th>2_LSTM</th>\n",
              "      <td>76.246719</td>\n",
              "      <td>0.759522</td>\n",
              "      <td>0.765429</td>\n",
              "      <td>0.762467</td>\n",
              "    </tr>\n",
              "    <tr>\n",
              "      <th>3_GRU</th>\n",
              "      <td>76.509186</td>\n",
              "      <td>0.762180</td>\n",
              "      <td>0.768152</td>\n",
              "      <td>0.765092</td>\n",
              "    </tr>\n",
              "    <tr>\n",
              "      <th>4_bidirectional</th>\n",
              "      <td>74.278215</td>\n",
              "      <td>0.741812</td>\n",
              "      <td>0.742332</td>\n",
              "      <td>0.742782</td>\n",
              "    </tr>\n",
              "    <tr>\n",
              "      <th>5_Conv1D</th>\n",
              "      <td>77.821522</td>\n",
              "      <td>0.775608</td>\n",
              "      <td>0.781410</td>\n",
              "      <td>0.778215</td>\n",
              "    </tr>\n",
              "    <tr>\n",
              "      <th>6_tf_hub_USE</th>\n",
              "      <td>81.364829</td>\n",
              "      <td>0.811631</td>\n",
              "      <td>0.817479</td>\n",
              "      <td>0.813648</td>\n",
              "    </tr>\n",
              "    <tr>\n",
              "      <th>7_tf_hub_USE_10_percent</th>\n",
              "      <td>77.427822</td>\n",
              "      <td>0.772479</td>\n",
              "      <td>0.775504</td>\n",
              "      <td>0.774278</td>\n",
              "    </tr>\n",
              "  </tbody>\n",
              "</table>\n",
              "</div>\n",
              "      <button class=\"colab-df-convert\" onclick=\"convertToInteractive('df-fe7545bc-9a7e-4612-a6c9-8be79fbecc40')\"\n",
              "              title=\"Convert this dataframe to an interactive table.\"\n",
              "              style=\"display:none;\">\n",
              "        \n",
              "  <svg xmlns=\"http://www.w3.org/2000/svg\" height=\"24px\"viewBox=\"0 0 24 24\"\n",
              "       width=\"24px\">\n",
              "    <path d=\"M0 0h24v24H0V0z\" fill=\"none\"/>\n",
              "    <path d=\"M18.56 5.44l.94 2.06.94-2.06 2.06-.94-2.06-.94-.94-2.06-.94 2.06-2.06.94zm-11 1L8.5 8.5l.94-2.06 2.06-.94-2.06-.94L8.5 2.5l-.94 2.06-2.06.94zm10 10l.94 2.06.94-2.06 2.06-.94-2.06-.94-.94-2.06-.94 2.06-2.06.94z\"/><path d=\"M17.41 7.96l-1.37-1.37c-.4-.4-.92-.59-1.43-.59-.52 0-1.04.2-1.43.59L10.3 9.45l-7.72 7.72c-.78.78-.78 2.05 0 2.83L4 21.41c.39.39.9.59 1.41.59.51 0 1.02-.2 1.41-.59l7.78-7.78 2.81-2.81c.8-.78.8-2.07 0-2.86zM5.41 20L4 18.59l7.72-7.72 1.47 1.35L5.41 20z\"/>\n",
              "  </svg>\n",
              "      </button>\n",
              "      \n",
              "  <style>\n",
              "    .colab-df-container {\n",
              "      display:flex;\n",
              "      flex-wrap:wrap;\n",
              "      gap: 12px;\n",
              "    }\n",
              "\n",
              "    .colab-df-convert {\n",
              "      background-color: #E8F0FE;\n",
              "      border: none;\n",
              "      border-radius: 50%;\n",
              "      cursor: pointer;\n",
              "      display: none;\n",
              "      fill: #1967D2;\n",
              "      height: 32px;\n",
              "      padding: 0 0 0 0;\n",
              "      width: 32px;\n",
              "    }\n",
              "\n",
              "    .colab-df-convert:hover {\n",
              "      background-color: #E2EBFA;\n",
              "      box-shadow: 0px 1px 2px rgba(60, 64, 67, 0.3), 0px 1px 3px 1px rgba(60, 64, 67, 0.15);\n",
              "      fill: #174EA6;\n",
              "    }\n",
              "\n",
              "    [theme=dark] .colab-df-convert {\n",
              "      background-color: #3B4455;\n",
              "      fill: #D2E3FC;\n",
              "    }\n",
              "\n",
              "    [theme=dark] .colab-df-convert:hover {\n",
              "      background-color: #434B5C;\n",
              "      box-shadow: 0px 1px 3px 1px rgba(0, 0, 0, 0.15);\n",
              "      filter: drop-shadow(0px 1px 2px rgba(0, 0, 0, 0.3));\n",
              "      fill: #FFFFFF;\n",
              "    }\n",
              "  </style>\n",
              "\n",
              "      <script>\n",
              "        const buttonEl =\n",
              "          document.querySelector('#df-fe7545bc-9a7e-4612-a6c9-8be79fbecc40 button.colab-df-convert');\n",
              "        buttonEl.style.display =\n",
              "          google.colab.kernel.accessAllowed ? 'block' : 'none';\n",
              "\n",
              "        async function convertToInteractive(key) {\n",
              "          const element = document.querySelector('#df-fe7545bc-9a7e-4612-a6c9-8be79fbecc40');\n",
              "          const dataTable =\n",
              "            await google.colab.kernel.invokeFunction('convertToInteractive',\n",
              "                                                     [key], {});\n",
              "          if (!dataTable) return;\n",
              "\n",
              "          const docLinkHtml = 'Like what you see? Visit the ' +\n",
              "            '<a target=\"_blank\" href=https://colab.research.google.com/notebooks/data_table.ipynb>data table notebook</a>'\n",
              "            + ' to learn more about interactive tables.';\n",
              "          element.innerHTML = '';\n",
              "          dataTable['output_type'] = 'display_data';\n",
              "          await google.colab.output.renderOutput(dataTable, element);\n",
              "          const docLink = document.createElement('div');\n",
              "          docLink.innerHTML = docLinkHtml;\n",
              "          element.appendChild(docLink);\n",
              "        }\n",
              "      </script>\n",
              "    </div>\n",
              "  </div>\n",
              "  "
            ]
          },
          "metadata": {},
          "execution_count": 86
        }
      ]
    },
    {
      "cell_type": "code",
      "source": [
        "# Reduce the accuracy to the same scale as other metrics\n",
        "all_model_results[\"accuracy\"] = all_model_results[\"accuracy\"]/100\n",
        "all_model_results"
      ],
      "metadata": {
        "colab": {
          "base_uri": "https://localhost:8080/",
          "height": 300
        },
        "id": "to4nqxWOkupb",
        "outputId": "8066f468-12ad-4543-f9d1-bdffb23d296f"
      },
      "execution_count": null,
      "outputs": [
        {
          "output_type": "execute_result",
          "data": {
            "text/plain": [
              "                         accuracy        f1  precision    recall\n",
              "0_baseline               0.792651  0.786219   0.811139  0.792651\n",
              "1_simple_dense           0.782152  0.779381   0.786040  0.782152\n",
              "2_LSTM                   0.762467  0.759522   0.765429  0.762467\n",
              "3_GRU                    0.765092  0.762180   0.768152  0.765092\n",
              "4_bidirectional          0.742782  0.741812   0.742332  0.742782\n",
              "5_Conv1D                 0.778215  0.775608   0.781410  0.778215\n",
              "6_tf_hub_USE             0.813648  0.811631   0.817479  0.813648\n",
              "7_tf_hub_USE_10_percent  0.774278  0.772479   0.775504  0.774278"
            ],
            "text/html": [
              "\n",
              "  <div id=\"df-8e747566-8f52-410c-9a5f-b247c9e689a8\">\n",
              "    <div class=\"colab-df-container\">\n",
              "      <div>\n",
              "<style scoped>\n",
              "    .dataframe tbody tr th:only-of-type {\n",
              "        vertical-align: middle;\n",
              "    }\n",
              "\n",
              "    .dataframe tbody tr th {\n",
              "        vertical-align: top;\n",
              "    }\n",
              "\n",
              "    .dataframe thead th {\n",
              "        text-align: right;\n",
              "    }\n",
              "</style>\n",
              "<table border=\"1\" class=\"dataframe\">\n",
              "  <thead>\n",
              "    <tr style=\"text-align: right;\">\n",
              "      <th></th>\n",
              "      <th>accuracy</th>\n",
              "      <th>f1</th>\n",
              "      <th>precision</th>\n",
              "      <th>recall</th>\n",
              "    </tr>\n",
              "  </thead>\n",
              "  <tbody>\n",
              "    <tr>\n",
              "      <th>0_baseline</th>\n",
              "      <td>0.792651</td>\n",
              "      <td>0.786219</td>\n",
              "      <td>0.811139</td>\n",
              "      <td>0.792651</td>\n",
              "    </tr>\n",
              "    <tr>\n",
              "      <th>1_simple_dense</th>\n",
              "      <td>0.782152</td>\n",
              "      <td>0.779381</td>\n",
              "      <td>0.786040</td>\n",
              "      <td>0.782152</td>\n",
              "    </tr>\n",
              "    <tr>\n",
              "      <th>2_LSTM</th>\n",
              "      <td>0.762467</td>\n",
              "      <td>0.759522</td>\n",
              "      <td>0.765429</td>\n",
              "      <td>0.762467</td>\n",
              "    </tr>\n",
              "    <tr>\n",
              "      <th>3_GRU</th>\n",
              "      <td>0.765092</td>\n",
              "      <td>0.762180</td>\n",
              "      <td>0.768152</td>\n",
              "      <td>0.765092</td>\n",
              "    </tr>\n",
              "    <tr>\n",
              "      <th>4_bidirectional</th>\n",
              "      <td>0.742782</td>\n",
              "      <td>0.741812</td>\n",
              "      <td>0.742332</td>\n",
              "      <td>0.742782</td>\n",
              "    </tr>\n",
              "    <tr>\n",
              "      <th>5_Conv1D</th>\n",
              "      <td>0.778215</td>\n",
              "      <td>0.775608</td>\n",
              "      <td>0.781410</td>\n",
              "      <td>0.778215</td>\n",
              "    </tr>\n",
              "    <tr>\n",
              "      <th>6_tf_hub_USE</th>\n",
              "      <td>0.813648</td>\n",
              "      <td>0.811631</td>\n",
              "      <td>0.817479</td>\n",
              "      <td>0.813648</td>\n",
              "    </tr>\n",
              "    <tr>\n",
              "      <th>7_tf_hub_USE_10_percent</th>\n",
              "      <td>0.774278</td>\n",
              "      <td>0.772479</td>\n",
              "      <td>0.775504</td>\n",
              "      <td>0.774278</td>\n",
              "    </tr>\n",
              "  </tbody>\n",
              "</table>\n",
              "</div>\n",
              "      <button class=\"colab-df-convert\" onclick=\"convertToInteractive('df-8e747566-8f52-410c-9a5f-b247c9e689a8')\"\n",
              "              title=\"Convert this dataframe to an interactive table.\"\n",
              "              style=\"display:none;\">\n",
              "        \n",
              "  <svg xmlns=\"http://www.w3.org/2000/svg\" height=\"24px\"viewBox=\"0 0 24 24\"\n",
              "       width=\"24px\">\n",
              "    <path d=\"M0 0h24v24H0V0z\" fill=\"none\"/>\n",
              "    <path d=\"M18.56 5.44l.94 2.06.94-2.06 2.06-.94-2.06-.94-.94-2.06-.94 2.06-2.06.94zm-11 1L8.5 8.5l.94-2.06 2.06-.94-2.06-.94L8.5 2.5l-.94 2.06-2.06.94zm10 10l.94 2.06.94-2.06 2.06-.94-2.06-.94-.94-2.06-.94 2.06-2.06.94z\"/><path d=\"M17.41 7.96l-1.37-1.37c-.4-.4-.92-.59-1.43-.59-.52 0-1.04.2-1.43.59L10.3 9.45l-7.72 7.72c-.78.78-.78 2.05 0 2.83L4 21.41c.39.39.9.59 1.41.59.51 0 1.02-.2 1.41-.59l7.78-7.78 2.81-2.81c.8-.78.8-2.07 0-2.86zM5.41 20L4 18.59l7.72-7.72 1.47 1.35L5.41 20z\"/>\n",
              "  </svg>\n",
              "      </button>\n",
              "      \n",
              "  <style>\n",
              "    .colab-df-container {\n",
              "      display:flex;\n",
              "      flex-wrap:wrap;\n",
              "      gap: 12px;\n",
              "    }\n",
              "\n",
              "    .colab-df-convert {\n",
              "      background-color: #E8F0FE;\n",
              "      border: none;\n",
              "      border-radius: 50%;\n",
              "      cursor: pointer;\n",
              "      display: none;\n",
              "      fill: #1967D2;\n",
              "      height: 32px;\n",
              "      padding: 0 0 0 0;\n",
              "      width: 32px;\n",
              "    }\n",
              "\n",
              "    .colab-df-convert:hover {\n",
              "      background-color: #E2EBFA;\n",
              "      box-shadow: 0px 1px 2px rgba(60, 64, 67, 0.3), 0px 1px 3px 1px rgba(60, 64, 67, 0.15);\n",
              "      fill: #174EA6;\n",
              "    }\n",
              "\n",
              "    [theme=dark] .colab-df-convert {\n",
              "      background-color: #3B4455;\n",
              "      fill: #D2E3FC;\n",
              "    }\n",
              "\n",
              "    [theme=dark] .colab-df-convert:hover {\n",
              "      background-color: #434B5C;\n",
              "      box-shadow: 0px 1px 3px 1px rgba(0, 0, 0, 0.15);\n",
              "      filter: drop-shadow(0px 1px 2px rgba(0, 0, 0, 0.3));\n",
              "      fill: #FFFFFF;\n",
              "    }\n",
              "  </style>\n",
              "\n",
              "      <script>\n",
              "        const buttonEl =\n",
              "          document.querySelector('#df-8e747566-8f52-410c-9a5f-b247c9e689a8 button.colab-df-convert');\n",
              "        buttonEl.style.display =\n",
              "          google.colab.kernel.accessAllowed ? 'block' : 'none';\n",
              "\n",
              "        async function convertToInteractive(key) {\n",
              "          const element = document.querySelector('#df-8e747566-8f52-410c-9a5f-b247c9e689a8');\n",
              "          const dataTable =\n",
              "            await google.colab.kernel.invokeFunction('convertToInteractive',\n",
              "                                                     [key], {});\n",
              "          if (!dataTable) return;\n",
              "\n",
              "          const docLinkHtml = 'Like what you see? Visit the ' +\n",
              "            '<a target=\"_blank\" href=https://colab.research.google.com/notebooks/data_table.ipynb>data table notebook</a>'\n",
              "            + ' to learn more about interactive tables.';\n",
              "          element.innerHTML = '';\n",
              "          dataTable['output_type'] = 'display_data';\n",
              "          await google.colab.output.renderOutput(dataTable, element);\n",
              "          const docLink = document.createElement('div');\n",
              "          docLink.innerHTML = docLinkHtml;\n",
              "          element.appendChild(docLink);\n",
              "        }\n",
              "      </script>\n",
              "    </div>\n",
              "  </div>\n",
              "  "
            ]
          },
          "metadata": {},
          "execution_count": 87
        }
      ]
    },
    {
      "cell_type": "code",
      "source": [
        "# Plot and compare all of the model results\n",
        "all_model_results.plot(kind=\"bar\", figsize=(10, 7)).legend(bbox_to_anchor=(1.0, 1.0))"
      ],
      "metadata": {
        "colab": {
          "base_uri": "https://localhost:8080/",
          "height": 565
        },
        "id": "307jK9tBl0Qz",
        "outputId": "accb7280-e3cb-4416-e81d-142ba7039eb2"
      },
      "execution_count": null,
      "outputs": [
        {
          "output_type": "execute_result",
          "data": {
            "text/plain": [
              "<matplotlib.legend.Legend at 0x7f0d698e8050>"
            ]
          },
          "metadata": {},
          "execution_count": 88
        },
        {
          "output_type": "display_data",
          "data": {
            "text/plain": [
              "<Figure size 720x504 with 1 Axes>"
            ],
            "image/png": "[encoded data removed]"
          },
          "metadata": {
            "needs_background": "light"
          }
        }
      ]
    },
    {
      "cell_type": "code",
      "source": [
        "# Sort model results by f1-score\n",
        "all_model_results.sort_values(\"f1\", ascending=False)[\"f1\"].plot(kind=\"bar\", figsize=(10, 7))"
      ],
      "metadata": {
        "colab": {
          "base_uri": "https://localhost:8080/",
          "height": 565
        },
        "id": "wFgTt399mAa6",
        "outputId": "2c5372c3-f779-4e9e-a38b-b9d5cfad02c9"
      },
      "execution_count": null,
      "outputs": [
        {
          "output_type": "execute_result",
          "data": {
            "text/plain": [
              "<matplotlib.axes._subplots.AxesSubplot at 0x7f0d69f2a9d0>"
            ]
          },
          "metadata": {},
          "execution_count": 89
        },
        {
          "output_type": "display_data",
          "data": {
            "text/plain": [
              "<Figure size 720x504 with 1 Axes>"
            ],
            "image/png": "[encoded data removed]"
          },
          "metadata": {
            "needs_background": "light"
          }
        }
      ]
    },
    {
      "cell_type": "markdown",
      "source": [
        "## Uploading our model training logs to TensorBoard.dev\n",
        "\n",
        "We can further inspect our model's performance using https://tensorboard.dev."
      ],
      "metadata": {
        "id": "a9UGlkOim3Dm"
      }
    },
    {
      "cell_type": "code",
      "source": [
        "# View TensorBoard logs for all modelling experiments so far\n",
        "!tensorboard dev upload --logdir /content/model_logs \\\n",
        "  --name \"NLP Modelling Experiments\" \\\n",
        "  --description \"Comparing multiple different types of model architectures on the Kaggle Tweets text classification dataset\" \\\n",
        "  --one_shot"
      ],
      "metadata": {
        "id": "OTl9snwYnS6j"
      },
      "execution_count": null,
      "outputs": []
    },
    {
      "cell_type": "markdown",
      "source": [
        "TensorBoard can be viewed here: https://tensorboard.dev/experiment/Xw4EdeWpT2K17PLZ2hWSXw/"
      ],
      "metadata": {
        "id": "qzP-GnKnn85j"
      }
    },
    {
      "cell_type": "code",
      "source": [
        "# See the previous TensorBoard Dev experiments you've run\n",
        "# !tensorboard dev list"
      ],
      "metadata": {
        "id": "TbZY18jYAzhh"
      },
      "execution_count": null,
      "outputs": []
    },
    {
      "cell_type": "markdown",
      "source": [
        "## Saving and loading a trained model\n",
        "\n",
        "There are two main formats to save a model to in TensorFlow:\n",
        "1. The HDF5 format\n",
        "2. The `SavedModel` format (this is the default when using TensorFlow)\n",
        "\n",
        "Refer to this guide: https://www.tensorflow.org/tutorials/keras/save_and_load"
      ],
      "metadata": {
        "id": "Skbjxtz3A3DF"
      }
    },
    {
      "cell_type": "code",
      "source": [
        "# Save TF Hub USE model to HDF5 format\n",
        "model_6.save(\"model_6.h5\")"
      ],
      "metadata": {
        "id": "xCy6B5yu5XFa"
      },
      "execution_count": null,
      "outputs": []
    },
    {
      "cell_type": "code",
      "source": [
        "# Load model with custom Hub Layer (required for HDF5 format)\n",
        "import tensorflow_hub as hub\n",
        "loaded_model_6_HDF5_format = tf.keras.models.load_model(\"model_6.h5\",\n",
        "                                                        custom_objects={\"KerasLayer\": hub.KerasLayer})"
      ],
      "metadata": {
        "id": "xN9pURUd5Yze"
      },
      "execution_count": null,
      "outputs": []
    },
    {
      "cell_type": "code",
      "source": [
        "# How does our loaded model perform?\n",
        "loaded_model_6_HDF5_format.evaluate(val_sentences, val_labels)"
      ],
      "metadata": {
        "colab": {
          "base_uri": "https://localhost:8080/"
        },
        "id": "1RSdzfNF6QRL",
        "outputId": "4e16a75b-9c03-41c1-e3ea-df73db497a0c"
      },
      "execution_count": null,
      "outputs": [
        {
          "output_type": "stream",
          "name": "stdout",
          "text": [
            "24/24 [==============================] - 1s 16ms/step - loss: 0.4298 - accuracy: 0.8136\n"
          ]
        },
        {
          "output_type": "execute_result",
          "data": {
            "text/plain": [
              "[0.42978182435035706, 0.8136482834815979]"
            ]
          },
          "metadata": {},
          "execution_count": 94
        }
      ]
    },
    {
      "cell_type": "code",
      "source": [
        "model_6_results"
      ],
      "metadata": {
        "colab": {
          "base_uri": "https://localhost:8080/"
        },
        "id": "-E7LDZiI6Wbz",
        "outputId": "8a031358-175b-44c7-860f-6d36c9771f5a"
      },
      "execution_count": null,
      "outputs": [
        {
          "output_type": "execute_result",
          "data": {
            "text/plain": [
              "{'accuracy': 81.36482939632546,\n",
              " 'f1': 0.8116306237412022,\n",
              " 'precision': 0.8174785156553263,\n",
              " 'recall': 0.8136482939632546}"
            ]
          },
          "metadata": {},
          "execution_count": 95
        }
      ]
    },
    {
      "cell_type": "markdown",
      "source": [
        "Now let's save to the `SavedModel` format."
      ],
      "metadata": {
        "id": "vleT8Hm-6X4X"
      }
    },
    {
      "cell_type": "code",
      "source": [
        "# Save the TF Hub USE model to SavedModel format (default)\n",
        "model_6.save(\"model_6_SavedModel_format\")"
      ],
      "metadata": {
        "colab": {
          "base_uri": "https://localhost:8080/"
        },
        "id": "8pn__uyq7Lku",
        "outputId": "832299c0-3bcc-4f46-e7bf-dc4195367ec8"
      },
      "execution_count": null,
      "outputs": [
        {
          "output_type": "stream",
          "name": "stderr",
          "text": [
            "WARNING:absl:Function `_wrapped_model` contains input name(s) USE_input with unsupported characters which will be renamed to use_input in the SavedModel.\n"
          ]
        },
        {
          "output_type": "stream",
          "name": "stdout",
          "text": [
            "INFO:tensorflow:Assets written to: model_6_SavedModel_format/assets\n"
          ]
        },
        {
          "output_type": "stream",
          "name": "stderr",
          "text": [
            "INFO:tensorflow:Assets written to: model_6_SavedModel_format/assets\n"
          ]
        }
      ]
    },
    {
      "cell_type": "code",
      "source": [
        "# Load model from SavedModel format\n",
        "loaded_model_6_SavedModel_format = tf.keras.models.load_model(\"model_6_SavedModel_format\")"
      ],
      "metadata": {
        "id": "lfg5ThjK7Qy7"
      },
      "execution_count": null,
      "outputs": []
    },
    {
      "cell_type": "code",
      "source": [
        "# Evaluat model in SavedModel format\n",
        "loaded_model_6_SavedModel_format.evaluate(val_sentences, val_labels)"
      ],
      "metadata": {
        "colab": {
          "base_uri": "https://localhost:8080/"
        },
        "id": "ASBD-7mU7nQb",
        "outputId": "cd568c18-5963-4590-bbad-2adb2d6c2164"
      },
      "execution_count": null,
      "outputs": [
        {
          "output_type": "stream",
          "name": "stdout",
          "text": [
            "24/24 [==============================] - 1s 15ms/step - loss: 0.4298 - accuracy: 0.8136\n"
          ]
        },
        {
          "output_type": "execute_result",
          "data": {
            "text/plain": [
              "[0.42978182435035706, 0.8136482834815979]"
            ]
          },
          "metadata": {},
          "execution_count": 98
        }
      ]
    },
    {
      "cell_type": "markdown",
      "source": [
        "## Finding the most wrong examples\n",
        "\n",
        "* If our best model still isn't perfect, what examples is it getting wrong?\n",
        "* Of these wrong examples, which ones is it getting *most* wrong (those with prediction probabilities closest to the opposite class)?\n",
        "\n",
        "For example, if a sample should have a label of 0 but our model predicts a prediction probability of 0.999 (close to 1) and vice versa."
      ],
      "metadata": {
        "id": "9jug2V0J7sqY"
      }
    },
    {
      "cell_type": "code",
      "source": [
        "# Download a pretrained model from Google Storage\n",
        "!wget https://storage.googleapis.com/ztm_tf_course/08_model_6_USE_feature_extractor.zip\n",
        "!unzip 08_model_6_USE_feature_extractor.zip"
      ],
      "metadata": {
        "colab": {
          "base_uri": "https://localhost:8080/"
        },
        "id": "k_yigjHj9B1S",
        "outputId": "afe7a58c-89bc-479c-a167-0a69fc06f421"
      },
      "execution_count": null,
      "outputs": [
        {
          "output_type": "stream",
          "name": "stdout",
          "text": [
            "--2022-04-27 14:53:43--  https://storage.googleapis.com/ztm_tf_course/08_model_6_USE_feature_extractor.zip\n",
            "Resolving storage.googleapis.com (storage.googleapis.com)... 142.251.8.128, 74.125.23.128, 74.125.203.128, ...\n",
            "Connecting to storage.googleapis.com (storage.googleapis.com)|142.251.8.128|:443... connected.\n",
            "HTTP request sent, awaiting response... 200 OK\n",
            "Length: 960779165 (916M) [application/zip]\n",
            "Saving to: ‘08_model_6_USE_feature_extractor.zip’\n",
            "\n",
            "08_model_6_USE_feat 100%[===================>] 916.27M  38.7MB/s    in 16s     \n",
            "\n",
            "2022-04-27 14:53:59 (57.6 MB/s) - ‘08_model_6_USE_feature_extractor.zip’ saved [960779165/960779165]\n",
            "\n",
            "Archive:  08_model_6_USE_feature_extractor.zip\n",
            "   creating: 08_model_6_USE_feature_extractor/\n",
            "   creating: 08_model_6_USE_feature_extractor/assets/\n",
            "   creating: 08_model_6_USE_feature_extractor/variables/\n",
            "  inflating: 08_model_6_USE_feature_extractor/variables/variables.data-00000-of-00001  \n",
            "  inflating: 08_model_6_USE_feature_extractor/variables/variables.index  \n",
            "  inflating: 08_model_6_USE_feature_extractor/saved_model.pb  \n"
          ]
        }
      ]
    },
    {
      "cell_type": "code",
      "source": [
        "# Import previously trained model from Google Storage\n",
        "model_6_pretrained = tf.keras.models.load_model(\"08_model_6_USE_feature_extractor\")\n",
        "model_6_pretrained.evaluate(val_sentences, val_labels)"
      ],
      "metadata": {
        "colab": {
          "base_uri": "https://localhost:8080/"
        },
        "id": "Pai1yKb59ha5",
        "outputId": "29afc1ee-77e0-4845-cbd0-ac59ae50573d"
      },
      "execution_count": null,
      "outputs": [
        {
          "output_type": "stream",
          "name": "stdout",
          "text": [
            "WARNING:tensorflow:SavedModel saved prior to TF 2.5 detected when loading Keras model. Please ensure that you are saving the model with model.save() or tf.keras.models.save_model(), *NOT* tf.saved_model.save(). To confirm, there should be a file named \"keras_metadata.pb\" in the SavedModel directory.\n"
          ]
        },
        {
          "output_type": "stream",
          "name": "stderr",
          "text": [
            "WARNING:tensorflow:SavedModel saved prior to TF 2.5 detected when loading Keras model. Please ensure that you are saving the model with model.save() or tf.keras.models.save_model(), *NOT* tf.saved_model.save(). To confirm, there should be a file named \"keras_metadata.pb\" in the SavedModel directory.\n"
          ]
        },
        {
          "output_type": "stream",
          "name": "stdout",
          "text": [
            "24/24 [==============================] - 1s 15ms/step - loss: 0.4272 - accuracy: 0.8163\n"
          ]
        },
        {
          "output_type": "execute_result",
          "data": {
            "text/plain": [
              "[0.42723119258880615, 0.8162729740142822]"
            ]
          },
          "metadata": {},
          "execution_count": 100
        }
      ]
    },
    {
      "cell_type": "code",
      "source": [
        "# Make predictions with the loaded model from GS\n",
        "model_6_pretrained_pred_probs = model_6_pretrained.predict(val_sentences)\n",
        "model_6_pretrained_preds = tf.squeeze(tf.round(model_6_pretrained_pred_probs))"
      ],
      "metadata": {
        "id": "56_hPlWm9uhe"
      },
      "execution_count": null,
      "outputs": []
    },
    {
      "cell_type": "code",
      "source": [
        "# Create DataFrame with validation sentences, validation labels and best performing model prediction labels + probabilities\n",
        "val_df = pd.DataFrame({\"text\": val_sentences,\n",
        "                       \"target\": val_labels,\n",
        "                       \"pred\": model_6_pretrained_preds,\n",
        "                       \"pred_prob\": tf.squeeze(model_6_pretrained_pred_probs)})\n",
        "val_df.head()"
      ],
      "metadata": {
        "colab": {
          "base_uri": "https://localhost:8080/",
          "height": 206
        },
        "id": "3ya2tTI38Q6k",
        "outputId": "4e42f7f2-5344-475c-825e-3033d1a6b4d6"
      },
      "execution_count": null,
      "outputs": [
        {
          "output_type": "execute_result",
          "data": {
            "text/plain": [
              "                                                text  target  pred  pred_prob\n",
              "0  DFR EP016 Monthly Meltdown - On Dnbheaven 2015...       0   0.0   0.159757\n",
              "1  FedEx no longer to transport bioterror germs i...       0   1.0   0.747162\n",
              "2  Gunmen kill four in El Salvador bus attack: Su...       1   1.0   0.988749\n",
              "3  @camilacabello97 Internally and externally scr...       1   0.0   0.196229\n",
              "4  Radiation emergency #preparedness starts with ...       1   1.0   0.707808"
            ],
            "text/html": [
              "\n",
              "  <div id=\"df-69b8724b-b195-4143-b61d-7205105f9aa5\">\n",
              "    <div class=\"colab-df-container\">\n",
              "      <div>\n",
              "<style scoped>\n",
              "    .dataframe tbody tr th:only-of-type {\n",
              "        vertical-align: middle;\n",
              "    }\n",
              "\n",
              "    .dataframe tbody tr th {\n",
              "        vertical-align: top;\n",
              "    }\n",
              "\n",
              "    .dataframe thead th {\n",
              "        text-align: right;\n",
              "    }\n",
              "</style>\n",
              "<table border=\"1\" class=\"dataframe\">\n",
              "  <thead>\n",
              "    <tr style=\"text-align: right;\">\n",
              "      <th></th>\n",
              "      <th>text</th>\n",
              "      <th>target</th>\n",
              "      <th>pred</th>\n",
              "      <th>pred_prob</th>\n",
              "    </tr>\n",
              "  </thead>\n",
              "  <tbody>\n",
              "    <tr>\n",
              "      <th>0</th>\n",
              "      <td>DFR EP016 Monthly Meltdown - On Dnbheaven 2015...</td>\n",
              "      <td>0</td>\n",
              "      <td>0.0</td>\n",
              "      <td>0.159757</td>\n",
              "    </tr>\n",
              "    <tr>\n",
              "      <th>1</th>\n",
              "      <td>FedEx no longer to transport bioterror germs i...</td>\n",
              "      <td>0</td>\n",
              "      <td>1.0</td>\n",
              "      <td>0.747162</td>\n",
              "    </tr>\n",
              "    <tr>\n",
              "      <th>2</th>\n",
              "      <td>Gunmen kill four in El Salvador bus attack: Su...</td>\n",
              "      <td>1</td>\n",
              "      <td>1.0</td>\n",
              "      <td>0.988749</td>\n",
              "    </tr>\n",
              "    <tr>\n",
              "      <th>3</th>\n",
              "      <td>@camilacabello97 Internally and externally scr...</td>\n",
              "      <td>1</td>\n",
              "      <td>0.0</td>\n",
              "      <td>0.196229</td>\n",
              "    </tr>\n",
              "    <tr>\n",
              "      <th>4</th>\n",
              "      <td>Radiation emergency #preparedness starts with ...</td>\n",
              "      <td>1</td>\n",
              "      <td>1.0</td>\n",
              "      <td>0.707808</td>\n",
              "    </tr>\n",
              "  </tbody>\n",
              "</table>\n",
              "</div>\n",
              "      <button class=\"colab-df-convert\" onclick=\"convertToInteractive('df-69b8724b-b195-4143-b61d-7205105f9aa5')\"\n",
              "              title=\"Convert this dataframe to an interactive table.\"\n",
              "              style=\"display:none;\">\n",
              "        \n",
              "  <svg xmlns=\"http://www.w3.org/2000/svg\" height=\"24px\"viewBox=\"0 0 24 24\"\n",
              "       width=\"24px\">\n",
              "    <path d=\"M0 0h24v24H0V0z\" fill=\"none\"/>\n",
              "    <path d=\"M18.56 5.44l.94 2.06.94-2.06 2.06-.94-2.06-.94-.94-2.06-.94 2.06-2.06.94zm-11 1L8.5 8.5l.94-2.06 2.06-.94-2.06-.94L8.5 2.5l-.94 2.06-2.06.94zm10 10l.94 2.06.94-2.06 2.06-.94-2.06-.94-.94-2.06-.94 2.06-2.06.94z\"/><path d=\"M17.41 7.96l-1.37-1.37c-.4-.4-.92-.59-1.43-.59-.52 0-1.04.2-1.43.59L10.3 9.45l-7.72 7.72c-.78.78-.78 2.05 0 2.83L4 21.41c.39.39.9.59 1.41.59.51 0 1.02-.2 1.41-.59l7.78-7.78 2.81-2.81c.8-.78.8-2.07 0-2.86zM5.41 20L4 18.59l7.72-7.72 1.47 1.35L5.41 20z\"/>\n",
              "  </svg>\n",
              "      </button>\n",
              "      \n",
              "  <style>\n",
              "    .colab-df-container {\n",
              "      display:flex;\n",
              "      flex-wrap:wrap;\n",
              "      gap: 12px;\n",
              "    }\n",
              "\n",
              "    .colab-df-convert {\n",
              "      background-color: #E8F0FE;\n",
              "      border: none;\n",
              "      border-radius: 50%;\n",
              "      cursor: pointer;\n",
              "      display: none;\n",
              "      fill: #1967D2;\n",
              "      height: 32px;\n",
              "      padding: 0 0 0 0;\n",
              "      width: 32px;\n",
              "    }\n",
              "\n",
              "    .colab-df-convert:hover {\n",
              "      background-color: #E2EBFA;\n",
              "      box-shadow: 0px 1px 2px rgba(60, 64, 67, 0.3), 0px 1px 3px 1px rgba(60, 64, 67, 0.15);\n",
              "      fill: #174EA6;\n",
              "    }\n",
              "\n",
              "    [theme=dark] .colab-df-convert {\n",
              "      background-color: #3B4455;\n",
              "      fill: #D2E3FC;\n",
              "    }\n",
              "\n",
              "    [theme=dark] .colab-df-convert:hover {\n",
              "      background-color: #434B5C;\n",
              "      box-shadow: 0px 1px 3px 1px rgba(0, 0, 0, 0.15);\n",
              "      filter: drop-shadow(0px 1px 2px rgba(0, 0, 0, 0.3));\n",
              "      fill: #FFFFFF;\n",
              "    }\n",
              "  </style>\n",
              "\n",
              "      <script>\n",
              "        const buttonEl =\n",
              "          document.querySelector('#df-69b8724b-b195-4143-b61d-7205105f9aa5 button.colab-df-convert');\n",
              "        buttonEl.style.display =\n",
              "          google.colab.kernel.accessAllowed ? 'block' : 'none';\n",
              "\n",
              "        async function convertToInteractive(key) {\n",
              "          const element = document.querySelector('#df-69b8724b-b195-4143-b61d-7205105f9aa5');\n",
              "          const dataTable =\n",
              "            await google.colab.kernel.invokeFunction('convertToInteractive',\n",
              "                                                     [key], {});\n",
              "          if (!dataTable) return;\n",
              "\n",
              "          const docLinkHtml = 'Like what you see? Visit the ' +\n",
              "            '<a target=\"_blank\" href=https://colab.research.google.com/notebooks/data_table.ipynb>data table notebook</a>'\n",
              "            + ' to learn more about interactive tables.';\n",
              "          element.innerHTML = '';\n",
              "          dataTable['output_type'] = 'display_data';\n",
              "          await google.colab.output.renderOutput(dataTable, element);\n",
              "          const docLink = document.createElement('div');\n",
              "          docLink.innerHTML = docLinkHtml;\n",
              "          element.appendChild(docLink);\n",
              "        }\n",
              "      </script>\n",
              "    </div>\n",
              "  </div>\n",
              "  "
            ]
          },
          "metadata": {},
          "execution_count": 102
        }
      ]
    },
    {
      "cell_type": "markdown",
      "source": [
        "Let's remind ourselves of the target labels:\n",
        "* `0` = not disaster\n",
        "* `1` = disaster"
      ],
      "metadata": {
        "id": "Van6Gls5-05t"
      }
    },
    {
      "cell_type": "code",
      "source": [
        "# Find the wrong predictions and sort by pred_prob\n",
        "most_wrong = val_df[val_df[\"target\"] != val_df[\"pred\"]].sort_values(\"pred_prob\", ascending=False)\n",
        "most_wrong.head()"
      ],
      "metadata": {
        "colab": {
          "base_uri": "https://localhost:8080/",
          "height": 206
        },
        "id": "KDOKsOxF-QxL",
        "outputId": "e8342cd2-66ff-475e-9371-06c97adad58a"
      },
      "execution_count": null,
      "outputs": [
        {
          "output_type": "execute_result",
          "data": {
            "text/plain": [
              "                                                  text  target  pred  \\\n",
              "31   ? High Skies - Burning Buildings ? http://t.co...       0   1.0   \n",
              "759  FedEx will no longer transport bioterror patho...       0   1.0   \n",
              "628  @noah_anyname That's where the concentration c...       0   1.0   \n",
              "209  Ashes 2015: AustraliaÛªs collapse at Trent Br...       0   1.0   \n",
              "251  @AshGhebranious civil rights continued in the ...       0   1.0   \n",
              "\n",
              "     pred_prob  \n",
              "31    0.910196  \n",
              "759   0.876982  \n",
              "628   0.852300  \n",
              "209   0.835454  \n",
              "251   0.827213  "
            ],
            "text/html": [
              "\n",
              "  <div id=\"df-e2a923e6-770b-4535-9b88-5cf816016ad7\">\n",
              "    <div class=\"colab-df-container\">\n",
              "      <div>\n",
              "<style scoped>\n",
              "    .dataframe tbody tr th:only-of-type {\n",
              "        vertical-align: middle;\n",
              "    }\n",
              "\n",
              "    .dataframe tbody tr th {\n",
              "        vertical-align: top;\n",
              "    }\n",
              "\n",
              "    .dataframe thead th {\n",
              "        text-align: right;\n",
              "    }\n",
              "</style>\n",
              "<table border=\"1\" class=\"dataframe\">\n",
              "  <thead>\n",
              "    <tr style=\"text-align: right;\">\n",
              "      <th></th>\n",
              "      <th>text</th>\n",
              "      <th>target</th>\n",
              "      <th>pred</th>\n",
              "      <th>pred_prob</th>\n",
              "    </tr>\n",
              "  </thead>\n",
              "  <tbody>\n",
              "    <tr>\n",
              "      <th>31</th>\n",
              "      <td>? High Skies - Burning Buildings ? http://t.co...</td>\n",
              "      <td>0</td>\n",
              "      <td>1.0</td>\n",
              "      <td>0.910196</td>\n",
              "    </tr>\n",
              "    <tr>\n",
              "      <th>759</th>\n",
              "      <td>FedEx will no longer transport bioterror patho...</td>\n",
              "      <td>0</td>\n",
              "      <td>1.0</td>\n",
              "      <td>0.876982</td>\n",
              "    </tr>\n",
              "    <tr>\n",
              "      <th>628</th>\n",
              "      <td>@noah_anyname That's where the concentration c...</td>\n",
              "      <td>0</td>\n",
              "      <td>1.0</td>\n",
              "      <td>0.852300</td>\n",
              "    </tr>\n",
              "    <tr>\n",
              "      <th>209</th>\n",
              "      <td>Ashes 2015: AustraliaÛªs collapse at Trent Br...</td>\n",
              "      <td>0</td>\n",
              "      <td>1.0</td>\n",
              "      <td>0.835454</td>\n",
              "    </tr>\n",
              "    <tr>\n",
              "      <th>251</th>\n",
              "      <td>@AshGhebranious civil rights continued in the ...</td>\n",
              "      <td>0</td>\n",
              "      <td>1.0</td>\n",
              "      <td>0.827213</td>\n",
              "    </tr>\n",
              "  </tbody>\n",
              "</table>\n",
              "</div>\n",
              "      <button class=\"colab-df-convert\" onclick=\"convertToInteractive('df-e2a923e6-770b-4535-9b88-5cf816016ad7')\"\n",
              "              title=\"Convert this dataframe to an interactive table.\"\n",
              "              style=\"display:none;\">\n",
              "        \n",
              "  <svg xmlns=\"http://www.w3.org/2000/svg\" height=\"24px\"viewBox=\"0 0 24 24\"\n",
              "       width=\"24px\">\n",
              "    <path d=\"M0 0h24v24H0V0z\" fill=\"none\"/>\n",
              "    <path d=\"M18.56 5.44l.94 2.06.94-2.06 2.06-.94-2.06-.94-.94-2.06-.94 2.06-2.06.94zm-11 1L8.5 8.5l.94-2.06 2.06-.94-2.06-.94L8.5 2.5l-.94 2.06-2.06.94zm10 10l.94 2.06.94-2.06 2.06-.94-2.06-.94-.94-2.06-.94 2.06-2.06.94z\"/><path d=\"M17.41 7.96l-1.37-1.37c-.4-.4-.92-.59-1.43-.59-.52 0-1.04.2-1.43.59L10.3 9.45l-7.72 7.72c-.78.78-.78 2.05 0 2.83L4 21.41c.39.39.9.59 1.41.59.51 0 1.02-.2 1.41-.59l7.78-7.78 2.81-2.81c.8-.78.8-2.07 0-2.86zM5.41 20L4 18.59l7.72-7.72 1.47 1.35L5.41 20z\"/>\n",
              "  </svg>\n",
              "      </button>\n",
              "      \n",
              "  <style>\n",
              "    .colab-df-container {\n",
              "      display:flex;\n",
              "      flex-wrap:wrap;\n",
              "      gap: 12px;\n",
              "    }\n",
              "\n",
              "    .colab-df-convert {\n",
              "      background-color: #E8F0FE;\n",
              "      border: none;\n",
              "      border-radius: 50%;\n",
              "      cursor: pointer;\n",
              "      display: none;\n",
              "      fill: #1967D2;\n",
              "      height: 32px;\n",
              "      padding: 0 0 0 0;\n",
              "      width: 32px;\n",
              "    }\n",
              "\n",
              "    .colab-df-convert:hover {\n",
              "      background-color: #E2EBFA;\n",
              "      box-shadow: 0px 1px 2px rgba(60, 64, 67, 0.3), 0px 1px 3px 1px rgba(60, 64, 67, 0.15);\n",
              "      fill: #174EA6;\n",
              "    }\n",
              "\n",
              "    [theme=dark] .colab-df-convert {\n",
              "      background-color: #3B4455;\n",
              "      fill: #D2E3FC;\n",
              "    }\n",
              "\n",
              "    [theme=dark] .colab-df-convert:hover {\n",
              "      background-color: #434B5C;\n",
              "      box-shadow: 0px 1px 3px 1px rgba(0, 0, 0, 0.15);\n",
              "      filter: drop-shadow(0px 1px 2px rgba(0, 0, 0, 0.3));\n",
              "      fill: #FFFFFF;\n",
              "    }\n",
              "  </style>\n",
              "\n",
              "      <script>\n",
              "        const buttonEl =\n",
              "          document.querySelector('#df-e2a923e6-770b-4535-9b88-5cf816016ad7 button.colab-df-convert');\n",
              "        buttonEl.style.display =\n",
              "          google.colab.kernel.accessAllowed ? 'block' : 'none';\n",
              "\n",
              "        async function convertToInteractive(key) {\n",
              "          const element = document.querySelector('#df-e2a923e6-770b-4535-9b88-5cf816016ad7');\n",
              "          const dataTable =\n",
              "            await google.colab.kernel.invokeFunction('convertToInteractive',\n",
              "                                                     [key], {});\n",
              "          if (!dataTable) return;\n",
              "\n",
              "          const docLinkHtml = 'Like what you see? Visit the ' +\n",
              "            '<a target=\"_blank\" href=https://colab.research.google.com/notebooks/data_table.ipynb>data table notebook</a>'\n",
              "            + ' to learn more about interactive tables.';\n",
              "          element.innerHTML = '';\n",
              "          dataTable['output_type'] = 'display_data';\n",
              "          await google.colab.output.renderOutput(dataTable, element);\n",
              "          const docLink = document.createElement('div');\n",
              "          docLink.innerHTML = docLinkHtml;\n",
              "          element.appendChild(docLink);\n",
              "        }\n",
              "      </script>\n",
              "    </div>\n",
              "  </div>\n",
              "  "
            ]
          },
          "metadata": {},
          "execution_count": 103
        }
      ]
    },
    {
      "cell_type": "markdown",
      "source": [
        "> Those whose predictions are 1 when it should be 0 are called false positives."
      ],
      "metadata": {
        "id": "cc30W2IZ_b3V"
      }
    },
    {
      "cell_type": "code",
      "source": [
        "most_wrong.tail()"
      ],
      "metadata": {
        "colab": {
          "base_uri": "https://localhost:8080/",
          "height": 206
        },
        "id": "WM44FXgR_HnK",
        "outputId": "5b38974c-1444-47ac-97f4-79f09f6c7eef"
      },
      "execution_count": null,
      "outputs": [
        {
          "output_type": "execute_result",
          "data": {
            "text/plain": [
              "                                                  text  target  pred  \\\n",
              "411  @SoonerMagic_ I mean I'm a fan but I don't nee...       1   0.0   \n",
              "233                    I get to smoke my shit in peace       1   0.0   \n",
              "38   Why are you deluged with low self-image? Take ...       1   0.0   \n",
              "244  Reddit Will Now QuarantineÛ_ http://t.co/pkUA...       1   0.0   \n",
              "23   Ron &amp; Fez - Dave's High School Crush https...       1   0.0   \n",
              "\n",
              "     pred_prob  \n",
              "411   0.043918  \n",
              "233   0.042087  \n",
              "38    0.038998  \n",
              "244   0.038949  \n",
              "23    0.037186  "
            ],
            "text/html": [
              "\n",
              "  <div id=\"df-0d96603a-8978-49c2-bc91-a0eff519eaf9\">\n",
              "    <div class=\"colab-df-container\">\n",
              "      <div>\n",
              "<style scoped>\n",
              "    .dataframe tbody tr th:only-of-type {\n",
              "        vertical-align: middle;\n",
              "    }\n",
              "\n",
              "    .dataframe tbody tr th {\n",
              "        vertical-align: top;\n",
              "    }\n",
              "\n",
              "    .dataframe thead th {\n",
              "        text-align: right;\n",
              "    }\n",
              "</style>\n",
              "<table border=\"1\" class=\"dataframe\">\n",
              "  <thead>\n",
              "    <tr style=\"text-align: right;\">\n",
              "      <th></th>\n",
              "      <th>text</th>\n",
              "      <th>target</th>\n",
              "      <th>pred</th>\n",
              "      <th>pred_prob</th>\n",
              "    </tr>\n",
              "  </thead>\n",
              "  <tbody>\n",
              "    <tr>\n",
              "      <th>411</th>\n",
              "      <td>@SoonerMagic_ I mean I'm a fan but I don't nee...</td>\n",
              "      <td>1</td>\n",
              "      <td>0.0</td>\n",
              "      <td>0.043918</td>\n",
              "    </tr>\n",
              "    <tr>\n",
              "      <th>233</th>\n",
              "      <td>I get to smoke my shit in peace</td>\n",
              "      <td>1</td>\n",
              "      <td>0.0</td>\n",
              "      <td>0.042087</td>\n",
              "    </tr>\n",
              "    <tr>\n",
              "      <th>38</th>\n",
              "      <td>Why are you deluged with low self-image? Take ...</td>\n",
              "      <td>1</td>\n",
              "      <td>0.0</td>\n",
              "      <td>0.038998</td>\n",
              "    </tr>\n",
              "    <tr>\n",
              "      <th>244</th>\n",
              "      <td>Reddit Will Now QuarantineÛ_ http://t.co/pkUA...</td>\n",
              "      <td>1</td>\n",
              "      <td>0.0</td>\n",
              "      <td>0.038949</td>\n",
              "    </tr>\n",
              "    <tr>\n",
              "      <th>23</th>\n",
              "      <td>Ron &amp;amp; Fez - Dave's High School Crush https...</td>\n",
              "      <td>1</td>\n",
              "      <td>0.0</td>\n",
              "      <td>0.037186</td>\n",
              "    </tr>\n",
              "  </tbody>\n",
              "</table>\n",
              "</div>\n",
              "      <button class=\"colab-df-convert\" onclick=\"convertToInteractive('df-0d96603a-8978-49c2-bc91-a0eff519eaf9')\"\n",
              "              title=\"Convert this dataframe to an interactive table.\"\n",
              "              style=\"display:none;\">\n",
              "        \n",
              "  <svg xmlns=\"http://www.w3.org/2000/svg\" height=\"24px\"viewBox=\"0 0 24 24\"\n",
              "       width=\"24px\">\n",
              "    <path d=\"M0 0h24v24H0V0z\" fill=\"none\"/>\n",
              "    <path d=\"M18.56 5.44l.94 2.06.94-2.06 2.06-.94-2.06-.94-.94-2.06-.94 2.06-2.06.94zm-11 1L8.5 8.5l.94-2.06 2.06-.94-2.06-.94L8.5 2.5l-.94 2.06-2.06.94zm10 10l.94 2.06.94-2.06 2.06-.94-2.06-.94-.94-2.06-.94 2.06-2.06.94z\"/><path d=\"M17.41 7.96l-1.37-1.37c-.4-.4-.92-.59-1.43-.59-.52 0-1.04.2-1.43.59L10.3 9.45l-7.72 7.72c-.78.78-.78 2.05 0 2.83L4 21.41c.39.39.9.59 1.41.59.51 0 1.02-.2 1.41-.59l7.78-7.78 2.81-2.81c.8-.78.8-2.07 0-2.86zM5.41 20L4 18.59l7.72-7.72 1.47 1.35L5.41 20z\"/>\n",
              "  </svg>\n",
              "      </button>\n",
              "      \n",
              "  <style>\n",
              "    .colab-df-container {\n",
              "      display:flex;\n",
              "      flex-wrap:wrap;\n",
              "      gap: 12px;\n",
              "    }\n",
              "\n",
              "    .colab-df-convert {\n",
              "      background-color: #E8F0FE;\n",
              "      border: none;\n",
              "      border-radius: 50%;\n",
              "      cursor: pointer;\n",
              "      display: none;\n",
              "      fill: #1967D2;\n",
              "      height: 32px;\n",
              "      padding: 0 0 0 0;\n",
              "      width: 32px;\n",
              "    }\n",
              "\n",
              "    .colab-df-convert:hover {\n",
              "      background-color: #E2EBFA;\n",
              "      box-shadow: 0px 1px 2px rgba(60, 64, 67, 0.3), 0px 1px 3px 1px rgba(60, 64, 67, 0.15);\n",
              "      fill: #174EA6;\n",
              "    }\n",
              "\n",
              "    [theme=dark] .colab-df-convert {\n",
              "      background-color: #3B4455;\n",
              "      fill: #D2E3FC;\n",
              "    }\n",
              "\n",
              "    [theme=dark] .colab-df-convert:hover {\n",
              "      background-color: #434B5C;\n",
              "      box-shadow: 0px 1px 3px 1px rgba(0, 0, 0, 0.15);\n",
              "      filter: drop-shadow(0px 1px 2px rgba(0, 0, 0, 0.3));\n",
              "      fill: #FFFFFF;\n",
              "    }\n",
              "  </style>\n",
              "\n",
              "      <script>\n",
              "        const buttonEl =\n",
              "          document.querySelector('#df-0d96603a-8978-49c2-bc91-a0eff519eaf9 button.colab-df-convert');\n",
              "        buttonEl.style.display =\n",
              "          google.colab.kernel.accessAllowed ? 'block' : 'none';\n",
              "\n",
              "        async function convertToInteractive(key) {\n",
              "          const element = document.querySelector('#df-0d96603a-8978-49c2-bc91-a0eff519eaf9');\n",
              "          const dataTable =\n",
              "            await google.colab.kernel.invokeFunction('convertToInteractive',\n",
              "                                                     [key], {});\n",
              "          if (!dataTable) return;\n",
              "\n",
              "          const docLinkHtml = 'Like what you see? Visit the ' +\n",
              "            '<a target=\"_blank\" href=https://colab.research.google.com/notebooks/data_table.ipynb>data table notebook</a>'\n",
              "            + ' to learn more about interactive tables.';\n",
              "          element.innerHTML = '';\n",
              "          dataTable['output_type'] = 'display_data';\n",
              "          await google.colab.output.renderOutput(dataTable, element);\n",
              "          const docLink = document.createElement('div');\n",
              "          docLink.innerHTML = docLinkHtml;\n",
              "          element.appendChild(docLink);\n",
              "        }\n",
              "      </script>\n",
              "    </div>\n",
              "  </div>\n",
              "  "
            ]
          },
          "metadata": {},
          "execution_count": 104
        }
      ]
    },
    {
      "cell_type": "markdown",
      "source": [
        "> Those whose predictions are 0 when it should be 1 are called false negatives."
      ],
      "metadata": {
        "id": "02mnKtvn_kUs"
      }
    },
    {
      "cell_type": "code",
      "source": [
        "# Check the false positives (model predictied 1 when should have been 0)\n",
        "for row in most_wrong[:10].itertuples():\n",
        "  _, text, target, pred, pred_prob = row\n",
        "  print(f\"Target: {target}, Prediction: {pred}, Probability: {pred_prob}\")\n",
        "  print(f\"Text: {text}\")\n",
        "  print(f\"---\\n\")"
      ],
      "metadata": {
        "colab": {
          "base_uri": "https://localhost:8080/"
        },
        "id": "voGER6n9_nkV",
        "outputId": "8bb287ac-636a-4781-9b7f-83246b294b9f"
      },
      "execution_count": null,
      "outputs": [
        {
          "output_type": "stream",
          "name": "stdout",
          "text": [
            "Target: 0, Prediction: 1.0, Probability: 0.9101957678794861\n",
            "Text: ? High Skies - Burning Buildings ? http://t.co/uVq41i3Kx2 #nowplaying\n",
            "---\n",
            "\n",
            "Target: 0, Prediction: 1.0, Probability: 0.8769820928573608\n",
            "Text: FedEx will no longer transport bioterror pathogens in wake of anthrax lab mishaps http://t.co/lHpgxc4b8J\n",
            "---\n",
            "\n",
            "Target: 0, Prediction: 1.0, Probability: 0.8523001074790955\n",
            "Text: @noah_anyname That's where the concentration camps and mass murder come in. \n",
            " \n",
            "EVERY. FUCKING. TIME.\n",
            "---\n",
            "\n",
            "Target: 0, Prediction: 1.0, Probability: 0.8354544043540955\n",
            "Text: Ashes 2015: AustraliaÛªs collapse at Trent Bridge among worst in history: England bundled out Australia for 60 ... http://t.co/t5TrhjUAU0\n",
            "---\n",
            "\n",
            "Target: 0, Prediction: 1.0, Probability: 0.8272132873535156\n",
            "Text: @AshGhebranious civil rights continued in the 60s. And what about trans-generational trauma? if anything we should listen to the Americans.\n",
            "---\n",
            "\n",
            "Target: 0, Prediction: 1.0, Probability: 0.8148158192634583\n",
            "Text: @SonofLiberty357 all illuminated by the brightly burning buildings all around the town!\n",
            "---\n",
            "\n",
            "Target: 0, Prediction: 1.0, Probability: 0.8108396530151367\n",
            "Text: [55436] 1950 LIONEL TRAINS SMOKE LOCOMOTIVES WITH MAGNE-TRACTION INSTRUCTIONS http://t.co/xEZBs3sq0y http://t.co/C2x0QoKGlY\n",
            "---\n",
            "\n",
            "Target: 0, Prediction: 1.0, Probability: 0.8031217455863953\n",
            "Text: @madonnamking RSPCA site multiple 7 story high rise buildings next to low density character residential in an area that floods\n",
            "---\n",
            "\n",
            "Target: 0, Prediction: 1.0, Probability: 0.7669008374214172\n",
            "Text: @freefromwolves GodsLove &amp; #thankU brother Danny for RT of NEW VIDEO http://t.co/cybKsXHF7d The Coming Apocalyptic US Earthquake &amp; Tsunami\n",
            "---\n",
            "\n",
            "Target: 0, Prediction: 1.0, Probability: 0.766625165939331\n",
            "Text: Air Group is here to the rescue! We have 24/7 Emergency Service! Learn more about it here - http://t.co/9lyx7zMtHE http://t.co/5PbC96rTMJ\n",
            "---\n",
            "\n"
          ]
        }
      ]
    },
    {
      "cell_type": "code",
      "source": [
        "# Check the false negatives (model predictied 0 when should have been 1)\n",
        "for row in most_wrong[-10:].itertuples():\n",
        "  _, text, target, pred, pred_prob = row\n",
        "  print(f\"Target: {target}, Prediction: {pred}, Probability: {pred_prob}\")\n",
        "  print(f\"Text: {text}\")\n",
        "  print(f\"---\\n\")"
      ],
      "metadata": {
        "colab": {
          "base_uri": "https://localhost:8080/"
        },
        "id": "ySOJmVkNADz7",
        "outputId": "9146a2d0-d84f-42a5-ca1f-c9130011af62"
      },
      "execution_count": null,
      "outputs": [
        {
          "output_type": "stream",
          "name": "stdout",
          "text": [
            "Target: 1, Prediction: 0.0, Probability: 0.06730346381664276\n",
            "Text: @DavidVonderhaar At least you were sincere ??\n",
            "---\n",
            "\n",
            "Target: 1, Prediction: 0.0, Probability: 0.055075809359550476\n",
            "Text: @willienelson We need help! Horses will die!Please RT &amp; sign petition!Take a stand &amp; be a voice for them! #gilbert23 https://t.co/e8dl1lNCVu\n",
            "---\n",
            "\n",
            "Target: 1, Prediction: 0.0, Probability: 0.05460337549448013\n",
            "Text: Lucas Duda is Ghost Rider. Not the Nic Cage version but an actual 'engulfed in flames' badass. #Mets\n",
            "---\n",
            "\n",
            "Target: 1, Prediction: 0.0, Probability: 0.054596975445747375\n",
            "Text: going to redo my nails and watch behind the scenes of desolation of smaug ayyy\n",
            "---\n",
            "\n",
            "Target: 1, Prediction: 0.0, Probability: 0.04963727295398712\n",
            "Text: You can never escape me. Bullets don't harm me. Nothing harms me. But I know pain. I know pain. Sometimes I share it. With someone like you.\n",
            "---\n",
            "\n",
            "Target: 1, Prediction: 0.0, Probability: 0.043918490409851074\n",
            "Text: @SoonerMagic_ I mean I'm a fan but I don't need a girl sounding off like a damn siren\n",
            "---\n",
            "\n",
            "Target: 1, Prediction: 0.0, Probability: 0.04208682104945183\n",
            "Text: I get to smoke my shit in peace\n",
            "---\n",
            "\n",
            "Target: 1, Prediction: 0.0, Probability: 0.03899792954325676\n",
            "Text: Why are you deluged with low self-image? Take the quiz: http://t.co/XsPqdOrIqj http://t.co/CQYvFR4UCy\n",
            "---\n",
            "\n",
            "Target: 1, Prediction: 0.0, Probability: 0.03894946351647377\n",
            "Text: Reddit Will Now QuarantineÛ_ http://t.co/pkUAMXw6pm #onlinecommunities #reddit #amageddon #freespeech #Business http://t.co/PAWvNJ4sAP\n",
            "---\n",
            "\n",
            "Target: 1, Prediction: 0.0, Probability: 0.03718579187989235\n",
            "Text: Ron &amp; Fez - Dave's High School Crush https://t.co/aN3W16c8F6 via @YouTube\n",
            "---\n",
            "\n"
          ]
        }
      ]
    },
    {
      "cell_type": "markdown",
      "source": [
        "## Making predictions on the test dataset"
      ],
      "metadata": {
        "id": "8bCF3XTyAokj"
      }
    },
    {
      "cell_type": "code",
      "source": [
        "# Making predictions on the test dataset and visualising them\n",
        "test_sentences = test_df[\"text\"].to_list()\n",
        "test_samples = random.sample(test_sentences, 10)\n",
        "for test_sample in test_samples:\n",
        "  pred_probs = tf.squeeze(model_6_pretrained.predict([test_sample])) # our model expects a list as input\n",
        "  preds = tf.round(pred_probs)\n",
        "  print(f\"Prediction: {int(preds)}, Probability: {pred_probs}\")\n",
        "  print(f\"Text: {test_sample}\")\n",
        "  print(f\"---\\n\")"
      ],
      "metadata": {
        "colab": {
          "base_uri": "https://localhost:8080/"
        },
        "id": "FyDel0EqBkC2",
        "outputId": "9655c451-d7aa-42c5-b949-72a36fa695fe"
      },
      "execution_count": null,
      "outputs": [
        {
          "output_type": "stream",
          "name": "stdout",
          "text": [
            "Prediction: 1, Probability: 0.9301503300666809\n",
            "Text: #Winston #salem Fire in Pisgah National Forest grows to 375 acres http://t.co/5IMxNGsaSA\n",
            "---\n",
            "\n",
            "Prediction: 1, Probability: 0.8783755898475647\n",
            "Text: Let's appreciate that the group of people that everyone hates so much the police prevented mass casualties today in Nashville.\n",
            "---\n",
            "\n",
            "Prediction: 0, Probability: 0.23229077458381653\n",
            "Text: This #NBCTheWiz cast is about to destroy tv sets across the nation!!!!\n",
            "---\n",
            "\n",
            "Prediction: 0, Probability: 0.1856146901845932\n",
            "Text: @Kayhow21 I may have a panic attack during this coinflip\n",
            "---\n",
            "\n",
            "Prediction: 0, Probability: 0.28774139285087585\n",
            "Text: I liked a @YouTube video http://t.co/18aAsFMVbl Call Of Duty Ghosts Walktrough Part-8 Tsunami!\n",
            "---\n",
            "\n",
            "Prediction: 0, Probability: 0.05474871024489403\n",
            "Text: @JohnnieGuilbert jump off a cliff. I'll be cheering for you to do a back flip for fucks sake. I hope you fall and break your neck.\n",
            "---\n",
            "\n",
            "Prediction: 1, Probability: 0.8767529129981995\n",
            "Text: Refugio oil spill may have been costlier bigger than projected http://t.co/d7FdCLU404\n",
            "---\n",
            "\n",
            "Prediction: 0, Probability: 0.19805189967155457\n",
            "Text: @thugIauren I had myself on airplane mode by accident ??\n",
            "---\n",
            "\n",
            "Prediction: 0, Probability: 0.4300173819065094\n",
            "Text: @spherulitic that almost feels like the SI signs of the apocalypse.  Lol.\n",
            "---\n",
            "\n",
            "Prediction: 0, Probability: 0.08629294484853745\n",
            "Text: RT @an_opus: Elliott will be on probation for two years and will have to pay fines up to $1179.  http://t.co/72bcyfbTj3\n",
            "---\n",
            "\n"
          ]
        }
      ]
    },
    {
      "cell_type": "markdown",
      "source": [
        "## The speed/score tradeoff"
      ],
      "metadata": {
        "id": "YtJvpvQPBvPu"
      }
    },
    {
      "cell_type": "code",
      "source": [
        "# Let's make a function to measure the time of prediction\n",
        "import time\n",
        "def pred_timer(model, samples):\n",
        "  \"\"\"\n",
        "  Times how long a model takes to make predictions on samples.\n",
        "  \"\"\"\n",
        "  start_time = time.perf_counter() # get start time\n",
        "  model.predict(samples) # make predictions\n",
        "  end_time = time.perf_counter() # get end time\n",
        "  total_time = end_time - start_time # calculate how long predictions took to make\n",
        "  time_per_pred = total_time/len(samples)\n",
        "  return total_time, time_per_pred"
      ],
      "metadata": {
        "id": "74I5NFruDctm"
      },
      "execution_count": null,
      "outputs": []
    },
    {
      "cell_type": "code",
      "source": [
        "# Calculate TF Hub USE time per pred\n",
        "model_6_total_pred_time, model_6_time_per_pred = pred_timer(model_6_pretrained, val_sentences)\n",
        "model_6_total_pred_time, model_6_time_per_pred"
      ],
      "metadata": {
        "colab": {
          "base_uri": "https://localhost:8080/"
        },
        "id": "iaHXOJUdEWmt",
        "outputId": "5b785723-68fe-4dbd-e7f8-b394960c3067"
      },
      "execution_count": null,
      "outputs": [
        {
          "output_type": "execute_result",
          "data": {
            "text/plain": [
              "(0.36819422399992163, 0.0004831945196849365)"
            ]
          },
          "metadata": {},
          "execution_count": 109
        }
      ]
    },
    {
      "cell_type": "code",
      "source": [
        "# Calculate our baseline model times per pred\n",
        "baseline_total_pred_time, baseline_time_per_pred = pred_timer(model_0, val_sentences)\n",
        "baseline_total_pred_time, baseline_time_per_pred"
      ],
      "metadata": {
        "colab": {
          "base_uri": "https://localhost:8080/"
        },
        "id": "ehQbtBliEiqQ",
        "outputId": "5de214ab-7a11-4228-d392-7f0294806967"
      },
      "execution_count": null,
      "outputs": [
        {
          "output_type": "execute_result",
          "data": {
            "text/plain": [
              "(0.02675948499995684, 3.511743438314546e-05)"
            ]
          },
          "metadata": {},
          "execution_count": 110
        }
      ]
    },
    {
      "cell_type": "code",
      "source": [
        "model_6_total_pred_time / baseline_total_pred_time"
      ],
      "metadata": {
        "colab": {
          "base_uri": "https://localhost:8080/"
        },
        "id": "HZiiFT9WEycp",
        "outputId": "ee7e0f70-5196-474a-b967-00e1d5f6a714"
      },
      "execution_count": null,
      "outputs": [
        {
          "output_type": "execute_result",
          "data": {
            "text/plain": [
              "13.759391258857018"
            ]
          },
          "metadata": {},
          "execution_count": 111
        }
      ]
    },
    {
      "cell_type": "markdown",
      "source": [
        "> The baseline model `model_0` made predictions 18x faster than `model_6`."
      ],
      "metadata": {
        "id": "8TWqmkrIE2d0"
      }
    },
    {
      "cell_type": "code",
      "source": [
        "model_6_pretrained_results = evaluate_predictions(model_6_pretrained, val_sentences, val_labels)"
      ],
      "metadata": {
        "id": "-fAqwp87FDis"
      },
      "execution_count": null,
      "outputs": []
    },
    {
      "cell_type": "code",
      "source": [
        "import matplotlib.pyplot as plt\n",
        "\n",
        "plt.figure(figsize=(10, 7))\n",
        "plt.scatter(baseline_time_per_pred, baseline_results[\"f1\"], label=\"baseline\")\n",
        "plt.scatter(model_6_time_per_pred, model_6_pretrained_results[\"f1\"], label=\"tf_hub_USE\")\n",
        "plt.legend()\n",
        "plt.title(\"F1-score vs. time per prediction\")\n",
        "plt.xlabel(\"Time per prediction\")\n",
        "plt.ylabel(\"F1-score\");"
      ],
      "metadata": {
        "colab": {
          "base_uri": "https://localhost:8080/",
          "height": 458
        },
        "id": "v9qUPYqUFIvU",
        "outputId": "f91c389a-8598-4223-9f47-3bcea9e189d4"
      },
      "execution_count": null,
      "outputs": [
        {
          "output_type": "display_data",
          "data": {
            "text/plain": [
              "<Figure size 720x504 with 1 Axes>"
            ],
            "image/png": "[encoded data removed]"
          },
          "metadata": {
            "needs_background": "light"
          }
        }
      ]
    },
    {
      "cell_type": "markdown",
      "source": [
        "# Exercises"
      ],
      "metadata": {
        "id": "MrM93uweJq5n"
      }
    },
    {
      "cell_type": "markdown",
      "source": [
        "## Exercise 1\n",
        "\n",
        "Rebuild, compile and train `model_1`, `model_2` and `model_5` using the [Keras Sequential API](https://www.tensorflow.org/api_docs/python/tf/keras/Sequential) instead of the Functional API."
      ],
      "metadata": {
        "id": "XfMazJDsJr2E"
      }
    },
    {
      "cell_type": "code",
      "source": [
        "import tensorflow as tf\n",
        "from tensorflow import keras\n",
        "from tensorflow.keras import layers, Sequential"
      ],
      "metadata": {
        "id": "fLy7XPScJyp8"
      },
      "execution_count": null,
      "outputs": []
    },
    {
      "cell_type": "code",
      "source": [
        "# model_1 is a simple dense model\n",
        "model_1_sequential = Sequential([\n",
        "  layers.Input(shape=(1,), dtype=tf.string),\n",
        "  text_vectorizer,\n",
        "  embedding,\n",
        "  layers.GlobalAveragePooling1D(),\n",
        "  layers.Dense(1, activation=\"sigmoid\")\n",
        "])\n",
        "\n",
        "model_1_sequential.compile(loss=\"binary_crossentropy\",\n",
        "                           optimizer=tf.keras.optimizers.Adam(),\n",
        "                           metrics=[\"accuracy\"])\n",
        "\n",
        "model_1_sequential.fit(train_sentences,\n",
        "                       train_labels,\n",
        "                       epochs=5,\n",
        "                       validation_data=(val_sentences, val_labels))"
      ],
      "metadata": {
        "colab": {
          "base_uri": "https://localhost:8080/"
        },
        "id": "LJPIUwdyJs5k",
        "outputId": "0b5c108b-2f55-4b02-f864-11ae79cb6a84"
      },
      "execution_count": null,
      "outputs": [
        {
          "output_type": "stream",
          "name": "stdout",
          "text": [
            "Epoch 1/5\n",
            "215/215 [==============================] - 2s 8ms/step - loss: 0.5166 - accuracy: 0.8410 - val_loss: 0.4948 - val_accuracy: 0.7848\n",
            "Epoch 2/5\n",
            "215/215 [==============================] - 1s 6ms/step - loss: 0.3375 - accuracy: 0.8859 - val_loss: 0.4566 - val_accuracy: 0.7953\n",
            "Epoch 3/5\n",
            "215/215 [==============================] - 1s 7ms/step - loss: 0.2679 - accuracy: 0.9067 - val_loss: 0.4615 - val_accuracy: 0.7900\n",
            "Epoch 4/5\n",
            "215/215 [==============================] - 1s 7ms/step - loss: 0.2260 - accuracy: 0.9209 - val_loss: 0.4806 - val_accuracy: 0.7874\n",
            "Epoch 5/5\n",
            "215/215 [==============================] - 1s 7ms/step - loss: 0.1956 - accuracy: 0.9330 - val_loss: 0.4957 - val_accuracy: 0.7822\n"
          ]
        },
        {
          "output_type": "execute_result",
          "data": {
            "text/plain": [
              "<keras.callbacks.History at 0x7f0d631cce50>"
            ]
          },
          "metadata": {},
          "execution_count": 115
        }
      ]
    },
    {
      "cell_type": "code",
      "source": [
        "model_1_sequential_results = evaluate_predictions(model_1_sequential, val_sentences, val_labels)\n",
        "model_1_sequential_results"
      ],
      "metadata": {
        "colab": {
          "base_uri": "https://localhost:8080/"
        },
        "id": "D0t97cAzMdZX",
        "outputId": "9bf10f55-76bf-4726-b022-658603c7cb43"
      },
      "execution_count": null,
      "outputs": [
        {
          "output_type": "execute_result",
          "data": {
            "text/plain": [
              "{'accuracy': 78.21522309711287,\n",
              " 'f1': 0.7795215466562155,\n",
              " 'precision': 0.7856661242905698,\n",
              " 'recall': 0.7821522309711286}"
            ]
          },
          "metadata": {},
          "execution_count": 116
        }
      ]
    },
    {
      "cell_type": "code",
      "source": [
        "# model 2 is a LSTM model\n",
        "model_2_sequential = Sequential([\n",
        "  layers.Input(shape=(1,), dtype=tf.string),\n",
        "  text_vectorizer,\n",
        "  layers.Embedding(input_dim=max_vocab_length,\n",
        "                   output_dim=128,\n",
        "                   embeddings_initializer=\"uniform\",\n",
        "                   input_length=max_length),\n",
        "  layers.LSTM(64),\n",
        "  layers.Dense(1, activation=\"sigmoid\")\n",
        "])\n",
        "\n",
        "model_2_sequential.compile(loss=\"binary_crossentropy\",\n",
        "                           optimizer=tf.keras.optimizers.Adam(),\n",
        "                           metrics=[\"accuracy\"])\n",
        "\n",
        "model_2_sequential.fit(train_sentences,\n",
        "                       train_labels,\n",
        "                       epochs=5,\n",
        "                       validation_data=(val_sentences, val_labels))"
      ],
      "metadata": {
        "colab": {
          "base_uri": "https://localhost:8080/"
        },
        "id": "sP9Zveu3MvHR",
        "outputId": "3be4f70a-6630-41f1-8d80-b30eef2bdb4e"
      },
      "execution_count": null,
      "outputs": [
        {
          "output_type": "stream",
          "name": "stdout",
          "text": [
            "Epoch 1/5\n",
            "215/215 [==============================] - 5s 13ms/step - loss: 0.5084 - accuracy: 0.7494 - val_loss: 0.4560 - val_accuracy: 0.7808\n",
            "Epoch 2/5\n",
            "215/215 [==============================] - 2s 10ms/step - loss: 0.3163 - accuracy: 0.8716 - val_loss: 0.4633 - val_accuracy: 0.7795\n",
            "Epoch 3/5\n",
            "215/215 [==============================] - 2s 10ms/step - loss: 0.2160 - accuracy: 0.9206 - val_loss: 0.6056 - val_accuracy: 0.7703\n",
            "Epoch 4/5\n",
            "215/215 [==============================] - 2s 10ms/step - loss: 0.1538 - accuracy: 0.9458 - val_loss: 0.5931 - val_accuracy: 0.7730\n",
            "Epoch 5/5\n",
            "215/215 [==============================] - 2s 11ms/step - loss: 0.1100 - accuracy: 0.9607 - val_loss: 0.7570 - val_accuracy: 0.7703\n"
          ]
        },
        {
          "output_type": "execute_result",
          "data": {
            "text/plain": [
              "<keras.callbacks.History at 0x7f0d62330f50>"
            ]
          },
          "metadata": {},
          "execution_count": 117
        }
      ]
    },
    {
      "cell_type": "code",
      "source": [
        "model_2_sequential_results = evaluate_predictions(model_2_sequential, val_sentences, val_labels)\n",
        "model_2_sequential_results"
      ],
      "metadata": {
        "colab": {
          "base_uri": "https://localhost:8080/"
        },
        "id": "QFej6T0aNck6",
        "outputId": "4759d08f-4ee7-4000-efd3-61916424c153"
      },
      "execution_count": null,
      "outputs": [
        {
          "output_type": "execute_result",
          "data": {
            "text/plain": [
              "{'accuracy': 77.03412073490814,\n",
              " 'f1': 0.767494001182533,\n",
              " 'precision': 0.7735977894089,\n",
              " 'recall': 0.7703412073490814}"
            ]
          },
          "metadata": {},
          "execution_count": 118
        }
      ]
    },
    {
      "cell_type": "code",
      "source": [
        "# model 5 is a Conv1D model\n",
        "model_5_sequential = Sequential([\n",
        "  layers.Input(shape=(1,), dtype=tf.string),\n",
        "  text_vectorizer,\n",
        "  layers.Embedding(input_dim=max_vocab_length,\n",
        "                   output_dim=128,\n",
        "                   embeddings_initializer=\"uniform\",\n",
        "                   input_length=max_length),\n",
        "  layers.Conv1D(filters=64,\n",
        "                kernel_size=5,\n",
        "                strides=1,\n",
        "                activation=\"relu\",\n",
        "                padding=\"valid\"),\n",
        "  layers.GlobalMaxPool1D(),\n",
        "  layers.Dense(1, activation=\"sigmoid\")\n",
        "])\n",
        "\n",
        "model_5_sequential.compile(loss=\"binary_crossentropy\",\n",
        "                           optimizer=tf.keras.optimizers.Adam(),\n",
        "                           metrics=[\"accuracy\"])\n",
        "\n",
        "model_5_sequential.fit(train_sentences,\n",
        "                       train_labels,\n",
        "                       epochs=5,\n",
        "                       validation_data=(val_sentences, val_labels))"
      ],
      "metadata": {
        "colab": {
          "base_uri": "https://localhost:8080/"
        },
        "id": "JMcI5j1PNgpN",
        "outputId": "66469eab-1d79-4489-dd83-dcf929009ed9"
      },
      "execution_count": null,
      "outputs": [
        {
          "output_type": "stream",
          "name": "stdout",
          "text": [
            "Epoch 1/5\n",
            "215/215 [==============================] - 3s 9ms/step - loss: 0.5535 - accuracy: 0.7205 - val_loss: 0.4680 - val_accuracy: 0.7808\n",
            "Epoch 2/5\n",
            "215/215 [==============================] - 2s 8ms/step - loss: 0.3326 - accuracy: 0.8647 - val_loss: 0.4866 - val_accuracy: 0.7822\n",
            "Epoch 3/5\n",
            "215/215 [==============================] - 2s 7ms/step - loss: 0.2045 - accuracy: 0.9260 - val_loss: 0.5535 - val_accuracy: 0.7703\n",
            "Epoch 4/5\n",
            "215/215 [==============================] - 2s 7ms/step - loss: 0.1283 - accuracy: 0.9580 - val_loss: 0.6461 - val_accuracy: 0.7717\n",
            "Epoch 5/5\n",
            "215/215 [==============================] - 2s 7ms/step - loss: 0.0917 - accuracy: 0.9717 - val_loss: 0.7076 - val_accuracy: 0.7677\n"
          ]
        },
        {
          "output_type": "execute_result",
          "data": {
            "text/plain": [
              "<keras.callbacks.History at 0x7f0d61c1add0>"
            ]
          },
          "metadata": {},
          "execution_count": 119
        }
      ]
    },
    {
      "cell_type": "code",
      "source": [
        "model_5_sequential_results = evaluate_predictions(model_5_sequential, val_sentences, val_labels)\n",
        "model_5_sequential_results"
      ],
      "metadata": {
        "colab": {
          "base_uri": "https://localhost:8080/"
        },
        "id": "D8H5zIkBN_Ir",
        "outputId": "e810b7d5-99a6-43de-c2c2-9515e00b761e"
      },
      "execution_count": null,
      "outputs": [
        {
          "output_type": "execute_result",
          "data": {
            "text/plain": [
              "{'accuracy': 76.77165354330708,\n",
              " 'f1': 0.766696834597351,\n",
              " 'precision': 0.7676331847037146,\n",
              " 'recall': 0.7677165354330708}"
            ]
          },
          "metadata": {},
          "execution_count": 120
        }
      ]
    },
    {
      "cell_type": "markdown",
      "source": [
        "## Exercise 2\n",
        "\n",
        "Retrain the baseline model with 10% of the training data. How does it perform compared to the Universal Sentence Encoder model with 10% of the training data?"
      ],
      "metadata": {
        "id": "tDVGZViGONMb"
      }
    },
    {
      "cell_type": "code",
      "source": [
        "# Create baseline model\n",
        "from sklearn.feature_extraction.text import TfidfVectorizer\n",
        "from sklearn.naive_bayes import MultinomialNB\n",
        "from sklearn.pipeline import Pipeline\n",
        "\n",
        "# Create tokenization and modelling pipeline\n",
        "model_0_10_percent = Pipeline([\n",
        "                               (\"tfidf\", TfidfVectorizer()), # convert words to numbers using tfidf\n",
        "                               (\"clf\", MultinomialNB()) # model the text\n",
        "])\n",
        "\n",
        "# Fit the pipeline to 10% of the training data\n",
        "model_0_10_percent.fit(train_sentences_10_percent, train_labels_10_percent)"
      ],
      "metadata": {
        "colab": {
          "base_uri": "https://localhost:8080/"
        },
        "id": "KK8ywz_iOhPv",
        "outputId": "7b1c315c-f447-4992-a57b-8fca1854233c"
      },
      "execution_count": null,
      "outputs": [
        {
          "output_type": "execute_result",
          "data": {
            "text/plain": [
              "Pipeline(steps=[('tfidf', TfidfVectorizer()), ('clf', MultinomialNB())])"
            ]
          },
          "metadata": {},
          "execution_count": 121
        }
      ]
    },
    {
      "cell_type": "code",
      "source": [
        "# Evaluate our baseline model\n",
        "baseline_score_10_percent = model_0_10_percent.score(val_sentences, val_labels)\n",
        "print(f\"Our baseline model achieves an accuracy of: {baseline_score_10_percent*100:.2f}%\")"
      ],
      "metadata": {
        "colab": {
          "base_uri": "https://localhost:8080/"
        },
        "id": "RkyyrftAOsDk",
        "outputId": "a29ec5c4-9d64-44a5-fa59-80174a72730c"
      },
      "execution_count": null,
      "outputs": [
        {
          "output_type": "stream",
          "name": "stdout",
          "text": [
            "Our baseline model achieves an accuracy of: 70.21%\n"
          ]
        }
      ]
    },
    {
      "cell_type": "code",
      "source": [
        "model_7_results[\"accuracy\"]"
      ],
      "metadata": {
        "colab": {
          "base_uri": "https://localhost:8080/"
        },
        "id": "5x9VtnmUO6Xv",
        "outputId": "d645a15a-60ba-403a-9fea-32ffd63701c2"
      },
      "execution_count": null,
      "outputs": [
        {
          "output_type": "execute_result",
          "data": {
            "text/plain": [
              "77.42782152230971"
            ]
          },
          "metadata": {},
          "execution_count": 123
        }
      ]
    },
    {
      "cell_type": "markdown",
      "source": [
        "The baseline model (`model_0_10_percent`) when trained on 10% of the training data performed much **worse** than the Universal Sentence Encoder model (`model_7`) when trained on 10% of the training data."
      ],
      "metadata": {
        "id": "q3-yCXQCO9oL"
      }
    },
    {
      "cell_type": "markdown",
      "source": [
        "## Exercise 3\n",
        "\n",
        "Try fine-tuning the TF Hub Universal Sentence Encoder model by setting `training=True` when instantiating it as a Keras layer."
      ],
      "metadata": {
        "id": "1Vg8ornARO6y"
      }
    },
    {
      "cell_type": "code",
      "source": [
        "# Set sentence_encoder_layer to trainable\n",
        "import tensorflow as tf\n",
        "import tensorflow_hub as hub\n",
        "sentence_encoder_layer_fine_tuning = hub.KerasLayer(\"https://tfhub.dev/google/universal-sentence-encoder/4\",\n",
        "                                                    input_shape=[],\n",
        "                                                    dtype=tf.string,\n",
        "                                                    trainable=True)"
      ],
      "metadata": {
        "id": "-A5CH2aDRgOO"
      },
      "execution_count": null,
      "outputs": []
    },
    {
      "cell_type": "code",
      "source": [
        "# Recreate model_6\n",
        "from tensorflow import keras\n",
        "from tensorflow.keras import layers, Sequential\n",
        "model_6_fine_tuning = Sequential([\n",
        "  sentence_encoder_layer_fine_tuning,\n",
        "  layers.Dense(64, activation=\"relu\"),\n",
        "  layers.Dense(1, activation=\"sigmoid\")\n",
        "])\n",
        "\n",
        "# Compile the model\n",
        "model_6_fine_tuning.compile(loss=\"binary_crossentropy\",\n",
        "                            optimizer=tf.keras.optimizers.Adam(),\n",
        "                            metrics=[\"accuracy\"])"
      ],
      "metadata": {
        "id": "YDOQ-oJUeZiN"
      },
      "execution_count": null,
      "outputs": []
    },
    {
      "cell_type": "code",
      "source": [
        "# Fit the model\n",
        "model_6_fine_tuning.fit(train_sentences,\n",
        "                         train_labels,\n",
        "                         epochs=5,\n",
        "                         validation_data=(val_sentences, val_labels))"
      ],
      "metadata": {
        "colab": {
          "base_uri": "https://localhost:8080/"
        },
        "id": "WhltbSuSec4W",
        "outputId": "e08daf57-2089-4ceb-9916-1bce3be6303d"
      },
      "execution_count": null,
      "outputs": [
        {
          "output_type": "stream",
          "name": "stdout",
          "text": [
            "Epoch 1/5\n",
            "215/215 [==============================] - 60s 245ms/step - loss: 0.4514 - accuracy: 0.8012 - val_loss: 0.4028 - val_accuracy: 0.8281\n",
            "Epoch 2/5\n",
            "215/215 [==============================] - 55s 257ms/step - loss: 0.2322 - accuracy: 0.9114 - val_loss: 0.4779 - val_accuracy: 0.8268\n",
            "Epoch 3/5\n",
            "215/215 [==============================] - 53s 247ms/step - loss: 0.0773 - accuracy: 0.9750 - val_loss: 0.5611 - val_accuracy: 0.7900\n",
            "Epoch 4/5\n",
            "215/215 [==============================] - 54s 250ms/step - loss: 0.0417 - accuracy: 0.9850 - val_loss: 0.6350 - val_accuracy: 0.7717\n",
            "Epoch 5/5\n",
            "215/215 [==============================] - 52s 240ms/step - loss: 0.0277 - accuracy: 0.9889 - val_loss: 0.7141 - val_accuracy: 0.8163\n"
          ]
        },
        {
          "output_type": "execute_result",
          "data": {
            "text/plain": [
              "<keras.callbacks.History at 0x7f0d6febe3d0>"
            ]
          },
          "metadata": {},
          "execution_count": 130
        }
      ]
    },
    {
      "cell_type": "code",
      "source": [
        "model_6_fine_tuning_results = evaluate_predictions(model_6_fine_tuning, val_sentences, val_labels)\n",
        "model_6_fine_tuning_results"
      ],
      "metadata": {
        "colab": {
          "base_uri": "https://localhost:8080/"
        },
        "id": "7UtNWLb4iFMX",
        "outputId": "50800430-043b-479f-ab09-04a9d9bbbf2f"
      },
      "execution_count": null,
      "outputs": [
        {
          "output_type": "execute_result",
          "data": {
            "text/plain": [
              "{'accuracy': 81.62729658792651,\n",
              " 'f1': 0.813022410660206,\n",
              " 'precision': 0.8252416515568405,\n",
              " 'recall': 0.8162729658792651}"
            ]
          },
          "metadata": {},
          "execution_count": 132
        }
      ]
    },
    {
      "cell_type": "markdown",
      "source": [
        "## Exercise 4\n",
        "\n",
        "Retrain the best model you've got so far on the whole training set (no validation split). Then use this trained model to make predictions on the test dataset and format the predictions into the same format as the `sample_submission.csv` file from Kaggle (see the Files tab in Colab for what the `sample_submission.csv` file looks like). Once you've done this, [make a submission to the Kaggle competition](https://www.kaggle.com/c/nlp-getting-started/data), how did your model perform?"
      ],
      "metadata": {
        "id": "tOr8uIRCTeBs"
      }
    },
    {
      "cell_type": "code",
      "source": [
        "# Use the whole training set\n",
        "whole_train_sentences = train_df_shuffled[\"text\"].to_numpy()\n",
        "whole_train_labels = train_df_shuffled[\"target\"].to_numpy()"
      ],
      "metadata": {
        "id": "Ah9nVfeLiLAr"
      },
      "execution_count": null,
      "outputs": []
    },
    {
      "cell_type": "code",
      "source": [
        "# Set test data\n",
        "test_sentences = test_df[\"text\"].to_list()"
      ],
      "metadata": {
        "id": "FlH2mRVmmUBT"
      },
      "execution_count": null,
      "outputs": []
    },
    {
      "cell_type": "markdown",
      "source": [
        "Since `model_6_fine_tuning` is the best model, we will modify and use it on the whole training set."
      ],
      "metadata": {
        "id": "C4WVKhYKic8C"
      }
    },
    {
      "cell_type": "code",
      "source": [
        "# Create sentence_encoder_layer\n",
        "import tensorflow as tf\n",
        "import tensorflow_hub as hub\n",
        "sentence_encoder_layer_fine_tuning = hub.KerasLayer(\"https://tfhub.dev/google/universal-sentence-encoder/4\",\n",
        "                                                    input_shape=[],\n",
        "                                                    dtype=tf.string,\n",
        "                                                    trainable=True)"
      ],
      "metadata": {
        "id": "cVdeTj2ay5qF"
      },
      "execution_count": null,
      "outputs": []
    },
    {
      "cell_type": "code",
      "source": [
        "# Create and modify model_6_fine_tuning\n",
        "from tensorflow import keras\n",
        "from tensorflow.keras import layers, Sequential\n",
        "model_submission = Sequential([\n",
        "  sentence_encoder_layer_fine_tuning,\n",
        "  layers.Dense(64, activation=\"relu\"),\n",
        "  layers.Dense(64, activation=\"relu\"),\n",
        "  layers.Dense(1, activation=\"sigmoid\")\n",
        "])\n",
        "\n",
        "# Compile the model\n",
        "model_submission.compile(loss=\"binary_crossentropy\",\n",
        "                         optimizer=tf.keras.optimizers.Adam(),\n",
        "                         metrics=[\"accuracy\"])"
      ],
      "metadata": {
        "id": "_taiTta1iUkF"
      },
      "execution_count": null,
      "outputs": []
    },
    {
      "cell_type": "code",
      "source": [
        "# Fit the model\n",
        "model_submission.fit(whole_train_sentences,\n",
        "                     whole_train_labels,\n",
        "                     epochs=5)"
      ],
      "metadata": {
        "colab": {
          "base_uri": "https://localhost:8080/"
        },
        "id": "JSgKsZupkt1x",
        "outputId": "e3eec45c-0d98-4a87-8011-5fd7f0647e64"
      },
      "execution_count": null,
      "outputs": [
        {
          "output_type": "stream",
          "name": "stdout",
          "text": [
            "Epoch 1/5\n",
            "238/238 [==============================] - 66s 232ms/step - loss: 0.4512 - accuracy: 0.8006\n",
            "Epoch 2/5\n",
            "238/238 [==============================] - 55s 231ms/step - loss: 0.2403 - accuracy: 0.9074\n",
            "Epoch 3/5\n",
            "238/238 [==============================] - 55s 232ms/step - loss: 0.0823 - accuracy: 0.9728\n",
            "Epoch 4/5\n",
            "238/238 [==============================] - 55s 232ms/step - loss: 0.0437 - accuracy: 0.9842\n",
            "Epoch 5/5\n",
            "238/238 [==============================] - 57s 239ms/step - loss: 0.0281 - accuracy: 0.9884\n"
          ]
        },
        {
          "output_type": "execute_result",
          "data": {
            "text/plain": [
              "<keras.callbacks.History at 0x7f62a02a3a90>"
            ]
          },
          "metadata": {},
          "execution_count": 7
        }
      ]
    },
    {
      "cell_type": "code",
      "source": [
        "# Evaluate predictions on validation data\n",
        "evaluate_predictions(model_submission, val_sentences, val_labels)"
      ],
      "metadata": {
        "colab": {
          "base_uri": "https://localhost:8080/"
        },
        "id": "gtG98LdAm5R9",
        "outputId": "bc89253c-fbb8-4236-f1ad-b999bb97228d"
      },
      "execution_count": null,
      "outputs": [
        {
          "output_type": "execute_result",
          "data": {
            "text/plain": [
              "{'accuracy': 99.21259842519686,\n",
              " 'f1': 0.9921200731985449,\n",
              " 'precision': 0.9922384701912261,\n",
              " 'recall': 0.9921259842519685}"
            ]
          },
          "metadata": {},
          "execution_count": 13
        }
      ]
    },
    {
      "cell_type": "code",
      "source": [
        "# Make predictions with the model\n",
        "pred_probs = model_submission.predict(test_df[\"text\"].to_numpy())\n",
        "\n",
        "# Convert prediction probabilities to labels\n",
        "preds = tf.squeeze(tf.round(pred_probs))\n",
        "preds = tf.cast(preds, tf.int32)"
      ],
      "metadata": {
        "id": "OJqI4KdZjbzY"
      },
      "execution_count": null,
      "outputs": []
    },
    {
      "cell_type": "code",
      "source": [
        "test_df"
      ],
      "metadata": {
        "colab": {
          "base_uri": "https://localhost:8080/",
          "height": 423
        },
        "id": "niKYF3QBmJFA",
        "outputId": "79f526dc-fa86-482f-fea4-d7dc5627dd1f"
      },
      "execution_count": null,
      "outputs": [
        {
          "output_type": "execute_result",
          "data": {
            "text/plain": [
              "         id keyword location  \\\n",
              "0         0     NaN      NaN   \n",
              "1         2     NaN      NaN   \n",
              "2         3     NaN      NaN   \n",
              "3         9     NaN      NaN   \n",
              "4        11     NaN      NaN   \n",
              "...     ...     ...      ...   \n",
              "3258  10861     NaN      NaN   \n",
              "3259  10865     NaN      NaN   \n",
              "3260  10868     NaN      NaN   \n",
              "3261  10874     NaN      NaN   \n",
              "3262  10875     NaN      NaN   \n",
              "\n",
              "                                                   text  \n",
              "0                    Just happened a terrible car crash  \n",
              "1     Heard about #earthquake is different cities, s...  \n",
              "2     there is a forest fire at spot pond, geese are...  \n",
              "3              Apocalypse lighting. #Spokane #wildfires  \n",
              "4         Typhoon Soudelor kills 28 in China and Taiwan  \n",
              "...                                                 ...  \n",
              "3258  EARTHQUAKE SAFETY LOS ANGELES ÛÒ SAFETY FASTE...  \n",
              "3259  Storm in RI worse than last hurricane. My city...  \n",
              "3260  Green Line derailment in Chicago http://t.co/U...  \n",
              "3261  MEG issues Hazardous Weather Outlook (HWO) htt...  \n",
              "3262  #CityofCalgary has activated its Municipal Eme...  \n",
              "\n",
              "[3263 rows x 4 columns]"
            ],
            "text/html": [
              "\n",
              "  <div id=\"df-426e0d23-36f0-4388-9156-3d5ff5db99f0\">\n",
              "    <div class=\"colab-df-container\">\n",
              "      <div>\n",
              "<style scoped>\n",
              "    .dataframe tbody tr th:only-of-type {\n",
              "        vertical-align: middle;\n",
              "    }\n",
              "\n",
              "    .dataframe tbody tr th {\n",
              "        vertical-align: top;\n",
              "    }\n",
              "\n",
              "    .dataframe thead th {\n",
              "        text-align: right;\n",
              "    }\n",
              "</style>\n",
              "<table border=\"1\" class=\"dataframe\">\n",
              "  <thead>\n",
              "    <tr style=\"text-align: right;\">\n",
              "      <th></th>\n",
              "      <th>id</th>\n",
              "      <th>keyword</th>\n",
              "      <th>location</th>\n",
              "      <th>text</th>\n",
              "    </tr>\n",
              "  </thead>\n",
              "  <tbody>\n",
              "    <tr>\n",
              "      <th>0</th>\n",
              "      <td>0</td>\n",
              "      <td>NaN</td>\n",
              "      <td>NaN</td>\n",
              "      <td>Just happened a terrible car crash</td>\n",
              "    </tr>\n",
              "    <tr>\n",
              "      <th>1</th>\n",
              "      <td>2</td>\n",
              "      <td>NaN</td>\n",
              "      <td>NaN</td>\n",
              "      <td>Heard about #earthquake is different cities, s...</td>\n",
              "    </tr>\n",
              "    <tr>\n",
              "      <th>2</th>\n",
              "      <td>3</td>\n",
              "      <td>NaN</td>\n",
              "      <td>NaN</td>\n",
              "      <td>there is a forest fire at spot pond, geese are...</td>\n",
              "    </tr>\n",
              "    <tr>\n",
              "      <th>3</th>\n",
              "      <td>9</td>\n",
              "      <td>NaN</td>\n",
              "      <td>NaN</td>\n",
              "      <td>Apocalypse lighting. #Spokane #wildfires</td>\n",
              "    </tr>\n",
              "    <tr>\n",
              "      <th>4</th>\n",
              "      <td>11</td>\n",
              "      <td>NaN</td>\n",
              "      <td>NaN</td>\n",
              "      <td>Typhoon Soudelor kills 28 in China and Taiwan</td>\n",
              "    </tr>\n",
              "    <tr>\n",
              "      <th>...</th>\n",
              "      <td>...</td>\n",
              "      <td>...</td>\n",
              "      <td>...</td>\n",
              "      <td>...</td>\n",
              "    </tr>\n",
              "    <tr>\n",
              "      <th>3258</th>\n",
              "      <td>10861</td>\n",
              "      <td>NaN</td>\n",
              "      <td>NaN</td>\n",
              "      <td>EARTHQUAKE SAFETY LOS ANGELES ÛÒ SAFETY FASTE...</td>\n",
              "    </tr>\n",
              "    <tr>\n",
              "      <th>3259</th>\n",
              "      <td>10865</td>\n",
              "      <td>NaN</td>\n",
              "      <td>NaN</td>\n",
              "      <td>Storm in RI worse than last hurricane. My city...</td>\n",
              "    </tr>\n",
              "    <tr>\n",
              "      <th>3260</th>\n",
              "      <td>10868</td>\n",
              "      <td>NaN</td>\n",
              "      <td>NaN</td>\n",
              "      <td>Green Line derailment in Chicago http://t.co/U...</td>\n",
              "    </tr>\n",
              "    <tr>\n",
              "      <th>3261</th>\n",
              "      <td>10874</td>\n",
              "      <td>NaN</td>\n",
              "      <td>NaN</td>\n",
              "      <td>MEG issues Hazardous Weather Outlook (HWO) htt...</td>\n",
              "    </tr>\n",
              "    <tr>\n",
              "      <th>3262</th>\n",
              "      <td>10875</td>\n",
              "      <td>NaN</td>\n",
              "      <td>NaN</td>\n",
              "      <td>#CityofCalgary has activated its Municipal Eme...</td>\n",
              "    </tr>\n",
              "  </tbody>\n",
              "</table>\n",
              "<p>3263 rows × 4 columns</p>\n",
              "</div>\n",
              "      <button class=\"colab-df-convert\" onclick=\"convertToInteractive('df-426e0d23-36f0-4388-9156-3d5ff5db99f0')\"\n",
              "              title=\"Convert this dataframe to an interactive table.\"\n",
              "              style=\"display:none;\">\n",
              "        \n",
              "  <svg xmlns=\"http://www.w3.org/2000/svg\" height=\"24px\"viewBox=\"0 0 24 24\"\n",
              "       width=\"24px\">\n",
              "    <path d=\"M0 0h24v24H0V0z\" fill=\"none\"/>\n",
              "    <path d=\"M18.56 5.44l.94 2.06.94-2.06 2.06-.94-2.06-.94-.94-2.06-.94 2.06-2.06.94zm-11 1L8.5 8.5l.94-2.06 2.06-.94-2.06-.94L8.5 2.5l-.94 2.06-2.06.94zm10 10l.94 2.06.94-2.06 2.06-.94-2.06-.94-.94-2.06-.94 2.06-2.06.94z\"/><path d=\"M17.41 7.96l-1.37-1.37c-.4-.4-.92-.59-1.43-.59-.52 0-1.04.2-1.43.59L10.3 9.45l-7.72 7.72c-.78.78-.78 2.05 0 2.83L4 21.41c.39.39.9.59 1.41.59.51 0 1.02-.2 1.41-.59l7.78-7.78 2.81-2.81c.8-.78.8-2.07 0-2.86zM5.41 20L4 18.59l7.72-7.72 1.47 1.35L5.41 20z\"/>\n",
              "  </svg>\n",
              "      </button>\n",
              "      \n",
              "  <style>\n",
              "    .colab-df-container {\n",
              "      display:flex;\n",
              "      flex-wrap:wrap;\n",
              "      gap: 12px;\n",
              "    }\n",
              "\n",
              "    .colab-df-convert {\n",
              "      background-color: #E8F0FE;\n",
              "      border: none;\n",
              "      border-radius: 50%;\n",
              "      cursor: pointer;\n",
              "      display: none;\n",
              "      fill: #1967D2;\n",
              "      height: 32px;\n",
              "      padding: 0 0 0 0;\n",
              "      width: 32px;\n",
              "    }\n",
              "\n",
              "    .colab-df-convert:hover {\n",
              "      background-color: #E2EBFA;\n",
              "      box-shadow: 0px 1px 2px rgba(60, 64, 67, 0.3), 0px 1px 3px 1px rgba(60, 64, 67, 0.15);\n",
              "      fill: #174EA6;\n",
              "    }\n",
              "\n",
              "    [theme=dark] .colab-df-convert {\n",
              "      background-color: #3B4455;\n",
              "      fill: #D2E3FC;\n",
              "    }\n",
              "\n",
              "    [theme=dark] .colab-df-convert:hover {\n",
              "      background-color: #434B5C;\n",
              "      box-shadow: 0px 1px 3px 1px rgba(0, 0, 0, 0.15);\n",
              "      filter: drop-shadow(0px 1px 2px rgba(0, 0, 0, 0.3));\n",
              "      fill: #FFFFFF;\n",
              "    }\n",
              "  </style>\n",
              "\n",
              "      <script>\n",
              "        const buttonEl =\n",
              "          document.querySelector('#df-426e0d23-36f0-4388-9156-3d5ff5db99f0 button.colab-df-convert');\n",
              "        buttonEl.style.display =\n",
              "          google.colab.kernel.accessAllowed ? 'block' : 'none';\n",
              "\n",
              "        async function convertToInteractive(key) {\n",
              "          const element = document.querySelector('#df-426e0d23-36f0-4388-9156-3d5ff5db99f0');\n",
              "          const dataTable =\n",
              "            await google.colab.kernel.invokeFunction('convertToInteractive',\n",
              "                                                     [key], {});\n",
              "          if (!dataTable) return;\n",
              "\n",
              "          const docLinkHtml = 'Like what you see? Visit the ' +\n",
              "            '<a target=\"_blank\" href=https://colab.research.google.com/notebooks/data_table.ipynb>data table notebook</a>'\n",
              "            + ' to learn more about interactive tables.';\n",
              "          element.innerHTML = '';\n",
              "          dataTable['output_type'] = 'display_data';\n",
              "          await google.colab.output.renderOutput(dataTable, element);\n",
              "          const docLink = document.createElement('div');\n",
              "          docLink.innerHTML = docLinkHtml;\n",
              "          element.appendChild(docLink);\n",
              "        }\n",
              "      </script>\n",
              "    </div>\n",
              "  </div>\n",
              "  "
            ]
          },
          "metadata": {},
          "execution_count": 16
        }
      ]
    },
    {
      "cell_type": "code",
      "source": [
        "# Create submission DataFrame\n",
        "submission = pd.DataFrame({\"id\":test_df[\"id\"].values,\n",
        "                           \"target\":(preds.numpy())})\n",
        "submission"
      ],
      "metadata": {
        "colab": {
          "base_uri": "https://localhost:8080/",
          "height": 423
        },
        "id": "OvUXA0Kbm0Fe",
        "outputId": "8f17df38-89e8-4e6e-bbc6-eaee6533bfae"
      },
      "execution_count": null,
      "outputs": [
        {
          "output_type": "execute_result",
          "data": {
            "text/plain": [
              "         id  target\n",
              "0         0       1\n",
              "1         2       1\n",
              "2         3       1\n",
              "3         9       1\n",
              "4        11       1\n",
              "...     ...     ...\n",
              "3258  10861       1\n",
              "3259  10865       1\n",
              "3260  10868       1\n",
              "3261  10874       1\n",
              "3262  10875       1\n",
              "\n",
              "[3263 rows x 2 columns]"
            ],
            "text/html": [
              "\n",
              "  <div id=\"df-2b9f8cf3-0ac5-4230-98e6-d085a97bc769\">\n",
              "    <div class=\"colab-df-container\">\n",
              "      <div>\n",
              "<style scoped>\n",
              "    .dataframe tbody tr th:only-of-type {\n",
              "        vertical-align: middle;\n",
              "    }\n",
              "\n",
              "    .dataframe tbody tr th {\n",
              "        vertical-align: top;\n",
              "    }\n",
              "\n",
              "    .dataframe thead th {\n",
              "        text-align: right;\n",
              "    }\n",
              "</style>\n",
              "<table border=\"1\" class=\"dataframe\">\n",
              "  <thead>\n",
              "    <tr style=\"text-align: right;\">\n",
              "      <th></th>\n",
              "      <th>id</th>\n",
              "      <th>target</th>\n",
              "    </tr>\n",
              "  </thead>\n",
              "  <tbody>\n",
              "    <tr>\n",
              "      <th>0</th>\n",
              "      <td>0</td>\n",
              "      <td>1</td>\n",
              "    </tr>\n",
              "    <tr>\n",
              "      <th>1</th>\n",
              "      <td>2</td>\n",
              "      <td>1</td>\n",
              "    </tr>\n",
              "    <tr>\n",
              "      <th>2</th>\n",
              "      <td>3</td>\n",
              "      <td>1</td>\n",
              "    </tr>\n",
              "    <tr>\n",
              "      <th>3</th>\n",
              "      <td>9</td>\n",
              "      <td>1</td>\n",
              "    </tr>\n",
              "    <tr>\n",
              "      <th>4</th>\n",
              "      <td>11</td>\n",
              "      <td>1</td>\n",
              "    </tr>\n",
              "    <tr>\n",
              "      <th>...</th>\n",
              "      <td>...</td>\n",
              "      <td>...</td>\n",
              "    </tr>\n",
              "    <tr>\n",
              "      <th>3258</th>\n",
              "      <td>10861</td>\n",
              "      <td>1</td>\n",
              "    </tr>\n",
              "    <tr>\n",
              "      <th>3259</th>\n",
              "      <td>10865</td>\n",
              "      <td>1</td>\n",
              "    </tr>\n",
              "    <tr>\n",
              "      <th>3260</th>\n",
              "      <td>10868</td>\n",
              "      <td>1</td>\n",
              "    </tr>\n",
              "    <tr>\n",
              "      <th>3261</th>\n",
              "      <td>10874</td>\n",
              "      <td>1</td>\n",
              "    </tr>\n",
              "    <tr>\n",
              "      <th>3262</th>\n",
              "      <td>10875</td>\n",
              "      <td>1</td>\n",
              "    </tr>\n",
              "  </tbody>\n",
              "</table>\n",
              "<p>3263 rows × 2 columns</p>\n",
              "</div>\n",
              "      <button class=\"colab-df-convert\" onclick=\"convertToInteractive('df-2b9f8cf3-0ac5-4230-98e6-d085a97bc769')\"\n",
              "              title=\"Convert this dataframe to an interactive table.\"\n",
              "              style=\"display:none;\">\n",
              "        \n",
              "  <svg xmlns=\"http://www.w3.org/2000/svg\" height=\"24px\"viewBox=\"0 0 24 24\"\n",
              "       width=\"24px\">\n",
              "    <path d=\"M0 0h24v24H0V0z\" fill=\"none\"/>\n",
              "    <path d=\"M18.56 5.44l.94 2.06.94-2.06 2.06-.94-2.06-.94-.94-2.06-.94 2.06-2.06.94zm-11 1L8.5 8.5l.94-2.06 2.06-.94-2.06-.94L8.5 2.5l-.94 2.06-2.06.94zm10 10l.94 2.06.94-2.06 2.06-.94-2.06-.94-.94-2.06-.94 2.06-2.06.94z\"/><path d=\"M17.41 7.96l-1.37-1.37c-.4-.4-.92-.59-1.43-.59-.52 0-1.04.2-1.43.59L10.3 9.45l-7.72 7.72c-.78.78-.78 2.05 0 2.83L4 21.41c.39.39.9.59 1.41.59.51 0 1.02-.2 1.41-.59l7.78-7.78 2.81-2.81c.8-.78.8-2.07 0-2.86zM5.41 20L4 18.59l7.72-7.72 1.47 1.35L5.41 20z\"/>\n",
              "  </svg>\n",
              "      </button>\n",
              "      \n",
              "  <style>\n",
              "    .colab-df-container {\n",
              "      display:flex;\n",
              "      flex-wrap:wrap;\n",
              "      gap: 12px;\n",
              "    }\n",
              "\n",
              "    .colab-df-convert {\n",
              "      background-color: #E8F0FE;\n",
              "      border: none;\n",
              "      border-radius: 50%;\n",
              "      cursor: pointer;\n",
              "      display: none;\n",
              "      fill: #1967D2;\n",
              "      height: 32px;\n",
              "      padding: 0 0 0 0;\n",
              "      width: 32px;\n",
              "    }\n",
              "\n",
              "    .colab-df-convert:hover {\n",
              "      background-color: #E2EBFA;\n",
              "      box-shadow: 0px 1px 2px rgba(60, 64, 67, 0.3), 0px 1px 3px 1px rgba(60, 64, 67, 0.15);\n",
              "      fill: #174EA6;\n",
              "    }\n",
              "\n",
              "    [theme=dark] .colab-df-convert {\n",
              "      background-color: #3B4455;\n",
              "      fill: #D2E3FC;\n",
              "    }\n",
              "\n",
              "    [theme=dark] .colab-df-convert:hover {\n",
              "      background-color: #434B5C;\n",
              "      box-shadow: 0px 1px 3px 1px rgba(0, 0, 0, 0.15);\n",
              "      filter: drop-shadow(0px 1px 2px rgba(0, 0, 0, 0.3));\n",
              "      fill: #FFFFFF;\n",
              "    }\n",
              "  </style>\n",
              "\n",
              "      <script>\n",
              "        const buttonEl =\n",
              "          document.querySelector('#df-2b9f8cf3-0ac5-4230-98e6-d085a97bc769 button.colab-df-convert');\n",
              "        buttonEl.style.display =\n",
              "          google.colab.kernel.accessAllowed ? 'block' : 'none';\n",
              "\n",
              "        async function convertToInteractive(key) {\n",
              "          const element = document.querySelector('#df-2b9f8cf3-0ac5-4230-98e6-d085a97bc769');\n",
              "          const dataTable =\n",
              "            await google.colab.kernel.invokeFunction('convertToInteractive',\n",
              "                                                     [key], {});\n",
              "          if (!dataTable) return;\n",
              "\n",
              "          const docLinkHtml = 'Like what you see? Visit the ' +\n",
              "            '<a target=\"_blank\" href=https://colab.research.google.com/notebooks/data_table.ipynb>data table notebook</a>'\n",
              "            + ' to learn more about interactive tables.';\n",
              "          element.innerHTML = '';\n",
              "          dataTable['output_type'] = 'display_data';\n",
              "          await google.colab.output.renderOutput(dataTable, element);\n",
              "          const docLink = document.createElement('div');\n",
              "          docLink.innerHTML = docLinkHtml;\n",
              "          element.appendChild(docLink);\n",
              "        }\n",
              "      </script>\n",
              "    </div>\n",
              "  </div>\n",
              "  "
            ]
          },
          "metadata": {},
          "execution_count": 23
        }
      ]
    },
    {
      "cell_type": "code",
      "source": [
        "# Export submission DataFrame to a .csv file to submit to Kaggle\n",
        "submission.to_csv(\"submission.csv\", index=False)"
      ],
      "metadata": {
        "id": "1mAkG2zBndu5"
      },
      "execution_count": null,
      "outputs": []
    },
    {
      "cell_type": "markdown",
      "source": [
        "My submission on Kaggle had a public score of 0.79834.\n",
        "\n",
        "![Screenshot 2022-04-27 232906.png](data:image/png;base64,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)"
      ],
      "metadata": {
        "id": "B-vr-88Oo2Tm"
      }
    },
    {
      "cell_type": "markdown",
      "source": [
        "## Exercise 5\n",
        "\n",
        "Combine the ensemble predictions using the majority vote (mode), how does this perform compared to averaging the prediction probabilities of each model?"
      ],
      "metadata": {
        "id": "TcLcUtAspg4d"
      }
    },
    {
      "cell_type": "code",
      "source": [
        "# Prepare test data\n",
        "test_sentences = test_df[\"text\"].to_numpy()\n",
        "test_sentences.shape"
      ],
      "metadata": {
        "colab": {
          "base_uri": "https://localhost:8080/"
        },
        "id": "Fio3FUqVq2Y3",
        "outputId": "c5572556-4168-403b-dbc3-a479c62f1007"
      },
      "execution_count": null,
      "outputs": [
        {
          "output_type": "execute_result",
          "data": {
            "text/plain": [
              "(3263,)"
            ]
          },
          "metadata": {},
          "execution_count": 62
        }
      ]
    },
    {
      "cell_type": "code",
      "source": [
        "# Get model predictions\n",
        "def get_preds(model, sentences=val_sentences):\n",
        "  pred_probs = model.predict(sentences)\n",
        "  preds = tf.squeeze(tf.round(pred_probs))\n",
        "  preds = tf.cast(preds, tf.int32)\n",
        "\n",
        "  return preds"
      ],
      "metadata": {
        "id": "FIDYTxEMpwu7"
      },
      "execution_count": null,
      "outputs": []
    },
    {
      "cell_type": "code",
      "source": [
        "# Get predictions from model 1, 2, 5, 6\n",
        "model_1_preds = get_preds(model_1)\n",
        "model_2_preds = get_preds(model_2)\n",
        "model_5_preds = get_preds(model_5)\n",
        "model_6_preds = get_preds(model_6)"
      ],
      "metadata": {
        "id": "q7CfiLesrIkD"
      },
      "execution_count": null,
      "outputs": []
    },
    {
      "cell_type": "code",
      "source": [
        "# Create a DataFrame of predictions\n",
        "preds_df = pd.DataFrame({\"dense_model\": model_1_preds,\n",
        "                         \"LSTM_model\": model_2_preds,\n",
        "                         \"Conv1D_model\": model_5_preds,\n",
        "                         \"USE_model\": model_6_preds})\n",
        "preds_df.head()"
      ],
      "metadata": {
        "colab": {
          "base_uri": "https://localhost:8080/",
          "height": 206
        },
        "id": "cDBZqELZrx2u",
        "outputId": "f341e07e-51f2-4cd7-fb1e-74cdfababc6f"
      },
      "execution_count": null,
      "outputs": [
        {
          "output_type": "execute_result",
          "data": {
            "text/plain": [
              "   dense_model  LSTM_model  Conv1D_model  USE_model\n",
              "0            0           0             1          0\n",
              "1            1           1             0          1\n",
              "2            1           1             1          1\n",
              "3            0           0             0          0\n",
              "4            0           0             0          1"
            ],
            "text/html": [
              "\n",
              "  <div id=\"df-36b8e8ca-8f29-43a7-a720-3d6e38d31240\">\n",
              "    <div class=\"colab-df-container\">\n",
              "      <div>\n",
              "<style scoped>\n",
              "    .dataframe tbody tr th:only-of-type {\n",
              "        vertical-align: middle;\n",
              "    }\n",
              "\n",
              "    .dataframe tbody tr th {\n",
              "        vertical-align: top;\n",
              "    }\n",
              "\n",
              "    .dataframe thead th {\n",
              "        text-align: right;\n",
              "    }\n",
              "</style>\n",
              "<table border=\"1\" class=\"dataframe\">\n",
              "  <thead>\n",
              "    <tr style=\"text-align: right;\">\n",
              "      <th></th>\n",
              "      <th>dense_model</th>\n",
              "      <th>LSTM_model</th>\n",
              "      <th>Conv1D_model</th>\n",
              "      <th>USE_model</th>\n",
              "    </tr>\n",
              "  </thead>\n",
              "  <tbody>\n",
              "    <tr>\n",
              "      <th>0</th>\n",
              "      <td>0</td>\n",
              "      <td>0</td>\n",
              "      <td>1</td>\n",
              "      <td>0</td>\n",
              "    </tr>\n",
              "    <tr>\n",
              "      <th>1</th>\n",
              "      <td>1</td>\n",
              "      <td>1</td>\n",
              "      <td>0</td>\n",
              "      <td>1</td>\n",
              "    </tr>\n",
              "    <tr>\n",
              "      <th>2</th>\n",
              "      <td>1</td>\n",
              "      <td>1</td>\n",
              "      <td>1</td>\n",
              "      <td>1</td>\n",
              "    </tr>\n",
              "    <tr>\n",
              "      <th>3</th>\n",
              "      <td>0</td>\n",
              "      <td>0</td>\n",
              "      <td>0</td>\n",
              "      <td>0</td>\n",
              "    </tr>\n",
              "    <tr>\n",
              "      <th>4</th>\n",
              "      <td>0</td>\n",
              "      <td>0</td>\n",
              "      <td>0</td>\n",
              "      <td>1</td>\n",
              "    </tr>\n",
              "  </tbody>\n",
              "</table>\n",
              "</div>\n",
              "      <button class=\"colab-df-convert\" onclick=\"convertToInteractive('df-36b8e8ca-8f29-43a7-a720-3d6e38d31240')\"\n",
              "              title=\"Convert this dataframe to an interactive table.\"\n",
              "              style=\"display:none;\">\n",
              "        \n",
              "  <svg xmlns=\"http://www.w3.org/2000/svg\" height=\"24px\"viewBox=\"0 0 24 24\"\n",
              "       width=\"24px\">\n",
              "    <path d=\"M0 0h24v24H0V0z\" fill=\"none\"/>\n",
              "    <path d=\"M18.56 5.44l.94 2.06.94-2.06 2.06-.94-2.06-.94-.94-2.06-.94 2.06-2.06.94zm-11 1L8.5 8.5l.94-2.06 2.06-.94-2.06-.94L8.5 2.5l-.94 2.06-2.06.94zm10 10l.94 2.06.94-2.06 2.06-.94-2.06-.94-.94-2.06-.94 2.06-2.06.94z\"/><path d=\"M17.41 7.96l-1.37-1.37c-.4-.4-.92-.59-1.43-.59-.52 0-1.04.2-1.43.59L10.3 9.45l-7.72 7.72c-.78.78-.78 2.05 0 2.83L4 21.41c.39.39.9.59 1.41.59.51 0 1.02-.2 1.41-.59l7.78-7.78 2.81-2.81c.8-.78.8-2.07 0-2.86zM5.41 20L4 18.59l7.72-7.72 1.47 1.35L5.41 20z\"/>\n",
              "  </svg>\n",
              "      </button>\n",
              "      \n",
              "  <style>\n",
              "    .colab-df-container {\n",
              "      display:flex;\n",
              "      flex-wrap:wrap;\n",
              "      gap: 12px;\n",
              "    }\n",
              "\n",
              "    .colab-df-convert {\n",
              "      background-color: #E8F0FE;\n",
              "      border: none;\n",
              "      border-radius: 50%;\n",
              "      cursor: pointer;\n",
              "      display: none;\n",
              "      fill: #1967D2;\n",
              "      height: 32px;\n",
              "      padding: 0 0 0 0;\n",
              "      width: 32px;\n",
              "    }\n",
              "\n",
              "    .colab-df-convert:hover {\n",
              "      background-color: #E2EBFA;\n",
              "      box-shadow: 0px 1px 2px rgba(60, 64, 67, 0.3), 0px 1px 3px 1px rgba(60, 64, 67, 0.15);\n",
              "      fill: #174EA6;\n",
              "    }\n",
              "\n",
              "    [theme=dark] .colab-df-convert {\n",
              "      background-color: #3B4455;\n",
              "      fill: #D2E3FC;\n",
              "    }\n",
              "\n",
              "    [theme=dark] .colab-df-convert:hover {\n",
              "      background-color: #434B5C;\n",
              "      box-shadow: 0px 1px 3px 1px rgba(0, 0, 0, 0.15);\n",
              "      filter: drop-shadow(0px 1px 2px rgba(0, 0, 0, 0.3));\n",
              "      fill: #FFFFFF;\n",
              "    }\n",
              "  </style>\n",
              "\n",
              "      <script>\n",
              "        const buttonEl =\n",
              "          document.querySelector('#df-36b8e8ca-8f29-43a7-a720-3d6e38d31240 button.colab-df-convert');\n",
              "        buttonEl.style.display =\n",
              "          google.colab.kernel.accessAllowed ? 'block' : 'none';\n",
              "\n",
              "        async function convertToInteractive(key) {\n",
              "          const element = document.querySelector('#df-36b8e8ca-8f29-43a7-a720-3d6e38d31240');\n",
              "          const dataTable =\n",
              "            await google.colab.kernel.invokeFunction('convertToInteractive',\n",
              "                                                     [key], {});\n",
              "          if (!dataTable) return;\n",
              "\n",
              "          const docLinkHtml = 'Like what you see? Visit the ' +\n",
              "            '<a target=\"_blank\" href=https://colab.research.google.com/notebooks/data_table.ipynb>data table notebook</a>'\n",
              "            + ' to learn more about interactive tables.';\n",
              "          element.innerHTML = '';\n",
              "          dataTable['output_type'] = 'display_data';\n",
              "          await google.colab.output.renderOutput(dataTable, element);\n",
              "          const docLink = document.createElement('div');\n",
              "          docLink.innerHTML = docLinkHtml;\n",
              "          element.appendChild(docLink);\n",
              "        }\n",
              "      </script>\n",
              "    </div>\n",
              "  </div>\n",
              "  "
            ]
          },
          "metadata": {},
          "execution_count": 83
        }
      ]
    },
    {
      "cell_type": "code",
      "source": [
        "# Majority voted predictions of our model\n",
        "preds_df[\"majority_voted_preds\"] = preds_df.mode(axis=1)[0] # get mode of each row\n",
        "preds_df"
      ],
      "metadata": {
        "colab": {
          "base_uri": "https://localhost:8080/",
          "height": 423
        },
        "id": "Z-UdSvqOthMq",
        "outputId": "f3269b70-459f-4753-89d3-4d190b0be9b0"
      },
      "execution_count": null,
      "outputs": [
        {
          "output_type": "execute_result",
          "data": {
            "text/plain": [
              "     dense_model  LSTM_model  Conv1D_model  USE_model  majority_voted_preds\n",
              "0              0           0             1          0                   0.0\n",
              "1              1           1             0          1                   1.0\n",
              "2              1           1             1          1                   1.0\n",
              "3              0           0             0          0                   0.0\n",
              "4              0           0             0          1                   0.0\n",
              "..           ...         ...           ...        ...                   ...\n",
              "757            0           1             0          0                   0.0\n",
              "758            0           0             0          0                   0.0\n",
              "759            1           1             0          1                   1.0\n",
              "760            0           0             0          1                   0.0\n",
              "761            0           0             0          0                   0.0\n",
              "\n",
              "[762 rows x 5 columns]"
            ],
            "text/html": [
              "\n",
              "  <div id=\"df-03caa7f6-af72-408f-ae74-36af0b040753\">\n",
              "    <div class=\"colab-df-container\">\n",
              "      <div>\n",
              "<style scoped>\n",
              "    .dataframe tbody tr th:only-of-type {\n",
              "        vertical-align: middle;\n",
              "    }\n",
              "\n",
              "    .dataframe tbody tr th {\n",
              "        vertical-align: top;\n",
              "    }\n",
              "\n",
              "    .dataframe thead th {\n",
              "        text-align: right;\n",
              "    }\n",
              "</style>\n",
              "<table border=\"1\" class=\"dataframe\">\n",
              "  <thead>\n",
              "    <tr style=\"text-align: right;\">\n",
              "      <th></th>\n",
              "      <th>dense_model</th>\n",
              "      <th>LSTM_model</th>\n",
              "      <th>Conv1D_model</th>\n",
              "      <th>USE_model</th>\n",
              "      <th>majority_voted_preds</th>\n",
              "    </tr>\n",
              "  </thead>\n",
              "  <tbody>\n",
              "    <tr>\n",
              "      <th>0</th>\n",
              "      <td>0</td>\n",
              "      <td>0</td>\n",
              "      <td>1</td>\n",
              "      <td>0</td>\n",
              "      <td>0.0</td>\n",
              "    </tr>\n",
              "    <tr>\n",
              "      <th>1</th>\n",
              "      <td>1</td>\n",
              "      <td>1</td>\n",
              "      <td>0</td>\n",
              "      <td>1</td>\n",
              "      <td>1.0</td>\n",
              "    </tr>\n",
              "    <tr>\n",
              "      <th>2</th>\n",
              "      <td>1</td>\n",
              "      <td>1</td>\n",
              "      <td>1</td>\n",
              "      <td>1</td>\n",
              "      <td>1.0</td>\n",
              "    </tr>\n",
              "    <tr>\n",
              "      <th>3</th>\n",
              "      <td>0</td>\n",
              "      <td>0</td>\n",
              "      <td>0</td>\n",
              "      <td>0</td>\n",
              "      <td>0.0</td>\n",
              "    </tr>\n",
              "    <tr>\n",
              "      <th>4</th>\n",
              "      <td>0</td>\n",
              "      <td>0</td>\n",
              "      <td>0</td>\n",
              "      <td>1</td>\n",
              "      <td>0.0</td>\n",
              "    </tr>\n",
              "    <tr>\n",
              "      <th>...</th>\n",
              "      <td>...</td>\n",
              "      <td>...</td>\n",
              "      <td>...</td>\n",
              "      <td>...</td>\n",
              "      <td>...</td>\n",
              "    </tr>\n",
              "    <tr>\n",
              "      <th>757</th>\n",
              "      <td>0</td>\n",
              "      <td>1</td>\n",
              "      <td>0</td>\n",
              "      <td>0</td>\n",
              "      <td>0.0</td>\n",
              "    </tr>\n",
              "    <tr>\n",
              "      <th>758</th>\n",
              "      <td>0</td>\n",
              "      <td>0</td>\n",
              "      <td>0</td>\n",
              "      <td>0</td>\n",
              "      <td>0.0</td>\n",
              "    </tr>\n",
              "    <tr>\n",
              "      <th>759</th>\n",
              "      <td>1</td>\n",
              "      <td>1</td>\n",
              "      <td>0</td>\n",
              "      <td>1</td>\n",
              "      <td>1.0</td>\n",
              "    </tr>\n",
              "    <tr>\n",
              "      <th>760</th>\n",
              "      <td>0</td>\n",
              "      <td>0</td>\n",
              "      <td>0</td>\n",
              "      <td>1</td>\n",
              "      <td>0.0</td>\n",
              "    </tr>\n",
              "    <tr>\n",
              "      <th>761</th>\n",
              "      <td>0</td>\n",
              "      <td>0</td>\n",
              "      <td>0</td>\n",
              "      <td>0</td>\n",
              "      <td>0.0</td>\n",
              "    </tr>\n",
              "  </tbody>\n",
              "</table>\n",
              "<p>762 rows × 5 columns</p>\n",
              "</div>\n",
              "      <button class=\"colab-df-convert\" onclick=\"convertToInteractive('df-03caa7f6-af72-408f-ae74-36af0b040753')\"\n",
              "              title=\"Convert this dataframe to an interactive table.\"\n",
              "              style=\"display:none;\">\n",
              "        \n",
              "  <svg xmlns=\"http://www.w3.org/2000/svg\" height=\"24px\"viewBox=\"0 0 24 24\"\n",
              "       width=\"24px\">\n",
              "    <path d=\"M0 0h24v24H0V0z\" fill=\"none\"/>\n",
              "    <path d=\"M18.56 5.44l.94 2.06.94-2.06 2.06-.94-2.06-.94-.94-2.06-.94 2.06-2.06.94zm-11 1L8.5 8.5l.94-2.06 2.06-.94-2.06-.94L8.5 2.5l-.94 2.06-2.06.94zm10 10l.94 2.06.94-2.06 2.06-.94-2.06-.94-.94-2.06-.94 2.06-2.06.94z\"/><path d=\"M17.41 7.96l-1.37-1.37c-.4-.4-.92-.59-1.43-.59-.52 0-1.04.2-1.43.59L10.3 9.45l-7.72 7.72c-.78.78-.78 2.05 0 2.83L4 21.41c.39.39.9.59 1.41.59.51 0 1.02-.2 1.41-.59l7.78-7.78 2.81-2.81c.8-.78.8-2.07 0-2.86zM5.41 20L4 18.59l7.72-7.72 1.47 1.35L5.41 20z\"/>\n",
              "  </svg>\n",
              "      </button>\n",
              "      \n",
              "  <style>\n",
              "    .colab-df-container {\n",
              "      display:flex;\n",
              "      flex-wrap:wrap;\n",
              "      gap: 12px;\n",
              "    }\n",
              "\n",
              "    .colab-df-convert {\n",
              "      background-color: #E8F0FE;\n",
              "      border: none;\n",
              "      border-radius: 50%;\n",
              "      cursor: pointer;\n",
              "      display: none;\n",
              "      fill: #1967D2;\n",
              "      height: 32px;\n",
              "      padding: 0 0 0 0;\n",
              "      width: 32px;\n",
              "    }\n",
              "\n",
              "    .colab-df-convert:hover {\n",
              "      background-color: #E2EBFA;\n",
              "      box-shadow: 0px 1px 2px rgba(60, 64, 67, 0.3), 0px 1px 3px 1px rgba(60, 64, 67, 0.15);\n",
              "      fill: #174EA6;\n",
              "    }\n",
              "\n",
              "    [theme=dark] .colab-df-convert {\n",
              "      background-color: #3B4455;\n",
              "      fill: #D2E3FC;\n",
              "    }\n",
              "\n",
              "    [theme=dark] .colab-df-convert:hover {\n",
              "      background-color: #434B5C;\n",
              "      box-shadow: 0px 1px 3px 1px rgba(0, 0, 0, 0.15);\n",
              "      filter: drop-shadow(0px 1px 2px rgba(0, 0, 0, 0.3));\n",
              "      fill: #FFFFFF;\n",
              "    }\n",
              "  </style>\n",
              "\n",
              "      <script>\n",
              "        const buttonEl =\n",
              "          document.querySelector('#df-03caa7f6-af72-408f-ae74-36af0b040753 button.colab-df-convert');\n",
              "        buttonEl.style.display =\n",
              "          google.colab.kernel.accessAllowed ? 'block' : 'none';\n",
              "\n",
              "        async function convertToInteractive(key) {\n",
              "          const element = document.querySelector('#df-03caa7f6-af72-408f-ae74-36af0b040753');\n",
              "          const dataTable =\n",
              "            await google.colab.kernel.invokeFunction('convertToInteractive',\n",
              "                                                     [key], {});\n",
              "          if (!dataTable) return;\n",
              "\n",
              "          const docLinkHtml = 'Like what you see? Visit the ' +\n",
              "            '<a target=\"_blank\" href=https://colab.research.google.com/notebooks/data_table.ipynb>data table notebook</a>'\n",
              "            + ' to learn more about interactive tables.';\n",
              "          element.innerHTML = '';\n",
              "          dataTable['output_type'] = 'display_data';\n",
              "          await google.colab.output.renderOutput(dataTable, element);\n",
              "          const docLink = document.createElement('div');\n",
              "          docLink.innerHTML = docLinkHtml;\n",
              "          element.appendChild(docLink);\n",
              "        }\n",
              "      </script>\n",
              "    </div>\n",
              "  </div>\n",
              "  "
            ]
          },
          "metadata": {},
          "execution_count": 84
        }
      ]
    },
    {
      "cell_type": "code",
      "source": [
        "# Convert mode predictions to a numpy array\n",
        "mode_preds = preds_df[\"majority_voted_preds\"].to_numpy()"
      ],
      "metadata": {
        "colab": {
          "base_uri": "https://localhost:8080/"
        },
        "id": "cxKMGMmPwaQj",
        "outputId": "a13cc074-ae5e-4429-cd7b-1bc350703941"
      },
      "execution_count": null,
      "outputs": [
        {
          "output_type": "execute_result",
          "data": {
            "text/plain": [
              "TensorShape([762])"
            ]
          },
          "metadata": {},
          "execution_count": 91
        }
      ]
    },
    {
      "cell_type": "code",
      "source": [
        "# Evalute mode predictions\n",
        "calculate_results(val_labels, mode_preds)"
      ],
      "metadata": {
        "colab": {
          "base_uri": "https://localhost:8080/"
        },
        "id": "GP94CHpBxxTj",
        "outputId": "e654c832-cddc-4ec1-c08d-bcade7b92064"
      },
      "execution_count": null,
      "outputs": [
        {
          "output_type": "execute_result",
          "data": {
            "text/plain": [
              "{'accuracy': 80.0524934383202,\n",
              " 'f1': 0.7958480716330087,\n",
              " 'precision': 0.8131705235318867,\n",
              " 'recall': 0.800524934383202}"
            ]
          },
          "metadata": {},
          "execution_count": 92
        }
      ]
    },
    {
      "cell_type": "markdown",
      "source": [
        "## Exercise 6\n",
        "\n",
        "Make a confusion matrix with the best performing model's predictions on the validation set and the validation ground truth labels."
      ],
      "metadata": {
        "id": "udj7T2qVxSJJ"
      }
    },
    {
      "cell_type": "markdown",
      "source": [
        "The best model is `model_submission`."
      ],
      "metadata": {
        "id": "7aGkaA0JyLTQ"
      }
    },
    {
      "cell_type": "code",
      "source": [
        "model_submission_pred_probs = model_submission.predict(val_sentences)\n",
        "model_submission_preds = tf.squeeze(tf.round(model_submission_pred_probs))"
      ],
      "metadata": {
        "id": "qI_lwToO1o_R"
      },
      "execution_count": null,
      "outputs": []
    },
    {
      "cell_type": "code",
      "source": [
        "from helper_functions import make_confusion_matrix"
      ],
      "metadata": {
        "id": "TAo7YnRW0dYm"
      },
      "execution_count": null,
      "outputs": []
    },
    {
      "cell_type": "code",
      "source": [
        "class_names = [\"not a disaster\", \"disaster\"]"
      ],
      "metadata": {
        "id": "VCDQf0gu2Net"
      },
      "execution_count": null,
      "outputs": []
    },
    {
      "cell_type": "code",
      "source": [
        "make_confusion_matrix(y_true=val_labels,\n",
        "                      y_pred=model_submission_preds,\n",
        "                      classes=class_names,\n",
        "                      savefig=True)"
      ],
      "metadata": {
        "colab": {
          "base_uri": "https://localhost:8080/",
          "height": 580
        },
        "id": "gVhPok3z0gjI",
        "outputId": "cb35abc7-ade0-4a34-93a5-e474f968208c"
      },
      "execution_count": null,
      "outputs": [
        {
          "output_type": "display_data",
          "data": {
            "text/plain": [
              "<Figure size 720x720 with 2 Axes>"
            ],
            "image/png": "[encoded data removed]"
          },
          "metadata": {
            "needs_background": "light"
          }
        }
      ]
    }
  ]
}